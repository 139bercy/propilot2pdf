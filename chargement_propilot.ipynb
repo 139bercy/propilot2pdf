{
 "cells": [
  {
   "cell_type": "code",
   "execution_count": 3,
   "id": "continent-semiconductor",
   "metadata": {},
   "outputs": [],
   "source": [
    "import os\n",
    "import pandas as pd"
   ]
  },
  {
   "cell_type": "code",
   "execution_count": 4,
   "id": "attractive-cameroon",
   "metadata": {},
   "outputs": [],
   "source": [
    "propilot_path = os.path.join(\"data\", \"data_propilot\")"
   ]
  },
  {
   "cell_type": "code",
   "execution_count": 30,
   "id": "running-module",
   "metadata": {},
   "outputs": [],
   "source": [
    "df_effects = pd.read_csv(os.path.join(propilot_path, \"dim_effects_202101281645.csv\"), sep=\";\")\n",
    "df_maturities = pd.read_csv(os.path.join(propilot_path, \"dim_maturities_202101281645.csv\"), sep=\";\")\n",
    "df_periods = pd.read_csv(os.path.join(propilot_path, \"dim_periods_202101281645.csv\"), sep=\";\")\n",
    "df_properties = pd.read_csv(os.path.join(propilot_path, \"dim_properties_202101281645.csv\"), sep=\";\")\n",
    "df_snapshots = pd.read_csv(os.path.join(propilot_path, \"dim_snapshots_202101281645.csv\"), sep=\";\")\n",
    "df_states = pd.read_csv(os.path.join(propilot_path, \"dim_states_202101281645.csv\"), sep=\";\")\n",
    "df_structures = pd.read_csv(os.path.join(propilot_path, \"dim_structures_202101281645.csv\"), sep=\";\")\n",
    "df_top_levels = pd.read_csv(os.path.join(propilot_path, \"dim_top_levels_202101281645.csv\"), sep=\";\")\n",
    "df_tree_nodes = pd.read_csv(os.path.join(propilot_path, \"dim_tree_nodes_202101281645.csv\"), sep=\";\")\n",
    "df_facts_financials = pd.read_csv(os.path.join(propilot_path, \"fact_financials_202101281645.csv\"), sep=\";\")\n",
    "df_property_values = pd.read_csv(os.path.join(propilot_path, \"fact_property_values_202101281645.csv\"), sep=\";\")"
   ]
  },
  {
   "cell_type": "code",
   "execution_count": 31,
   "id": "infrared-niger",
   "metadata": {},
   "outputs": [],
   "source": [
    "df = (df_facts_financials\n",
    "      .merge(df_tree_nodes, left_on=\"tree_node_id\", right_on=\"tree_node_id\")\n",
    "      .merge(df_effects, left_on=\"effect_id\", right_on=\"effect_id\")\n",
    "      .merge(df_states, left_on=\"state_id\", right_on=\"state_id\")\n",
    "      .merge(df_periods, left_on=\"period_id\", right_on=\"period_id\")\n",
    "      .merge(df_structures, left_on=\"structure_id\", right_on=\"structure_id\"))"
   ]
  },
  {
   "cell_type": "code",
   "execution_count": 32,
   "id": "jewish-undergraduate",
   "metadata": {},
   "outputs": [],
   "source": [
    "cols = [\"tree_node_name\", \"structure_name\", \"effect_id\", \"state_display_name\", \"period_date\", \"financials_cumulated_amount\"]"
   ]
  },
  {
   "cell_type": "code",
   "execution_count": 57,
   "id": "separated-factor",
   "metadata": {},
   "outputs": [],
   "source": [
    "mask = (\n",
    "    (df.structure_name==\"Département\") & \n",
    "    (df.effect_id == \"Nombre de TPE/PME/ETI bénéficiaires - APR\") &\n",
    "    (df.period_date == \"2020-12-31 23:59:59\")\n",
    ")"
   ]
  },
  {
   "cell_type": "code",
   "execution_count": 67,
   "id": "built-walnut",
   "metadata": {},
   "outputs": [],
   "source": [
    "# filter on columns and rows\n",
    "df=df[cols]\n",
    "df_final = df.loc[mask].copy()"
   ]
  },
  {
   "cell_type": "code",
   "execution_count": 68,
   "id": "brilliant-solomon",
   "metadata": {},
   "outputs": [
    {
     "data": {
      "text/plain": [
       "(109, 6)"
      ]
     },
     "execution_count": 68,
     "metadata": {},
     "output_type": "execute_result"
    }
   ],
   "source": [
    "df_final.shape"
   ]
  },
  {
   "cell_type": "code",
   "execution_count": 69,
   "id": "nutritional-negotiation",
   "metadata": {},
   "outputs": [
    {
     "data": {
      "text/html": [
       "<div>\n",
       "<style scoped>\n",
       "    .dataframe tbody tr th:only-of-type {\n",
       "        vertical-align: middle;\n",
       "    }\n",
       "\n",
       "    .dataframe tbody tr th {\n",
       "        vertical-align: top;\n",
       "    }\n",
       "\n",
       "    .dataframe thead th {\n",
       "        text-align: right;\n",
       "    }\n",
       "</style>\n",
       "<table border=\"1\" class=\"dataframe\">\n",
       "  <thead>\n",
       "    <tr style=\"text-align: right;\">\n",
       "      <th></th>\n",
       "      <th>tree_node_name</th>\n",
       "      <th>structure_name</th>\n",
       "      <th>effect_id</th>\n",
       "      <th>state_display_name</th>\n",
       "      <th>period_date</th>\n",
       "      <th>financials_cumulated_amount</th>\n",
       "    </tr>\n",
       "  </thead>\n",
       "  <tbody>\n",
       "    <tr>\n",
       "      <th>1276</th>\n",
       "      <td>Ille-et-Vilaine / Assurance prospection</td>\n",
       "      <td>Département</td>\n",
       "      <td>Nombre de TPE/PME/ETI bénéficiaires - APR</td>\n",
       "      <td>Valeur Actuelle</td>\n",
       "      <td>2020-12-31 23:59:59</td>\n",
       "      <td>5</td>\n",
       "    </tr>\n",
       "    <tr>\n",
       "      <th>1277</th>\n",
       "      <td>Eure-et-Loir / Assurance prospection</td>\n",
       "      <td>Département</td>\n",
       "      <td>Nombre de TPE/PME/ETI bénéficiaires - APR</td>\n",
       "      <td>Valeur Actuelle</td>\n",
       "      <td>2020-12-31 23:59:59</td>\n",
       "      <td>2</td>\n",
       "    </tr>\n",
       "    <tr>\n",
       "      <th>1278</th>\n",
       "      <td>Hautes-Alpes / Assurance prospection</td>\n",
       "      <td>Département</td>\n",
       "      <td>Nombre de TPE/PME/ETI bénéficiaires - APR</td>\n",
       "      <td>Valeur Actuelle</td>\n",
       "      <td>2020-12-31 23:59:59</td>\n",
       "      <td>0</td>\n",
       "    </tr>\n",
       "    <tr>\n",
       "      <th>1279</th>\n",
       "      <td>Saint-Martin / Assurance prospection</td>\n",
       "      <td>Département</td>\n",
       "      <td>Nombre de TPE/PME/ETI bénéficiaires - APR</td>\n",
       "      <td>Valeur Actuelle</td>\n",
       "      <td>2020-12-31 23:59:59</td>\n",
       "      <td>0</td>\n",
       "    </tr>\n",
       "    <tr>\n",
       "      <th>1280</th>\n",
       "      <td>Cher / Assurance prospection</td>\n",
       "      <td>Département</td>\n",
       "      <td>Nombre de TPE/PME/ETI bénéficiaires - APR</td>\n",
       "      <td>Valeur Actuelle</td>\n",
       "      <td>2020-12-31 23:59:59</td>\n",
       "      <td>1</td>\n",
       "    </tr>\n",
       "  </tbody>\n",
       "</table>\n",
       "</div>"
      ],
      "text/plain": [
       "                               tree_node_name structure_name  \\\n",
       "1276  Ille-et-Vilaine / Assurance prospection    Département   \n",
       "1277     Eure-et-Loir / Assurance prospection    Département   \n",
       "1278     Hautes-Alpes / Assurance prospection    Département   \n",
       "1279     Saint-Martin / Assurance prospection    Département   \n",
       "1280             Cher / Assurance prospection    Département   \n",
       "\n",
       "                                      effect_id state_display_name  \\\n",
       "1276  Nombre de TPE/PME/ETI bénéficiaires - APR    Valeur Actuelle   \n",
       "1277  Nombre de TPE/PME/ETI bénéficiaires - APR    Valeur Actuelle   \n",
       "1278  Nombre de TPE/PME/ETI bénéficiaires - APR    Valeur Actuelle   \n",
       "1279  Nombre de TPE/PME/ETI bénéficiaires - APR    Valeur Actuelle   \n",
       "1280  Nombre de TPE/PME/ETI bénéficiaires - APR    Valeur Actuelle   \n",
       "\n",
       "              period_date  financials_cumulated_amount  \n",
       "1276  2020-12-31 23:59:59                            5  \n",
       "1277  2020-12-31 23:59:59                            2  \n",
       "1278  2020-12-31 23:59:59                            0  \n",
       "1279  2020-12-31 23:59:59                            0  \n",
       "1280  2020-12-31 23:59:59                            1  "
      ]
     },
     "execution_count": 69,
     "metadata": {},
     "output_type": "execute_result"
    }
   ],
   "source": [
    "df_final.head()"
   ]
  },
  {
   "cell_type": "code",
   "execution_count": 70,
   "id": "numerous-motion",
   "metadata": {},
   "outputs": [],
   "source": [
    "df_final[[\"Departement\"]] = df_final[\"tree_node_name\"].apply(lambda x: x.split(\"/\")[0].strip())"
   ]
  },
  {
   "cell_type": "code",
   "execution_count": 71,
   "id": "mineral-split",
   "metadata": {},
   "outputs": [
    {
     "data": {
      "text/html": [
       "<div>\n",
       "<style scoped>\n",
       "    .dataframe tbody tr th:only-of-type {\n",
       "        vertical-align: middle;\n",
       "    }\n",
       "\n",
       "    .dataframe tbody tr th {\n",
       "        vertical-align: top;\n",
       "    }\n",
       "\n",
       "    .dataframe thead th {\n",
       "        text-align: right;\n",
       "    }\n",
       "</style>\n",
       "<table border=\"1\" class=\"dataframe\">\n",
       "  <thead>\n",
       "    <tr style=\"text-align: right;\">\n",
       "      <th></th>\n",
       "      <th>tree_node_name</th>\n",
       "      <th>structure_name</th>\n",
       "      <th>effect_id</th>\n",
       "      <th>state_display_name</th>\n",
       "      <th>period_date</th>\n",
       "      <th>financials_cumulated_amount</th>\n",
       "      <th>Departement</th>\n",
       "    </tr>\n",
       "  </thead>\n",
       "  <tbody>\n",
       "    <tr>\n",
       "      <th>1308</th>\n",
       "      <td>Paris / Assurance prospection</td>\n",
       "      <td>Département</td>\n",
       "      <td>Nombre de TPE/PME/ETI bénéficiaires - APR</td>\n",
       "      <td>Valeur Actuelle</td>\n",
       "      <td>2020-12-31 23:59:59</td>\n",
       "      <td>64</td>\n",
       "      <td>Paris</td>\n",
       "    </tr>\n",
       "    <tr>\n",
       "      <th>1320</th>\n",
       "      <td>Hauts-de-Seine / Assurance prospection</td>\n",
       "      <td>Département</td>\n",
       "      <td>Nombre de TPE/PME/ETI bénéficiaires - APR</td>\n",
       "      <td>Valeur Actuelle</td>\n",
       "      <td>2020-12-31 23:59:59</td>\n",
       "      <td>22</td>\n",
       "      <td>Hauts-de-Seine</td>\n",
       "    </tr>\n",
       "    <tr>\n",
       "      <th>1312</th>\n",
       "      <td>Bouches-du-Rhône / Assurance prospection</td>\n",
       "      <td>Département</td>\n",
       "      <td>Nombre de TPE/PME/ETI bénéficiaires - APR</td>\n",
       "      <td>Valeur Actuelle</td>\n",
       "      <td>2020-12-31 23:59:59</td>\n",
       "      <td>18</td>\n",
       "      <td>Bouches-du-Rhône</td>\n",
       "    </tr>\n",
       "    <tr>\n",
       "      <th>1367</th>\n",
       "      <td>Rhône / Assurance prospection</td>\n",
       "      <td>Département</td>\n",
       "      <td>Nombre de TPE/PME/ETI bénéficiaires - APR</td>\n",
       "      <td>Valeur Actuelle</td>\n",
       "      <td>2020-12-31 23:59:59</td>\n",
       "      <td>16</td>\n",
       "      <td>Rhône</td>\n",
       "    </tr>\n",
       "    <tr>\n",
       "      <th>1281</th>\n",
       "      <td>Nord / Assurance prospection</td>\n",
       "      <td>Département</td>\n",
       "      <td>Nombre de TPE/PME/ETI bénéficiaires - APR</td>\n",
       "      <td>Valeur Actuelle</td>\n",
       "      <td>2020-12-31 23:59:59</td>\n",
       "      <td>15</td>\n",
       "      <td>Nord</td>\n",
       "    </tr>\n",
       "    <tr>\n",
       "      <th>...</th>\n",
       "      <td>...</td>\n",
       "      <td>...</td>\n",
       "      <td>...</td>\n",
       "      <td>...</td>\n",
       "      <td>...</td>\n",
       "      <td>...</td>\n",
       "      <td>...</td>\n",
       "    </tr>\n",
       "    <tr>\n",
       "      <th>1309</th>\n",
       "      <td>Corse-du-Sud / Assurance prospection</td>\n",
       "      <td>Département</td>\n",
       "      <td>Nombre de TPE/PME/ETI bénéficiaires - APR</td>\n",
       "      <td>Valeur Actuelle</td>\n",
       "      <td>2020-12-31 23:59:59</td>\n",
       "      <td>0</td>\n",
       "      <td>Corse-du-Sud</td>\n",
       "    </tr>\n",
       "    <tr>\n",
       "      <th>1307</th>\n",
       "      <td>Nouvelle-Calédonie / Assurance prospection</td>\n",
       "      <td>Département</td>\n",
       "      <td>Nombre de TPE/PME/ETI bénéficiaires - APR</td>\n",
       "      <td>Valeur Actuelle</td>\n",
       "      <td>2020-12-31 23:59:59</td>\n",
       "      <td>0</td>\n",
       "      <td>Nouvelle-Calédonie</td>\n",
       "    </tr>\n",
       "    <tr>\n",
       "      <th>1305</th>\n",
       "      <td>Martinique / Assurance prospection</td>\n",
       "      <td>Département</td>\n",
       "      <td>Nombre de TPE/PME/ETI bénéficiaires - APR</td>\n",
       "      <td>Valeur Actuelle</td>\n",
       "      <td>2020-12-31 23:59:59</td>\n",
       "      <td>0</td>\n",
       "      <td>Martinique</td>\n",
       "    </tr>\n",
       "    <tr>\n",
       "      <th>1359</th>\n",
       "      <td>Territoire de Belfort / Assurance prospection</td>\n",
       "      <td>Département</td>\n",
       "      <td>Nombre de TPE/PME/ETI bénéficiaires - APR</td>\n",
       "      <td>Valeur Actuelle</td>\n",
       "      <td>2020-12-31 23:59:59</td>\n",
       "      <td>0</td>\n",
       "      <td>Territoire de Belfort</td>\n",
       "    </tr>\n",
       "    <tr>\n",
       "      <th>1330</th>\n",
       "      <td>Orne / Assurance prospection</td>\n",
       "      <td>Département</td>\n",
       "      <td>Nombre de TPE/PME/ETI bénéficiaires - APR</td>\n",
       "      <td>Valeur Actuelle</td>\n",
       "      <td>2020-12-31 23:59:59</td>\n",
       "      <td>0</td>\n",
       "      <td>Orne</td>\n",
       "    </tr>\n",
       "  </tbody>\n",
       "</table>\n",
       "<p>109 rows × 7 columns</p>\n",
       "</div>"
      ],
      "text/plain": [
       "                                     tree_node_name structure_name  \\\n",
       "1308                  Paris / Assurance prospection    Département   \n",
       "1320         Hauts-de-Seine / Assurance prospection    Département   \n",
       "1312       Bouches-du-Rhône / Assurance prospection    Département   \n",
       "1367                  Rhône / Assurance prospection    Département   \n",
       "1281                   Nord / Assurance prospection    Département   \n",
       "...                                             ...            ...   \n",
       "1309           Corse-du-Sud / Assurance prospection    Département   \n",
       "1307     Nouvelle-Calédonie / Assurance prospection    Département   \n",
       "1305             Martinique / Assurance prospection    Département   \n",
       "1359  Territoire de Belfort / Assurance prospection    Département   \n",
       "1330                   Orne / Assurance prospection    Département   \n",
       "\n",
       "                                      effect_id state_display_name  \\\n",
       "1308  Nombre de TPE/PME/ETI bénéficiaires - APR    Valeur Actuelle   \n",
       "1320  Nombre de TPE/PME/ETI bénéficiaires - APR    Valeur Actuelle   \n",
       "1312  Nombre de TPE/PME/ETI bénéficiaires - APR    Valeur Actuelle   \n",
       "1367  Nombre de TPE/PME/ETI bénéficiaires - APR    Valeur Actuelle   \n",
       "1281  Nombre de TPE/PME/ETI bénéficiaires - APR    Valeur Actuelle   \n",
       "...                                         ...                ...   \n",
       "1309  Nombre de TPE/PME/ETI bénéficiaires - APR    Valeur Actuelle   \n",
       "1307  Nombre de TPE/PME/ETI bénéficiaires - APR    Valeur Actuelle   \n",
       "1305  Nombre de TPE/PME/ETI bénéficiaires - APR    Valeur Actuelle   \n",
       "1359  Nombre de TPE/PME/ETI bénéficiaires - APR    Valeur Actuelle   \n",
       "1330  Nombre de TPE/PME/ETI bénéficiaires - APR    Valeur Actuelle   \n",
       "\n",
       "              period_date  financials_cumulated_amount            Departement  \n",
       "1308  2020-12-31 23:59:59                           64                  Paris  \n",
       "1320  2020-12-31 23:59:59                           22         Hauts-de-Seine  \n",
       "1312  2020-12-31 23:59:59                           18       Bouches-du-Rhône  \n",
       "1367  2020-12-31 23:59:59                           16                  Rhône  \n",
       "1281  2020-12-31 23:59:59                           15                   Nord  \n",
       "...                   ...                          ...                    ...  \n",
       "1309  2020-12-31 23:59:59                            0           Corse-du-Sud  \n",
       "1307  2020-12-31 23:59:59                            0     Nouvelle-Calédonie  \n",
       "1305  2020-12-31 23:59:59                            0             Martinique  \n",
       "1359  2020-12-31 23:59:59                            0  Territoire de Belfort  \n",
       "1330  2020-12-31 23:59:59                            0                   Orne  \n",
       "\n",
       "[109 rows x 7 columns]"
      ]
     },
     "execution_count": 71,
     "metadata": {},
     "output_type": "execute_result"
    }
   ],
   "source": [
    "df_final.sort_values(\"financials_cumulated_amount\", ascending=False)"
   ]
  },
  {
   "cell_type": "code",
   "execution_count": 72,
   "id": "experimental-treasure",
   "metadata": {},
   "outputs": [
    {
     "data": {
      "text/plain": [
       "array(['Nombre de TPE/PME/ETI bénéficiaires - APR',\n",
       "       'Nombre de TPE/PME/ETI bénéficiaires - SBF',\n",
       "       'Nombre d’entreprises bénéficiares - SBF',\n",
       "       \"Nombre d'accompagnements dispensés - FUM\",\n",
       "       'Nombre de TPE/PME/ETI bénéficiaires - SAC',\n",
       "       'Nombre d’entreprises bénéficiares - SAC',\n",
       "       'Montant total des projets - SAC',\n",
       "       'Nombre de TPE/PME/ETI bénéficiaires - PIT',\n",
       "       'Nombre d’entreprises bénéficiares - PIT',\n",
       "       'Montant total des projets - PIT',\n",
       "       'Emissions de gaz à effet de serre évitées sur la durée de vie des équipements - PEE',\n",
       "       'Nombre d’entreprises ayant reçu l’aide - PEE',\n",
       "       'Montant cumulé de l’investissement total ainsi déclenché - PEE',\n",
       "       'Nombre de projets soutenus - DGA',\n",
       "       'Nombre d’entreprises ayant reçu l’aide - EEI',\n",
       "       'Nombre de PME/TPE - EEI',\n",
       "       'Nombre de nouveaux projets (nouvelle ligne, extension de ligne et pôle) - TCI',\n",
       "       'Nombre de projets soutenus - ETH',\n",
       "       'Montant total de CO2 évité - ETH',\n",
       "       'Nombre d’entrées en service civique - SCI',\n",
       "       'Nombre de chantiers engagés (écluses stations pompages, barrages) - VNA',\n",
       "       'Nombre de véhicules électriques et hybrides rechargeables achetés - VAI',\n",
       "       'Montant des fonds labellisés - GFP',\n",
       "       'Nombre de fonds labellisés - GFP'], dtype=object)"
      ]
     },
     "execution_count": 72,
     "metadata": {},
     "output_type": "execute_result"
    }
   ],
   "source": [
    "df.effect_id.unique()"
   ]
  },
  {
   "cell_type": "code",
   "execution_count": 79,
   "id": "combined-chrome",
   "metadata": {},
   "outputs": [
    {
     "data": {
      "text/html": [
       "<div>\n",
       "<style scoped>\n",
       "    .dataframe tbody tr th:only-of-type {\n",
       "        vertical-align: middle;\n",
       "    }\n",
       "\n",
       "    .dataframe tbody tr th {\n",
       "        vertical-align: top;\n",
       "    }\n",
       "\n",
       "    .dataframe thead th {\n",
       "        text-align: right;\n",
       "    }\n",
       "</style>\n",
       "<table border=\"1\" class=\"dataframe\">\n",
       "  <thead>\n",
       "    <tr style=\"text-align: right;\">\n",
       "      <th></th>\n",
       "      <th>tree_node_name</th>\n",
       "      <th>structure_name</th>\n",
       "      <th>effect_id</th>\n",
       "      <th>state_display_name</th>\n",
       "      <th>period_date</th>\n",
       "      <th>financials_cumulated_amount</th>\n",
       "      <th>Departement</th>\n",
       "    </tr>\n",
       "  </thead>\n",
       "  <tbody>\n",
       "    <tr>\n",
       "      <th>1350</th>\n",
       "      <td>Ain / Assurance prospection</td>\n",
       "      <td>Département</td>\n",
       "      <td>Nombre de TPE/PME/ETI bénéficiaires - APR</td>\n",
       "      <td>Valeur Actuelle</td>\n",
       "      <td>2020-12-31 23:59:59</td>\n",
       "      <td>9</td>\n",
       "      <td>Ain</td>\n",
       "    </tr>\n",
       "  </tbody>\n",
       "</table>\n",
       "</div>"
      ],
      "text/plain": [
       "                   tree_node_name structure_name  \\\n",
       "1350  Ain / Assurance prospection    Département   \n",
       "\n",
       "                                      effect_id state_display_name  \\\n",
       "1350  Nombre de TPE/PME/ETI bénéficiaires - APR    Valeur Actuelle   \n",
       "\n",
       "              period_date  financials_cumulated_amount Departement  \n",
       "1350  2020-12-31 23:59:59                            9         Ain  "
      ]
     },
     "execution_count": 79,
     "metadata": {},
     "output_type": "execute_result"
    }
   ],
   "source": [
    "df_final.loc[df_final.Departement == \"Ain\"]"
   ]
  },
  {
   "cell_type": "code",
   "execution_count": 75,
   "id": "higher-seminar",
   "metadata": {},
   "outputs": [
    {
     "data": {
      "text/plain": [
       "array(['2020-12-31 00:00:00', '2020-11-30 00:00:00',\n",
       "       '2020-12-31 23:59:59', '9999-12-31 23:59:59'], dtype=object)"
      ]
     },
     "execution_count": 75,
     "metadata": {},
     "output_type": "execute_result"
    }
   ],
   "source": [
    "df.period_date.unique()"
   ]
  },
  {
   "cell_type": "code",
   "execution_count": 76,
   "id": "limiting-ethiopia",
   "metadata": {},
   "outputs": [
    {
     "data": {
      "text/plain": [
       "array(['Département', 'Région', 'Mesure'], dtype=object)"
      ]
     },
     "execution_count": 76,
     "metadata": {},
     "output_type": "execute_result"
    }
   ],
   "source": [
    "df.structure_name.unique()"
   ]
  },
  {
   "cell_type": "code",
   "execution_count": null,
   "id": "retired-terrorist",
   "metadata": {},
   "outputs": [],
   "source": []
  }
 ],
 "metadata": {
  "kernelspec": {
   "display_name": "Python 3",
   "language": "python",
   "name": "python3"
  },
  "language_info": {
   "codemirror_mode": {
    "name": "ipython",
    "version": 3
   },
   "file_extension": ".py",
   "mimetype": "text/x-python",
   "name": "python",
   "nbconvert_exporter": "python",
   "pygments_lexer": "ipython3",
   "version": "3.9.1"
  }
 },
 "nbformat": 4,
 "nbformat_minor": 5
}
