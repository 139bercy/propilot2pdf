{
 "cells": [
  {
   "cell_type": "code",
   "execution_count": null,
   "metadata": {},
   "outputs": [],
   "source": [
    "import json\n",
    "import os\n",
    "import random\n",
    "import fnmatch\n",
    "import openpyxl\n",
    "\n",
    "from urllib.request import urlopen\n",
    "import urllib\n",
    "\n",
    "import plotly.graph_objects as go\n",
    "import plotly.express as px\n",
    "import matplotlib.pyplot as plt\n",
    "import seaborn as sns\n",
    "\n",
    "import pandas as pd\n",
    "import numpy as np\n",
    "import re"
   ]
  },
  {
   "cell_type": "code",
   "execution_count": null,
   "metadata": {},
   "outputs": [],
   "source": [
    "sns.set_style(\"darkgrid\")"
   ]
  },
  {
   "cell_type": "code",
   "execution_count": null,
   "metadata": {},
   "outputs": [],
   "source": [
    "def import_json_to_dict(url) :\n",
    "    response = urllib.request.urlopen(url)\n",
    "    my_dict = json.loads(response.read())\n",
    "    return my_dict"
   ]
  },
  {
   "cell_type": "code",
   "execution_count": null,
   "metadata": {},
   "outputs": [],
   "source": [
    "def clean_str(s):\n",
    "    d = {\n",
    "        \"’\": \"'\",\n",
    "        \"\\xa0\": \" \",\n",
    "        \"/\":\",\"\n",
    "        }\n",
    "    for x in d:\n",
    "        s = s.replace(x, d[x]).strip()\n",
    "    return s"
   ]
  },
  {
   "cell_type": "code",
   "execution_count": null,
   "metadata": {},
   "outputs": [],
   "source": [
    "month_dict = {\n",
    "    \"January\" : \"Janvier\",\n",
    "\"February\": \"Février\",\n",
    "\"March\": \"Mars\",\n",
    "\"April\" : \"Avril\",\n",
    "\"May\" : \"Mai\",\n",
    "\"June\" : \"Juin\",\n",
    "\"July\" : \"Juillet\",\n",
    "\"August\" : \"Août\",\n",
    "\"September\":\"Septembre\",\n",
    "\"October\":\"Octobre\",\n",
    "\"November\":\"Novembre\",\n",
    "\"December\":\"Décembre\"}"
   ]
  },
  {
   "cell_type": "code",
   "execution_count": null,
   "metadata": {},
   "outputs": [],
   "source": [
    "data_dir_path = './data/'"
   ]
  },
  {
   "cell_type": "code",
   "execution_count": null,
   "metadata": {},
   "outputs": [],
   "source": [
    "mailles_list = ['national', 'regional', 'departemental']"
   ]
  },
  {
   "cell_type": "code",
   "execution_count": null,
   "metadata": {},
   "outputs": [],
   "source": [
    "propilot_path = os.path.join(\"data\")"
   ]
  },
  {
   "cell_type": "code",
   "execution_count": null,
   "metadata": {},
   "outputs": [],
   "source": [
    "df_dict = {}\n",
    "file_list = [\n",
    "\"dim_activity\",\n",
    "\"dim_tree_nodes\",\n",
    "\"dim_top_levels\",\n",
    "\"dim_maturities\",\n",
    "\"dim_period\",\n",
    "\"dim_snapshots\",\n",
    "\"dim_effects\",\n",
    "\"dim_properties\",\n",
    "\"dim_states\",\n",
    "\"dim_structures\",\n",
    "\"fact_financials\",\n",
    "\"fact_property_values\"\n",
    "]"
   ]
  },
  {
   "cell_type": "code",
   "execution_count": null,
   "metadata": {},
   "outputs": [],
   "source": [
    "for file in file_list:\n",
    "    for file_csv in os.listdir(propilot_path):\n",
    "        if fnmatch.fnmatch(file_csv, file + \"*.csv\"):\n",
    "            print(\"File loaded : \", file_csv)\n",
    "            df_dict[file] = pd.read_csv(os.path.join(propilot_path, file_csv), sep=\";\")"
   ]
  },
  {
   "cell_type": "code",
   "execution_count": null,
   "metadata": {},
   "outputs": [],
   "source": [
    "df = (df_dict[\"fact_financials\"]\n",
    "      .merge(df_dict[\"dim_tree_nodes\"], left_on=\"tree_node_id\", right_on=\"tree_node_id\")\n",
    "      .merge(df_dict[\"dim_effects\"], left_on=\"effect_id\", right_on=\"effect_id\")\n",
    "      .merge(df_dict[\"dim_states\"], left_on=\"state_id\", right_on=\"state_id\")\n",
    "      .merge(df_dict[\"dim_period\"], left_on=\"period_id\", right_on=\"period_id\")\n",
    "      .merge(df_dict[\"dim_structures\"], left_on=\"structure_id\", right_on=\"structure_id\"))"
   ]
  },
  {
   "cell_type": "code",
   "execution_count": null,
   "metadata": {},
   "outputs": [],
   "source": [
    "def extract_dep_code(expr):\n",
    "    nums = re.findall(r'D\\d+', expr)\n",
    "    if expr.endswith('D2A'):\n",
    "        return '2A'\n",
    "    elif expr.endswith('D2B'):\n",
    "        return '2B'\n",
    "    elif expr.endswith('E00'):\n",
    "        return '999'\n",
    "    return nums[0][1:].zfill(2) if len(nums) > 0 else None\n",
    "\n",
    "df['dep_code'] = df['tree_node_code'].apply(lambda x: extract_dep_code(x))"
   ]
  },
  {
   "cell_type": "code",
   "execution_count": null,
   "metadata": {},
   "outputs": [],
   "source": [
    "cols = [\"tree_node_name\", \"structure_name\", \"effect_id\", \"state_id\", \"period_date\", \"period_month_tri\", \"period_month_year\", \"financials_cumulated_amount\", \"dep_code\"]\n",
    "df=df[cols]\n",
    "df.rename(columns={\"period_month_year\":\"Date\", \"financials_cumulated_amount\":\"valeur\"}, inplace=True)"
   ]
  },
  {
   "cell_type": "code",
   "execution_count": null,
   "metadata": {},
   "outputs": [],
   "source": [
    "forbidden_period_value = [\"Y\", \"Total\"]"
   ]
  },
  {
   "cell_type": "code",
   "execution_count": null,
   "metadata": {},
   "outputs": [],
   "source": [
    "df_dep = df.loc[\n",
    "    (df.structure_name == \"Département\") & \n",
    "    (~df.period_month_tri.isin(forbidden_period_value)) &\n",
    "    (df.state_id == 'Valeur Actuelle') &\n",
    "    (~df.valeur.isna())].copy()"
   ]
  },
  {
   "cell_type": "code",
   "execution_count": null,
   "metadata": {},
   "outputs": [],
   "source": [
    "df_dep[\"departement\"] = df_dep[\"tree_node_name\"].apply(lambda x: x.split(\"/\")[0].strip())\n",
    "df_dep[\"mesure\"] = df_dep[\"tree_node_name\"].apply(lambda x: x.split(\"/\")[1].strip())\n",
    "\n",
    "# nettoyage de la colonne mesure, on enlève un point surnuméraire.\n",
    "df_dep[\"mesure\"].replace(\"\\.\", \"\", regex=True,inplace=True)\n",
    "df_dep.mesure = df_dep.mesure.apply(lambda x: clean_str(x))\n",
    "\n",
    "df_dep.rename(columns={\"effect_id\":\"indicateur\"}, inplace=True)\n",
    "df_dep.indicateur = df_dep.indicateur.str.strip()\n",
    "# traduit les mois dans la colonne date\n",
    "df_dep.Date = df_dep.Date.replace(month_dict, regex=True)\n",
    "\n",
    "df_dep.valeur.replace({\",\": \".\"}, regex=True, inplace=True)\n",
    "df_dep.valeur = df_dep.valeur.astype(float)"
   ]
  },
  {
   "cell_type": "code",
   "execution_count": null,
   "metadata": {},
   "outputs": [],
   "source": [
    "df_dep[\"short_indic\"] = df_dep.indicateur.apply(lambda x: x.split(\"-\")[0].strip())\n",
    "df_dep.short_indic = df_dep.short_indic.apply(lambda x: clean_str(x))"
   ]
  },
  {
   "cell_type": "code",
   "execution_count": null,
   "metadata": {},
   "outputs": [],
   "source": [
    "dict_indicateur = {'Nombre de repas servis dans les restaurants universitaires au tarif à 1€' : \"Nombre de repas servis\",\n",
    " 'Montant cumulé de l’investissement total ainsi déclenché' : \"Montant cumumé de l'investissement total\",\n",
    " 'Nombre d’entreprises bénéficiaires du dispositif' : \"Nombre d'entreprises bénéficiaires\",\n",
    " 'Nombre de bâtiments Etat dont le marché de rénovation est notifié' : 'Nombre de bâtiments dont le marché de rénovation est notifié',\n",
    " 'Nombre de projets incluant une transformation de la ligne de production pour réduire son impact environnemental' : 'Nombre de projets',\n",
    " 'Nombre d\\'exploitations certifiées \"haute valeur environnementale\"' : 'Nombre d’exploitations certifiées',\n",
    " 'Emissions de gaz à effet de serre évitées sur la durée de vie des équipements' : 'Emissions de gaz à effet de serre évitées',\n",
    " 'Nombre de bonus octroyés à des véhicules électriques et hybrides rechargeables' : 'Nombre de bonus octroyés à des véhicules électriques',\n",
    " \"Quantité de matières plastiques évitées ou dont le recyclage ou l'intégration a été soutenue\" : 'Quantité de matières plastiques évitées',\n",
    " 'Montant total des travaux associés aux dossiers validés' : 'Montant total des travaux',\n",
    " 'Nombre de nouveaux projets (nouvelle ligne, extension de ligne et pôle)' : 'Nombre de nouveaux projets',\n",
    " 'Montant de l’investissement total déclenché' : 'Montant de l’investissement total',\n",
    " 'Nombre de projets de tourisme durable financés' : 'Nombre de projets de tourisme durable financés',\n",
    " 'Nombre de projets de rénovation de cathédrales et de monuments nationaux initiés' : 'Nombre de projets de rénovation',\n",
    " 'Montant total investi pour la rénovation de monuments historiques appartenant aux collectivités territoriales' :'Montant total investi pour la rénovation',\n",
    " 'Nombre de projets de rénovation de monuments historiques appartenant aux collectivités territoriales bénéficiaires initiés' : 'Nombre de projets de rénovation',\n",
    " \"Nombre de contrats de professionnalisation bénéficiaires de l'aide exceptionnelle\" : 'Nombre de contrats de professionnalisation',\n",
    " \"Nombre de contrats d'apprentissage bénéficiaires de l'aide exceptionnelle\" : 'Nombre de contrats d’apprentissage',\n",
    " \"Nombre d'aides à l'embauche des travailleurs handicapés\": \"Nombre d'aides à l'embauche des travailleurs handicapés\",\n",
    " 'Nombre de projets locaux soutenus  (rénovation, extension, création de lignes' :'Nombre de projets locaux soutenus'\n",
    "                  }"
   ]
  },
  {
   "cell_type": "code",
   "execution_count": null,
   "metadata": {},
   "outputs": [],
   "source": [
    "df_dep.short_indic = df_dep.short_indic.apply(lambda x: dict_indicateur[x] if x in dict_indicateur else x)"
   ]
  },
  {
   "cell_type": "code",
   "execution_count": null,
   "metadata": {},
   "outputs": [],
   "source": [
    "[x for x in list(df_dep.short_indic.unique()) if len(x) >40]"
   ]
  },
  {
   "cell_type": "code",
   "execution_count": null,
   "metadata": {},
   "outputs": [],
   "source": [
    "dict_mesures  = {\n",
    " \"Appels à projets pour les projets d'efficacité énergétique de grande ampleur et appels à manifestation d'intérêt sur les projets qui proposent une évolution profonde des procédés industriels\": \"AAP et AMI Efficacité énergétique\",\n",
    " \"CIE jeunes\" : \"Contrats Initiatives Emploi (CIE) Jeunes\",\n",
    " 'France Num' : 'France Num : aide à la numérisation des TPE,PME,ETI',\n",
    " 'Guichet efficacité énergétique dans industrie' : 'Guichet efficacité énergétique',\n",
    " \"Modernisation de la filière (BPI)\" : \"AAP industrie : Modernisation des filières auto et aéro\",\n",
    " \"PEC jeunes\": \"Parcours emploi compétences (PEC) Jeunes\",\n",
    " 'Relocalisation : soutien aux projets industriels dans les territoires' : 'AAP Industrie : Soutien aux projets industriels territoires',\n",
    " 'Relocalisation : sécurisation des approvisionnements critiques' : 'AAP Industrie : Sécurisation approvisionnements critiques',\n",
    " 'Renforcement des subventions de Business France (chèque export, chèque VIE)' : 'Renforcement subventions Business France',\n",
    " \"Soutien à la modernisation industrielle et renforcement des compétences dans la filière nucléaire\" : \"AAP industrie : modernisation industrielle et renforcement des compétences dans la filière nucléaire\",\n",
    " 'Soutien à la recherche aéronautique civil' :'Soutien recherche aéronautique civil',\n",
    " 'Rénovation bâtiments Etats' : 'Rénovation des bâtiments Etats (marchés notifiés)'\n",
    "}"
   ]
  },
  {
   "cell_type": "code",
   "execution_count": null,
   "metadata": {},
   "outputs": [],
   "source": [
    "df_dep[\"short_mesure\"] = df_dep.mesure.apply(lambda x: dict_mesures[x] if x in dict_mesures else x)"
   ]
  },
  {
   "cell_type": "code",
   "execution_count": null,
   "metadata": {},
   "outputs": [],
   "source": [
    "taxo_dep_df = pd.read_csv('refs/taxo_deps.csv', dtype={'dep':str, 'reg':str})\n",
    "taxo_dep_df['dep'] = taxo_dep_df['dep'].apply(lambda x: x.zfill(2))\n",
    "taxo_dep_df['reg'] = taxo_dep_df['reg'].apply(lambda x: x.zfill(2))\n",
    "dep_list = list(taxo_dep_df['dep'].unique())\n",
    "taxo_dep_df"
   ]
  },
  {
   "cell_type": "code",
   "execution_count": null,
   "metadata": {},
   "outputs": [],
   "source": [
    "taxo_reg_df = pd.read_csv('refs/taxo_regions.csv', dtype={'reg':str})\n",
    "taxo_reg_df['reg'] = taxo_reg_df['reg'].apply(lambda x: x.zfill(2))\n",
    "reg_list = list(taxo_reg_df['reg'].unique())\n",
    "taxo_reg_df"
   ]
  },
  {
   "cell_type": "code",
   "execution_count": null,
   "metadata": {},
   "outputs": [],
   "source": [
    "d = df_dep.merge(taxo_dep_df[[\"dep\", \"reg\", \"libelle\"]], how=\"left\", left_on=\"dep_code\", right_on=\"dep\")\n",
    "d.isnull().sum()"
   ]
  },
  {
   "cell_type": "code",
   "execution_count": null,
   "metadata": {},
   "outputs": [],
   "source": [
    "df_dep_enr = df_dep.merge(taxo_dep_df[[\"dep\", \"reg\", \"libelle\"]], \n",
    "                          how=\"left\", left_on=\"dep_code\", right_on=\"dep\")\\\n",
    "                   .merge(taxo_reg_df[[\"reg\", \"nccenr\"]], how=\"left\", left_on=\"reg\", right_on=\"reg\")\n",
    "df_dep_enr.drop(columns=[\"tree_node_name\", \"structure_name\"], inplace=True)\n",
    "#df_dep_enr = df_dep_enr.loc[~df_dep_enr.dep.isna(), :]\n",
    "#df_dep_enr = df_dep_enr[df_dep_enr['departement'] != 'Etranger']\n",
    "#assert df_dep_enr['dep'].isnull().sum() == 0\n",
    "df_dep_enr.rename(columns={\"nccenr\":\"region\"}, inplace=True)\n",
    "df_dep_enr.drop(['dep_code'], axis=1, inplace=True)  # Supprime code dep utilisé pour la jointure\n",
    "\n",
    "assert df_dep_enr.shape[0] == df_dep.shape[0]\n",
    "df_dep_enr.shape"
   ]
  },
  {
   "cell_type": "code",
   "execution_count": null,
   "metadata": {},
   "outputs": [],
   "source": [
    "df_dep_enr.isnull().sum()"
   ]
  },
  {
   "cell_type": "code",
   "execution_count": null,
   "metadata": {},
   "outputs": [],
   "source": [
    "#df_dep_enr[df_dep_enr['departement'] == 'Etranger']"
   ]
  },
  {
   "cell_type": "code",
   "execution_count": null,
   "metadata": {},
   "outputs": [],
   "source": [
    "#df_dep_enr[df_dep_enr['dep'].isnull()]"
   ]
  },
  {
   "cell_type": "code",
   "execution_count": null,
   "metadata": {},
   "outputs": [],
   "source": [
    "df_dep_enr.to_csv(\"pp_dep.csv\", sep=\";\")"
   ]
  },
  {
   "cell_type": "code",
   "execution_count": null,
   "metadata": {},
   "outputs": [],
   "source": []
  },
  {
   "cell_type": "code",
   "execution_count": null,
   "metadata": {},
   "outputs": [],
   "source": [
    "tmp = df.loc[\n",
    "    (~df.period_month_tri.isin(forbidden_period_value)) &\n",
    "    (df.state_id == 'Valeur Actuelle') &\n",
    "    (~df.valeur.isna())].copy()"
   ]
  },
  {
   "cell_type": "code",
   "execution_count": null,
   "metadata": {},
   "outputs": [],
   "source": [
    "tmp[\"mesure\"] = tmp[\"tree_node_name\"].apply(lambda x: x.split(\"/\")[1].strip() if '/' in x else x)"
   ]
  },
  {
   "cell_type": "code",
   "execution_count": null,
   "metadata": {},
   "outputs": [],
   "source": [
    "month = 'Feb'\n",
    "mesure = 'Service civique'\n",
    "indic = 'Nombre d’entrées en service civique - SCI'\n",
    "\n",
    "target = tmp[(tmp['structure_name'] == 'Département') & (tmp['mesure'] == mesure) & (tmp['effect_id'] == indic) & (tmp['period_month_tri'] == month)]\n",
    "target"
   ]
  },
  {
   "cell_type": "code",
   "execution_count": null,
   "metadata": {},
   "outputs": [],
   "source": [
    "df_dep[(df_dep['departement'] == 'Etranger') & (df_dep['structure_name'] == 'Département') & (df_dep['mesure'] == mesure) & (df_dep['indicateur'] == indic) & (df_dep['period_month_tri'] == month)]"
   ]
  },
  {
   "cell_type": "code",
   "execution_count": null,
   "metadata": {},
   "outputs": [],
   "source": [
    "target['valeur'].sum()"
   ]
  },
  {
   "cell_type": "code",
   "execution_count": null,
   "metadata": {},
   "outputs": [],
   "source": [
    "target['valeur'].sum() - 492"
   ]
  },
  {
   "cell_type": "code",
   "execution_count": null,
   "metadata": {},
   "outputs": [],
   "source": []
  }
 ],
 "metadata": {
  "kernelspec": {
   "display_name": "propilot",
   "language": "python",
   "name": "propilot"
  },
  "language_info": {
   "codemirror_mode": {
    "name": "ipython",
    "version": 3
   },
   "file_extension": ".py",
   "mimetype": "text/x-python",
   "name": "python",
   "nbconvert_exporter": "python",
   "pygments_lexer": "ipython3",
   "version": "3.8.8"
  }
 },
 "nbformat": 4,
 "nbformat_minor": 5
}
