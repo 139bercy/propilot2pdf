{
 "cells": [
  {
   "cell_type": "code",
   "execution_count": 1,
   "metadata": {},
   "outputs": [],
   "source": [
    "import json\n",
    "import os\n",
    "import random\n",
    "import fnmatch\n",
    "import openpyxl\n",
    "from datetime import datetime\n",
    "\n",
    "from urllib.request import urlopen\n",
    "import urllib\n",
    "\n",
    "import plotly.graph_objects as go\n",
    "import plotly.express as px\n",
    "import matplotlib.pyplot as plt\n",
    "import seaborn as sns\n",
    "\n",
    "import pandas as pd\n",
    "import numpy as np\n",
    "import re"
   ]
  },
  {
   "cell_type": "code",
   "execution_count": 2,
   "metadata": {},
   "outputs": [],
   "source": [
    "sns.set_style(\"darkgrid\")"
   ]
  },
  {
   "cell_type": "code",
   "execution_count": 3,
   "metadata": {},
   "outputs": [],
   "source": [
    "def import_json_to_dict(url) :\n",
    "    response = urllib.request.urlopen(url)\n",
    "    my_dict = json.loads(response.read())\n",
    "    return my_dict"
   ]
  },
  {
   "cell_type": "code",
   "execution_count": 4,
   "metadata": {},
   "outputs": [],
   "source": [
    "def clean_str(s):\n",
    "    d = {\n",
    "        \"’\": \"'\",\n",
    "        \"\\xa0\": \" \",\n",
    "        \"/\":\",\"\n",
    "        }\n",
    "    for x in d:\n",
    "        s = s.replace(x, d[x]).strip()\n",
    "    return s"
   ]
  },
  {
   "cell_type": "code",
   "execution_count": 5,
   "metadata": {},
   "outputs": [],
   "source": [
    "month_dict = {\n",
    "    \"January\" : \"Janvier\",\n",
    "\"February\": \"Février\",\n",
    "\"March\": \"Mars\",\n",
    "\"April\" : \"Avril\",\n",
    "\"May\" : \"Mai\",\n",
    "\"June\" : \"Juin\",\n",
    "\"July\" : \"Juillet\",\n",
    "\"August\" : \"Août\",\n",
    "\"September\":\"Septembre\",\n",
    "\"October\":\"Octobre\",\n",
    "\"November\":\"Novembre\",\n",
    "\"December\":\"Décembre\"}"
   ]
  },
  {
   "cell_type": "code",
   "execution_count": 6,
   "metadata": {},
   "outputs": [],
   "source": [
    "taxo_dep_df = pd.read_csv('refs/taxo_deps.csv', dtype={'dep':str, 'reg':str})\n",
    "taxo_dep_df['dep'] = taxo_dep_df['dep'].apply(lambda x: x.zfill(2))\n",
    "taxo_dep_df['reg'] = taxo_dep_df['reg'].apply(lambda x: x.zfill(2))\n",
    "dep_list = list(taxo_dep_df['dep'].unique())\n"
   ]
  },
  {
   "cell_type": "code",
   "execution_count": 7,
   "metadata": {},
   "outputs": [],
   "source": [
    "taxo_reg_df = pd.read_csv('refs/taxo_regions.csv', dtype={'reg':str})\n",
    "taxo_reg_df['reg'] = taxo_reg_df['reg'].apply(lambda x: x.zfill(2))\n",
    "reg_list = list(taxo_reg_df['reg'].unique())\n"
   ]
  },
  {
   "cell_type": "code",
   "execution_count": 8,
   "metadata": {},
   "outputs": [],
   "source": [
    "data_dir_path = './data/'"
   ]
  },
  {
   "cell_type": "code",
   "execution_count": 9,
   "metadata": {},
   "outputs": [],
   "source": [
    "propilot_path = os.path.join(\"data\")"
   ]
  },
  {
   "cell_type": "code",
   "execution_count": 10,
   "metadata": {},
   "outputs": [],
   "source": [
    "df_dict = {}\n",
    "file_list = [\n",
    "\"dim_activity\",\n",
    "\"dim_tree_nodes\",\n",
    "\"dim_top_levels\",\n",
    "\"dim_maturities\",\n",
    "\"dim_period\",\n",
    "\"dim_snapshots\",\n",
    "\"dim_effects\",\n",
    "\"dim_properties\",\n",
    "\"dim_states\",\n",
    "\"dim_structures\",\n",
    "\"fact_financials\",\n",
    "\"fact_property_values\"\n",
    "]"
   ]
  },
  {
   "cell_type": "code",
   "execution_count": 11,
   "metadata": {},
   "outputs": [
    {
     "name": "stdout",
     "output_type": "stream",
     "text": [
      "File loaded :  dim_activity.csv\n",
      "File loaded :  dim_tree_nodes.csv\n",
      "File loaded :  dim_top_levels.csv\n",
      "File loaded :  dim_maturities.csv\n",
      "File loaded :  dim_period_pp_ch.csv\n",
      "File loaded :  dim_snapshots.csv\n",
      "File loaded :  dim_effects.csv\n",
      "File loaded :  dim_properties.csv\n",
      "File loaded :  dim_states_pp_ch.csv\n",
      "File loaded :  dim_structures.csv\n",
      "File loaded :  fact_financials_enr_pp_ch.csv\n"
     ]
    },
    {
     "name": "stderr",
     "output_type": "stream",
     "text": [
      "/home/mquentin-adc/.local/lib/python3.6/site-packages/IPython/core/interactiveshell.py:3072: DtypeWarning:\n",
      "\n",
      "Columns (2,3) have mixed types.Specify dtype option on import or set low_memory=False.\n",
      "\n"
     ]
    },
    {
     "name": "stdout",
     "output_type": "stream",
     "text": [
      "File loaded :  fact_property_values.csv\n"
     ]
    }
   ],
   "source": [
    "for file in file_list:\n",
    "    for file_csv in os.listdir(propilot_path):\n",
    "        if fnmatch.fnmatch(file_csv, file + \"*.csv\"):\n",
    "            print(\"File loaded : \", file_csv)\n",
    "            df_dict[file] = pd.read_csv(os.path.join(propilot_path, file_csv), sep=\";\")"
   ]
  },
  {
   "cell_type": "code",
   "execution_count": 12,
   "metadata": {},
   "outputs": [],
   "source": [
    "def format_date(raw_date):\n",
    "    # Convertie un format (20210131, 2020) -> (2021-01-31, 2020)\n",
    "    str_date = str(raw_date)\n",
    "    if str_date == 'nan':\n",
    "        return raw_date\n",
    "    \n",
    "    if type(str_date) == int:\n",
    "        print(str_date)\n",
    "    if len(str_date) == 8:\n",
    "        return str_date[:4] + '-' + str_date[4:6] + '-' + str_date[6:]\n",
    "    else:\n",
    "        return str_date\n",
    "    \n",
    "\n",
    "df_dict['fact_financials']['period_id'] = df_dict['fact_financials']['period_id'].apply(lambda x: format_date(x))\n",
    "df_dict['dim_period']['period_id'] = df_dict['dim_period']['period_id'].apply(lambda x: format_date(x))"
   ]
  },
  {
   "cell_type": "code",
   "execution_count": 13,
   "metadata": {},
   "outputs": [],
   "source": [
    "# Retirer les lignes ayant un period quarter year commençant par 11 -> nonsense\n",
    "df_dict['dim_period'] = df_dict['dim_period'][~df_dict['dim_period']['period_quarter_year'].str.startswith('11', na=False)]"
   ]
  },
  {
   "cell_type": "code",
   "execution_count": 14,
   "metadata": {},
   "outputs": [],
   "source": [
    "df = (df_dict[\"fact_financials\"]\n",
    "      .merge(df_dict[\"dim_tree_nodes\"], left_on=\"tree_node_id\", right_on=\"tree_node_id\") \n",
    "      .merge(df_dict[\"dim_effects\"], left_on=\"effect_id\", right_on=\"effect_id\") \n",
    "      .merge(df_dict[\"dim_states\"], left_on=\"state_id\", right_on=\"state_id\")  \n",
    "      .merge(df_dict[\"dim_period\"], left_on=\"period_id\", right_on=\"period_id\", how = 'left')\n",
    "      .merge(df_dict[\"dim_structures\"], left_on=\"structure_id\", right_on=\"structure_id\"))"
   ]
  },
  {
   "cell_type": "code",
   "execution_count": 15,
   "metadata": {},
   "outputs": [],
   "source": [
    "def check_data_merge(facts, df):\n",
    "    num_pp_recs = facts[facts['financials_source'] == 'proPilot'].shape[0]\n",
    "    num_df_recs = df.shape[0]\n",
    "    assert num_pp_recs == num_df_recs, f\"Le nombre d'enregistrements proPilot diffèrent : avant {num_pp_recs} - après {num_df_recs}\"\n",
    "    \n",
    "\n",
    "check_data_merge(df_dict[\"fact_financials\"], df)"
   ]
  },
  {
   "cell_type": "code",
   "execution_count": 16,
   "metadata": {},
   "outputs": [],
   "source": [
    "def extract_dep_code(expr):\n",
    "    nums = re.findall(r'D\\d+', expr)\n",
    "    if expr.endswith('D2A'):\n",
    "        return '2A'\n",
    "    elif expr.endswith('D2B'):\n",
    "        return '2B'\n",
    "    elif expr.endswith('E00'):\n",
    "        return '00'\n",
    "    return nums[0][1:].zfill(2) if len(nums) > 0 else None\n",
    "\n",
    "\n",
    "df['dep_code'] = df['tree_node_code'].apply(lambda x: extract_dep_code(x))"
   ]
  },
  {
   "cell_type": "code",
   "execution_count": 17,
   "metadata": {},
   "outputs": [],
   "source": [
    "def check_cols(cols, df):\n",
    "    assert set(cols).issubset(df.columns), f\"Colonnes manquantes : {set(cols) - set(df.columns)}\""
   ]
  },
  {
   "cell_type": "code",
   "execution_count": 18,
   "metadata": {},
   "outputs": [],
   "source": [
    "cols = [\"tree_node_name\", \"structure_name\", \"effect_id\", \"state_id\", \"period_date\", \"period_month_tri\", \"period_month_year\", \"financials_cumulated_amount\", \"dep_code\"]\n",
    "check_cols(cols, df)\n",
    "\n",
    "df=df[cols]\n",
    "df.rename(columns={\"period_month_year\":\"Date\", \"financials_cumulated_amount\":\"valeur\"}, inplace=True)"
   ]
  },
  {
   "cell_type": "code",
   "execution_count": 19,
   "metadata": {},
   "outputs": [],
   "source": [
    "forbidden_period_value = [\"Y\", \"Total\"]"
   ]
  },
  {
   "cell_type": "code",
   "execution_count": 20,
   "metadata": {},
   "outputs": [],
   "source": [
    "def clean_mesure_name(tree_node_name):\n",
    "    raw_mesure = tree_node_name.split('/')[1].strip() if '/' in tree_node_name else tree_node_name\n",
    "    # nettoyage de la colonne mesure, on enlève un point surnuméraire.\n",
    "    mesure = re.sub('\\.', \"\", raw_mesure)\n",
    "    mesure = clean_str(mesure)\n",
    "    return mesure"
   ]
  },
  {
   "cell_type": "code",
   "execution_count": 21,
   "metadata": {},
   "outputs": [
    {
     "name": "stdout",
     "output_type": "stream",
     "text": [
      "KO - Hydrogène – Ecosystèmes territoriaux - Montant total de CO2 évité - ETH1 - 2020-12-31T00:00:00.0000000 | 0.0 - 121520.0\n",
      "KO - Hydrogène – Ecosystèmes territoriaux - Montant total de CO2 évité - ETH1 - 2021-03-31T00:00:00.0000000 | 0.0 - 801520.0\n",
      "KO - Hydrogène – Ecosystèmes territoriaux - Nombre de projets soutenus - ETH2 - 2020-12-31T00:00:00.0000000 | 0.0 - 7.0\n",
      "KO - Hydrogène – Ecosystèmes territoriaux - Nombre de projets soutenus - ETH2 - 2021-03-31T00:00:00.0000000 | 0.0 - 21.0\n",
      "KO - Rénovation énergétique et réhabilitation lourde des logements sociaux - Nombre de logements subventionnés - RER1 - 2021-05-31T00:00:00.0000000 | 5429.0 - 6371.0\n",
      "KO - Rénovation énergétique et réhabilitation lourde des logements sociaux - Nombre de logements subventionnés - RER1 - 2021-06-30T00:00:00.0000000 | 7024.0 - 11048.0\n",
      "KO - Restauration écologique - Nombre de projets soutenus - REA1 - 2021-04-30T00:00:00.0000000 | 157.0 - 182.0\n",
      "KO - Restauration écologique - Nombre de projets soutenus - REA1 - 2021-06-30T00:00:00.0000000 | 393.0 - 488.0\n",
      "KO - Guichet efficacité énergétique dans l'industrie - Nombre d’entreprises ayant reçu l’aide - EEI1 - 2021-04-30T00:00:00.0000000 | 18.0 - 19.0\n",
      "KO - Guichet efficacité énergétique dans l'industrie - Nombre d’entreprises ayant reçu l’aide - EEI1 - 2021-05-31T00:00:00.0000000 | 7.0 - 22.0\n",
      "KO - Guichet efficacité énergétique dans l'industrie - Nombre d’entreprises ayant reçu l’aide - EEI1 - 2021-06-30T00:00:00.0000000 | 11.0 - 29.0\n",
      "KO - Guichet efficacité énergétique dans l'industrie - Nombre de PME/TPE - EEI2 - 2021-05-31T00:00:00.0000000 | 4.0 - 13.0\n",
      "KO - Guichet efficacité énergétique dans l'industrie - Nombre de PME/TPE - EEI2 - 2021-06-30T00:00:00.0000000 | 4.0 - 15.0\n",
      "KO - MaPrimeRénov' - Montant total des primes payées - MPR1 - 2021-05-31T00:00:00.0000000 | 489480425.23 - 489488425.23\n",
      "KO - MaPrimeRénov' - Montant total de primes validées - MPR3 - 2021-03-31T00:00:00.0000000 | 190436631.96 - 190440631.96\n",
      "KO - MaPrimeRénov' - Montant total de primes validées - MPR3 - 2021-04-30T00:00:00.0000000 | 264372160.94 - 264376160.94\n",
      "KO - MaPrimeRénov' - Montant total de primes validées - MPR3 - 2021-05-31T00:00:00.0000000 | 331253932.23 - 331257932.23\n",
      "KO - France Num - Nombre d'accompagnements dispensés - FUM1 - 2021-01-31T00:00:00.0000000 | 4060.0 - 4086.0\n",
      "KO - France Num - Nombre d'accompagnements dispensés - FUM1 - 2021-02-28T00:00:00.0000000 | 11783.0 - 11809.0\n",
      "KO - France Num - Nombre d'accompagnements dispensés - FUM1 - 2021-03-31T00:00:00.0000000 | 27864.0 - 27890.0\n",
      "KO - France Num - Nombre d'accompagnements dispensés - FUM1 - 2021-04-30T00:00:00.0000000 | 39192.0 - 39218.0\n",
      "KO - Prime à la conversion des agroéquipements - Surface agricole utile (SAU) couverte par des investissements de réduction d'intrants (ha) - AEA2 - 2021-04-30T00:00:00.0000000 | 1790313.31 - 1790313.3\n",
      "KO - Prime à la conversion des agroéquipements - Surface agricole utile (SAU) couverte par des investissements de réduction d'intrants (ha) - AEA2 - 2021-05-31T00:00:00.0000000 | 1790313.31 - 1790313.3\n",
      "KO - Soutien aux filières culturelles (cinéma, audiovisuel, numérique, livre) - Nombre d’entreprises aidées dans les secteurs du cinéma, de l’audiovisuel, du numérique et du livre - SFC1 - 2021-05-31T00:00:00.0000000 | 4041.0 - 4053.0\n",
      "KO - Soutien aux filières culturelles (cinéma, audiovisuel, numérique, livre) - Nombre d’entreprises aidées dans les secteurs du cinéma, de l’audiovisuel, du numérique et du livre - SFC1 - 2021-07-31T00:00:00.0000000 | 5979.0 - 5980.0\n",
      "KO - Patrimoine – rénovation monuments Etat - Nombre de projets de rénovation de cathédrales et de monuments nationaux initiés - PAE1 - 2021-05-31T00:00:00.0000000 | 8.0 - 37.0\n",
      "KO - Patrimoine – rénovation monuments Etat - Nombre de projets de rénovation de cathédrales et de monuments nationaux initiés - PAE1 - 2021-06-30T00:00:00.0000000 | 6.0 - 42.0\n",
      "KO - Patrimoine – rénovation monuments Etat - Nombre de projets de rénovation de cathédrales et de monuments nationaux initiés - PAE1 - 2021-07-31T00:00:00.0000000 | 4.0 - 45.0\n",
      "KO - Patrimoine – rénovation monuments des collectivités territoriales - Montant total investi pour la rénovation de monuments historiques appartenant aux collectivités territoriales - PAT1 - 2021-05-31T00:00:00.0000000 | 8725954.0 - 13398190.6\n",
      "KO - Patrimoine – rénovation monuments des collectivités territoriales - Montant total investi pour la rénovation de monuments historiques appartenant aux collectivités territoriales - PAT1 - 2021-06-30T00:00:00.0000000 | 6736000.0 - 20134190.6\n",
      "KO - Patrimoine – rénovation monuments des collectivités territoriales - Montant total investi pour la rénovation de monuments historiques appartenant aux collectivités territoriales - PAT1 - 2021-07-31T00:00:00.0000000 | 3819000.0 - 22884190.6\n",
      "KO - Patrimoine – rénovation monuments des collectivités territoriales - Nombre de projets de rénovation de monuments historiques appartenant aux collectivités territoriales bénéficiaires initiés - PAT2 - 2021-05-31T00:00:00.0000000 | 6.0 - 13.0\n",
      "KO - Patrimoine – rénovation monuments des collectivités territoriales - Nombre de projets de rénovation de monuments historiques appartenant aux collectivités territoriales bénéficiaires initiés - PAT2 - 2021-06-30T00:00:00.0000000 | 13.0 - 26.0\n",
      "KO - Patrimoine – rénovation monuments des collectivités territoriales - Nombre de projets de rénovation de monuments historiques appartenant aux collectivités territoriales bénéficiaires initiés - PAT2 - 2021-07-31T00:00:00.0000000 | 5.0 - 29.0\n",
      "KO - Repas à 1 € dans les restaurants universitaires - Nombre de repas servis dans les restaurants universitaires au tarif à 1€ - RRU1 - 2021-02-28T00:00:00.0000000 | 3929348.0 - 4261687.0\n",
      "KO - Repas à 1 € dans les restaurants universitaires - Nombre de repas servis dans les restaurants universitaires au tarif à 1€ - RRU1 - 2021-03-31T00:00:00.0000000 | 4339375.0 - 5110952.0\n",
      "KO - Repas à 1 € dans les restaurants universitaires - Nombre de repas servis dans les restaurants universitaires au tarif à 1€ - RRU1 - 2021-04-30T00:00:00.0000000 | 5675787.0 - 6447364.0\n",
      "KO - Repas à 1 € dans les restaurants universitaires - Nombre de repas servis dans les restaurants universitaires au tarif à 1€ - RRU1 - 2021-05-31T00:00:00.0000000 | 6484531.0 - 7256108.0\n",
      "KO - Repas à 1 € dans les restaurants universitaires - Nombre de repas servis dans les restaurants universitaires au tarif à 1€ - RRU1 - 2021-06-30T00:00:00.0000000 | 7194162.0 - 7965739.0\n",
      "KO - Préservation de l'emploi de R&D - Nombre de chercheurs bénéficiaires de la mesure - ERD1 - 2021-06-30T00:00:00.0000000 | 7.0 - 0.0\n",
      "KO - Internats d'excellence - Nombre de places ouvertes en internat d’excellence - IEX1 - 2021-06-30T00:00:00.0000000 | 242.0 - 464.0\n",
      "KO - Verdissement des ports - Investissement total généré - VDP1 - 2021-03-31T00:00:00.0000000 | 6.7 - 90.88\n",
      "KO - Verdissement des ports - Investissement total généré - VDP1 - 2021-04-30T00:00:00.0000000 | 104.15 - 120.03\n",
      "KO - Verdissement des ports - Investissement total généré - VDP1 - 2021-05-31T00:00:00.0000000 | 28.9 - 142.73\n",
      "KO - Verdissement des ports - Investissement total généré - VDP1 - 2021-06-30T00:00:00.0000000 | 94.98 - 189.63\n",
      "KO - Verdissement des ports - Investissement total généré - VDP1 - 2021-07-31T00:00:00.0000000 | 16.3 - 193.33\n",
      "KO - Verdissement des ports - Investissement total généré - VDP1 - 2021-08-31T00:00:00.0000000 | 165.01 - 223.63\n",
      "KO - Verdissement des ports - Volume de GES évités - VDP2 - 2021-03-31T00:00:00.0000000 | 711.0 - 19931.0\n",
      "KO - Verdissement des ports - Volume de GES évités - VDP2 - 2021-04-30T00:00:00.0000000 | 10206.0 - 22226.0\n",
      "KO - Verdissement des ports - Volume de GES évités - VDP2 - 2021-05-31T00:00:00.0000000 | 30.91 - 22256.91\n",
      "KO - Verdissement des ports - Volume de GES évités - VDP2 - 2021-06-30T00:00:00.0000000 | 94277.0 - 113256.91\n",
      "KO - Verdissement des ports - Volume de GES évités - VDP2 - 2021-07-31T00:00:00.0000000 | 16600.0 - 120656.91\n",
      "KO - Verdissement des ports - Volume de GES évités - VDP2 - 2021-08-31T00:00:00.0000000 | 106940.0 - 128556.91\n"
     ]
    }
   ],
   "source": [
    "def check_single_sum_dep_equals_nat(df_copy, mesure, indic):\n",
    "    nat_values = df_copy[(df_copy['structure_name'] == 'Mesure') & \n",
    "                    (df_copy['mesure'] == mesure) &\n",
    "                    (df_copy['effect_id'] == indic)][['period_date', 'valeur']].set_index('period_date').to_dict()['valeur']\n",
    "\n",
    "    dep_indic_values = df_copy[(df_copy['structure_name'] == 'Département') & \n",
    "                            (df_copy['mesure'] == mesure) & \n",
    "                            (df_copy['effect_id'] == indic)].groupby('period_date').sum().to_dict()['valeur']\n",
    "\n",
    "    for date in dep_indic_values.keys():\n",
    "        if date not in nat_values:\n",
    "            #print(f\"-- National pas de {date}\")\n",
    "            continue\n",
    "        dep_val = round(dep_indic_values[date], 2)\n",
    "        nat_val = round(nat_values[date], 2)\n",
    "        #assert dep_val == nat_val, f\"Somme départementale : {dep_val} - Valeur récupérée nationale : {nat_val}\\n{date} - {mesure} - {indic}\"\n",
    "        # TODO : subtituer le if-else par un assert quand on aura la confirmation que les données sont cohérentes\n",
    "        if dep_val == nat_val:\n",
    "            pass\n",
    "            #print(f'ok - {mesure} - {indic} - {date}')\n",
    "        else:\n",
    "            print(f'KO - {mesure} - {indic} - {date} | {dep_val} - {nat_val}')\n",
    "            \n",
    "\n",
    "def check_sum_dep_equals_nat(df):\n",
    "    \"\"\" Ce test a été rajouté après avoir constaté des différences entre somme des départements et valeurs nationales.\"\"\"\n",
    "    df_copy = df.copy()\n",
    "    df_copy = df_copy.loc[\n",
    "                (~df_copy.period_month_tri.isin(forbidden_period_value)) &\n",
    "                (df_copy.state_id == 'Valeur Actuelle') &\n",
    "                (~df_copy.valeur.isna())].copy()\n",
    "\n",
    "    df_copy[\"mesure\"] = df_copy[\"tree_node_name\"].apply(lambda x: clean_mesure_name(x))\n",
    "\n",
    "    mesures = df_copy['mesure'].unique()\n",
    "    for mesure in mesures:\n",
    "        indics = df_copy[df_copy['mesure'] == mesure]['effect_id'].unique()\n",
    "        for indic in indics:\n",
    "            check_single_sum_dep_equals_nat(df_copy, mesure, indic)\n",
    "\n",
    "            \n",
    "check_sum_dep_equals_nat(df)"
   ]
  },
  {
   "cell_type": "code",
   "execution_count": 22,
   "metadata": {},
   "outputs": [],
   "source": [
    "df.rename(columns={\"effect_id\":\"indicateur\"}, inplace=True)\n",
    "df.indicateur = df.indicateur.str.strip()\n",
    "df[\"short_indic\"] = df.indicateur.apply(lambda x: x.split(\"-\")[0].strip())\n",
    "df[\"indic_id\"] = df.indicateur.apply(lambda x: x.split(\"-\")[1].strip())"
   ]
  },
  {
   "cell_type": "code",
   "execution_count": 23,
   "metadata": {},
   "outputs": [],
   "source": [
    "df = df.loc[(~df.period_month_tri.isin(forbidden_period_value)) &\n",
    "    (df.state_id == 'Valeur Actuelle') &\n",
    "    (~df.valeur.isna())].copy()"
   ]
  },
  {
   "cell_type": "code",
   "execution_count": 24,
   "metadata": {},
   "outputs": [],
   "source": [
    "# Filtrer les lignes ayant une date ultérieure à la date d'aujourd'hui\n",
    "today = datetime.today().strftime('%Y-%m-%d')\n",
    "\n",
    "date_series = df['period_date'].apply(lambda x: x.split('T')[0])\n",
    "df['format_date'] = pd.to_datetime(date_series)\n",
    "\n",
    "df = df[df['format_date'] <= today]\n",
    "df = df.drop('format_date', axis=1)\n",
    "\n",
    "df[\"departement\"] = df[\"tree_node_name\"].apply(lambda x: x.split(\"/\")[0].strip())\n",
    "df[\"mesure\"] = df[\"tree_node_name\"].apply(lambda x: x.split(\"/\")[-1].strip())\n",
    "df.drop(columns=[\"tree_node_name\"], inplace=True)\n",
    "\n",
    "# nettoyage de la colonne mesure, on enlève un point surnuméraire.\n",
    "df[\"mesure\"].replace(\"\\.\", \"\", regex=True, inplace=True)\n",
    "df.mesure = df.mesure.apply(lambda x: clean_str(x))\n",
    "\n",
    "# traduit les mois dans la colonne date\n",
    "df.Date = df.Date.replace(month_dict, regex=True)\n",
    "\n",
    "# enrichit avec les noms de département/région\n",
    "df = df.merge(taxo_dep_df[[\"dep\", \"reg\", \"libelle\"]], \n",
    "                          how=\"left\", left_on=\"dep_code\", right_on=\"dep\")\\\n",
    "                   .merge(taxo_reg_df[[\"reg\", \"nccenr\"]], how=\"left\", left_on=\"reg\", right_on=\"reg\")\n",
    "\n",
    "df.rename(columns={\"nccenr\":\"region\"}, inplace=True)\n",
    "df.drop(['dep_code'], axis=1, inplace=True)  # Supprime code dep utilisé pour la jointure"
   ]
  },
  {
   "cell_type": "code",
   "execution_count": 25,
   "metadata": {},
   "outputs": [],
   "source": [
    "df_dep = df.loc[df.structure_name == \"Département\"].copy()\n",
    "df_dep.drop(columns=[\"structure_name\"], inplace=True)\n",
    "\n",
    "dep_indic = set(df_dep.indicateur.unique())\n",
    "df_reg = df.loc[(df.structure_name == \"Région\") \n",
    "       & (~df.indicateur.isin(dep_indic))].copy()\n",
    "df_reg.drop(columns=[\"structure_name\"], inplace=True)\n",
    "\n",
    "reg_indic = set(df_reg.indicateur.unique())\n",
    "df_nat = df.loc[(df.structure_name == \"Mesure\") \n",
    "       & (~df.indicateur.isin(reg_indic))\n",
    "       & (~df.indicateur.isin(dep_indic))].copy()\n",
    "df_nat.drop(columns=[\"structure_name\"], inplace=True)"
   ]
  },
  {
   "cell_type": "code",
   "execution_count": 26,
   "metadata": {},
   "outputs": [],
   "source": [
    "df_dep[\"short_indic\"] = df_dep.indicateur.apply(lambda x: x.split(\"-\")[0].strip())\n",
    "df_dep.short_indic = df_dep.short_indic.apply(lambda x: clean_str(x))"
   ]
  },
  {
   "cell_type": "code",
   "execution_count": 27,
   "metadata": {},
   "outputs": [
    {
     "name": "stdout",
     "output_type": "stream",
     "text": [
      "KO - Hydrogène – Ecosystèmes territoriaux - Montant total de CO2 évité - ETH1 - 2020-12-31T00:00:00.0000000 | 0.0 - 121520.0\n",
      "KO - Hydrogène – Ecosystèmes territoriaux - Montant total de CO2 évité - ETH1 - 2021-03-31T00:00:00.0000000 | 0.0 - 801520.0\n",
      "KO - Hydrogène – Ecosystèmes territoriaux - Nombre de projets soutenus - ETH2 - 2020-12-31T00:00:00.0000000 | 0.0 - 7.0\n",
      "KO - Hydrogène – Ecosystèmes territoriaux - Nombre de projets soutenus - ETH2 - 2021-03-31T00:00:00.0000000 | 0.0 - 21.0\n",
      "KO - Rénovation énergétique et réhabilitation lourde des logements sociaux - Nombre de logements subventionnés - RER1 - 2021-05-31T00:00:00.0000000 | 5429.0 - 6371.0\n",
      "KO - Rénovation énergétique et réhabilitation lourde des logements sociaux - Nombre de logements subventionnés - RER1 - 2021-06-30T00:00:00.0000000 | 7024.0 - 11048.0\n",
      "KO - Restauration écologique - Nombre de projets soutenus - REA1 - 2021-04-30T00:00:00.0000000 | 157.0 - 182.0\n",
      "KO - Restauration écologique - Nombre de projets soutenus - REA1 - 2021-06-30T00:00:00.0000000 | 393.0 - 488.0\n",
      "KO - Guichet efficacité énergétique dans l'industrie - Nombre d’entreprises ayant reçu l’aide - EEI1 - 2021-04-30T00:00:00.0000000 | 18.0 - 19.0\n",
      "KO - Guichet efficacité énergétique dans l'industrie - Nombre d’entreprises ayant reçu l’aide - EEI1 - 2021-05-31T00:00:00.0000000 | 7.0 - 22.0\n",
      "KO - Guichet efficacité énergétique dans l'industrie - Nombre d’entreprises ayant reçu l’aide - EEI1 - 2021-06-30T00:00:00.0000000 | 11.0 - 29.0\n",
      "KO - Guichet efficacité énergétique dans l'industrie - Nombre de PME/TPE - EEI2 - 2021-05-31T00:00:00.0000000 | 4.0 - 13.0\n",
      "KO - Guichet efficacité énergétique dans l'industrie - Nombre de PME/TPE - EEI2 - 2021-06-30T00:00:00.0000000 | 4.0 - 15.0\n",
      "KO - MaPrimeRénov' - Montant total des primes payées - MPR1 - 2021-05-31T00:00:00.0000000 | 489480425.23 - 489488425.23\n",
      "KO - MaPrimeRénov' - Montant total de primes validées - MPR3 - 2021-03-31T00:00:00.0000000 | 190436631.96 - 190440631.96\n",
      "KO - MaPrimeRénov' - Montant total de primes validées - MPR3 - 2021-04-30T00:00:00.0000000 | 264372160.94 - 264376160.94\n",
      "KO - MaPrimeRénov' - Montant total de primes validées - MPR3 - 2021-05-31T00:00:00.0000000 | 331253932.23 - 331257932.23\n",
      "KO - France Num - Nombre d'accompagnements dispensés - FUM1 - 2021-01-31T00:00:00.0000000 | 4060.0 - 4086.0\n",
      "KO - France Num - Nombre d'accompagnements dispensés - FUM1 - 2021-02-28T00:00:00.0000000 | 11783.0 - 11809.0\n",
      "KO - France Num - Nombre d'accompagnements dispensés - FUM1 - 2021-03-31T00:00:00.0000000 | 27864.0 - 27890.0\n",
      "KO - France Num - Nombre d'accompagnements dispensés - FUM1 - 2021-04-30T00:00:00.0000000 | 39192.0 - 39218.0\n",
      "KO - Prime à la conversion des agroéquipements - Surface agricole utile (SAU) couverte par des investissements de réduction d'intrants (ha) - AEA2 - 2021-04-30T00:00:00.0000000 | 1790313.31 - 1790313.3\n",
      "KO - Prime à la conversion des agroéquipements - Surface agricole utile (SAU) couverte par des investissements de réduction d'intrants (ha) - AEA2 - 2021-05-31T00:00:00.0000000 | 1790313.31 - 1790313.3\n",
      "KO - Soutien aux filières culturelles (cinéma, audiovisuel, numérique, livre) - Nombre d’entreprises aidées dans les secteurs du cinéma, de l’audiovisuel, du numérique et du livre - SFC1 - 2021-05-31T00:00:00.0000000 | 4041.0 - 4053.0\n",
      "KO - Soutien aux filières culturelles (cinéma, audiovisuel, numérique, livre) - Nombre d’entreprises aidées dans les secteurs du cinéma, de l’audiovisuel, du numérique et du livre - SFC1 - 2021-07-31T00:00:00.0000000 | 5979.0 - 5980.0\n",
      "KO - Patrimoine – rénovation monuments Etat - Nombre de projets de rénovation de cathédrales et de monuments nationaux initiés - PAE1 - 2021-05-31T00:00:00.0000000 | 8.0 - 37.0\n",
      "KO - Patrimoine – rénovation monuments Etat - Nombre de projets de rénovation de cathédrales et de monuments nationaux initiés - PAE1 - 2021-06-30T00:00:00.0000000 | 6.0 - 42.0\n",
      "KO - Patrimoine – rénovation monuments Etat - Nombre de projets de rénovation de cathédrales et de monuments nationaux initiés - PAE1 - 2021-07-31T00:00:00.0000000 | 4.0 - 45.0\n",
      "KO - Patrimoine – rénovation monuments des collectivités territoriales - Montant total investi pour la rénovation de monuments historiques appartenant aux collectivités territoriales - PAT1 - 2021-05-31T00:00:00.0000000 | 8725954.0 - 13398190.6\n",
      "KO - Patrimoine – rénovation monuments des collectivités territoriales - Montant total investi pour la rénovation de monuments historiques appartenant aux collectivités territoriales - PAT1 - 2021-06-30T00:00:00.0000000 | 6736000.0 - 20134190.6\n",
      "KO - Patrimoine – rénovation monuments des collectivités territoriales - Montant total investi pour la rénovation de monuments historiques appartenant aux collectivités territoriales - PAT1 - 2021-07-31T00:00:00.0000000 | 3819000.0 - 22884190.6\n",
      "KO - Patrimoine – rénovation monuments des collectivités territoriales - Nombre de projets de rénovation de monuments historiques appartenant aux collectivités territoriales bénéficiaires initiés - PAT2 - 2021-05-31T00:00:00.0000000 | 6.0 - 13.0\n",
      "KO - Patrimoine – rénovation monuments des collectivités territoriales - Nombre de projets de rénovation de monuments historiques appartenant aux collectivités territoriales bénéficiaires initiés - PAT2 - 2021-06-30T00:00:00.0000000 | 13.0 - 26.0\n",
      "KO - Patrimoine – rénovation monuments des collectivités territoriales - Nombre de projets de rénovation de monuments historiques appartenant aux collectivités territoriales bénéficiaires initiés - PAT2 - 2021-07-31T00:00:00.0000000 | 5.0 - 29.0\n",
      "KO - Repas à 1 € dans les restaurants universitaires - Nombre de repas servis dans les restaurants universitaires au tarif à 1€ - RRU1 - 2021-02-28T00:00:00.0000000 | 3929348.0 - 4261687.0\n",
      "KO - Repas à 1 € dans les restaurants universitaires - Nombre de repas servis dans les restaurants universitaires au tarif à 1€ - RRU1 - 2021-03-31T00:00:00.0000000 | 4339375.0 - 5110952.0\n",
      "KO - Repas à 1 € dans les restaurants universitaires - Nombre de repas servis dans les restaurants universitaires au tarif à 1€ - RRU1 - 2021-04-30T00:00:00.0000000 | 5675787.0 - 6447364.0\n",
      "KO - Repas à 1 € dans les restaurants universitaires - Nombre de repas servis dans les restaurants universitaires au tarif à 1€ - RRU1 - 2021-05-31T00:00:00.0000000 | 6484531.0 - 7256108.0\n",
      "KO - Repas à 1 € dans les restaurants universitaires - Nombre de repas servis dans les restaurants universitaires au tarif à 1€ - RRU1 - 2021-06-30T00:00:00.0000000 | 7194162.0 - 7965739.0\n",
      "KO - Préservation de l'emploi de R&D - Nombre de chercheurs bénéficiaires de la mesure - ERD1 - 2021-06-30T00:00:00.0000000 | 7.0 - 0.0\n",
      "KO - Internats d'excellence - Nombre de places ouvertes en internat d’excellence - IEX1 - 2021-06-30T00:00:00.0000000 | 242.0 - 464.0\n",
      "KO - Verdissement des ports - Investissement total généré - VDP1 - 2021-03-31T00:00:00.0000000 | 6.7 - 90.88\n",
      "KO - Verdissement des ports - Investissement total généré - VDP1 - 2021-04-30T00:00:00.0000000 | 104.15 - 120.03\n",
      "KO - Verdissement des ports - Investissement total généré - VDP1 - 2021-05-31T00:00:00.0000000 | 28.9 - 142.73\n",
      "KO - Verdissement des ports - Investissement total généré - VDP1 - 2021-06-30T00:00:00.0000000 | 94.98 - 189.63\n",
      "KO - Verdissement des ports - Investissement total généré - VDP1 - 2021-07-31T00:00:00.0000000 | 16.3 - 193.33\n",
      "KO - Verdissement des ports - Volume de GES évités - VDP2 - 2021-03-31T00:00:00.0000000 | 711.0 - 19931.0\n",
      "KO - Verdissement des ports - Volume de GES évités - VDP2 - 2021-04-30T00:00:00.0000000 | 10206.0 - 22226.0\n",
      "KO - Verdissement des ports - Volume de GES évités - VDP2 - 2021-05-31T00:00:00.0000000 | 30.91 - 22256.91\n",
      "KO - Verdissement des ports - Volume de GES évités - VDP2 - 2021-06-30T00:00:00.0000000 | 94277.0 - 113256.91\n",
      "KO - Verdissement des ports - Volume de GES évités - VDP2 - 2021-07-31T00:00:00.0000000 | 16600.0 - 120656.91\n"
     ]
    }
   ],
   "source": [
    "def check_single_sum_dep_equals_nat_2(df_copy, df_nat, mesure, indic):\n",
    "    nat_values = df_nat[(df_nat['mesure'] == mesure) &\n",
    "                    (df_nat[\"indicateur\"] == indic)][['period_date', 'valeur']].set_index('period_date').to_dict()['valeur']\n",
    "\n",
    "    dep_indic_values = df_copy[(df_copy['mesure'] == mesure) & \n",
    "                                (df_copy['indicateur'] == indic)].groupby('period_date').sum().to_dict()['valeur']\n",
    "\n",
    "    for date in dep_indic_values.keys():\n",
    "        if date not in nat_values:\n",
    "            #print(f\"-- National pas de {date}\")\n",
    "            continue\n",
    "        dep_val = round(dep_indic_values[date], 2)\n",
    "        nat_val = round(nat_values[date], 2)\n",
    "        #assert dep_val == nat_val, f\"Somme départementale : {dep_val} - Valeur récupérée nationale : {nat_val}\\n{date} - {mesure} - {indic}\"\n",
    "        # TODO : subtituer le if-else par un assert quand on aura la confirmation que les données sont cohérentes\n",
    "        if dep_val == nat_val:\n",
    "            pass\n",
    "            #print(f'ok - {mesure} - {indic} - {date}')\n",
    "        else:\n",
    "            print(f'KO - {mesure} - {indic} - {date} | {dep_val} - {nat_val}')\n",
    "\n",
    "\n",
    "def check_sum_dep_equals_nat_2(df_dep, df_nat):\n",
    "    mesures = df_dep['mesure'].unique()\n",
    "    for mesure in mesures:\n",
    "        indics = df_dep[df_dep['mesure'] == mesure]['indicateur'].unique()\n",
    "        for indic in indics:\n",
    "            check_single_sum_dep_equals_nat_2(df_dep, df_nat, mesure, indic)\n",
    "            \n",
    "            \n",
    "check_sum_dep_equals_nat_2(df_dep, df)"
   ]
  },
  {
   "cell_type": "code",
   "execution_count": 28,
   "metadata": {},
   "outputs": [],
   "source": [
    "dict_indicateur = {'Nombre de repas servis dans les restaurants universitaires au tarif à 1€' : \"Nombre de repas servis\",\n",
    " 'Montant cumulé de l’investissement total ainsi déclenché' : \"Montant cumumé de l'investissement total\",\n",
    " 'Nombre d’entreprises bénéficiaires du dispositif' : \"Nombre d'entreprises bénéficiaires\",\n",
    " 'Nombre de bâtiments Etat dont le marché de rénovation est notifié' : 'Nombre de bâtiments dont le marché de rénovation est notifié',\n",
    " 'Nombre de projets incluant une transformation de la ligne de production pour réduire son impact environnemental' : 'Nombre de projets',\n",
    " 'Nombre d\\'exploitations certifiées \"haute valeur environnementale\"' : 'Nombre d’exploitations certifiées',\n",
    " 'Emissions de gaz à effet de serre évitées sur la durée de vie des équipements' : 'Emissions de gaz à effet de serre évitées',\n",
    " 'Nombre de bonus octroyés à des véhicules électriques et hybrides rechargeables' : 'Nombre de bonus octroyés à des véhicules électriques',\n",
    " \"Quantité de matières plastiques évitées ou dont le recyclage ou l'intégration a été soutenue\" : 'Quantité de matières plastiques évitées',\n",
    " #'Montant total des travaux associés aux dossiers validés' : 'Montant total des travaux',\n",
    " 'Nombre de nouveaux projets (nouvelle ligne, extension de ligne et pôle)' : 'Nombre de nouveaux projets',\n",
    " 'Montant de l’investissement total déclenché' : 'Montant de l’investissement total',\n",
    " 'Nombre de projets de tourisme durable financés' : 'Nombre de projets de tourisme durable financés',\n",
    " 'Nombre de projets de rénovation de cathédrales et de monuments nationaux initiés' : 'Nombre de projets de rénovation',\n",
    " 'Montant total investi pour la rénovation de monuments historiques appartenant aux collectivités territoriales' :'Montant total investi pour la rénovation',\n",
    " 'Nombre de projets de rénovation de monuments historiques appartenant aux collectivités territoriales bénéficiaires initiés' : 'Nombre de projets de rénovation',\n",
    " \"Nombre de contrats de professionnalisation bénéficiaires de l'aide exceptionnelle\" : 'Nombre de contrats de professionnalisation',\n",
    " \"Nombre de contrats d'apprentissage bénéficiaires de l'aide exceptionnelle\" : 'Nombre de contrats d’apprentissage',\n",
    " \"Nombre d'aides à l'embauche des travailleurs handicapés\": \"Nombre d'aides à l'embauche des travailleurs handicapés\",\n",
    " 'Nombre de projets locaux soutenus  (rénovation, extension, création de lignes' :'Nombre de projets locaux soutenus',\n",
    " #'Nombre de dossiers MaPrimeRénov validés': 'Nombre de dossiers MaPrimeRénov bénéficiaires (\"particulier\" et \"copropriété\")',\n",
    " #'Nombre de dossiers MaPrimeRénov bénéficiaires (\"particulier\" et \"copropriété\")': 'Nombre de bénéficiaires',\n",
    " \"Nombre de dossiers MaPrimeRénov' payés\": \"Nombre de dossiers payés\",\n",
    "  \"Nombre d'entreprises bénéficiares\": \"Nombre d'entreprises bénéficiaires\"\n",
    "                  }"
   ]
  },
  {
   "cell_type": "code",
   "execution_count": 29,
   "metadata": {},
   "outputs": [],
   "source": [
    "df_dep.short_indic = df_dep.short_indic.apply(lambda x: dict_indicateur[x] if x in dict_indicateur else x)"
   ]
  },
  {
   "cell_type": "code",
   "execution_count": 30,
   "metadata": {},
   "outputs": [],
   "source": [
    "dict_mesures  = {\n",
    " \"Appels à projets dédiés à l'efficacité énergétique et à l'évolution des procédés en faveur de la décarbonation de l'industrie\": \"AAP Efficacité énergétique\",\n",
    " \"CIE jeunes\" : \"Contrats Initiatives Emploi (CIE) Jeunes\",\n",
    " 'France Num' : 'France Num : aide à la numérisation des TPE,PME,ETI',\n",
    " 'Guichet efficacité énergétique dans industrie' : 'Guichet efficacité énergétique',\n",
    " \"Modernisation des filières automobiles et aéronautiques\" : \"Modernisation des filières automobiles et aéronautiques\",\n",
    " \"PEC jeunes\": \"Parcours emploi compétences (PEC) Jeunes\",\n",
    " 'Relocalisation : soutien aux projets industriels dans les territoires' : 'AAP Industrie : Soutien aux projets industriels territoires',\n",
    " 'Relocalisation : sécurisation des approvisionnements critiques' : 'AAP Industrie : Sécurisation approvisionnements critiques',\n",
    " 'Renforcement des subventions de Business France (chèque export, chèque VIE)' : 'Renforcement subventions Business France',\n",
    " \"Soutien à la modernisation industrielle et renforcement des compétences dans la filière nucléaire\" : \"AAP industrie : modernisation industrielle et renforcement des compétences dans la filière nucléaire\",\n",
    " 'Soutien à la recherche aéronautique civil' :'Soutien recherche aéronautique civil',\n",
    " 'Rénovation bâtiments Etats' : 'Rénovation des bâtiments Etats (marchés notifiés)'\n",
    "}"
   ]
  },
  {
   "cell_type": "code",
   "execution_count": 31,
   "metadata": {},
   "outputs": [],
   "source": [
    "df_dep[\"short_mesure\"] = df_dep.mesure.apply(lambda x: dict_mesures[x] if x in dict_mesures else x)"
   ]
  },
  {
   "cell_type": "code",
   "execution_count": 32,
   "metadata": {},
   "outputs": [],
   "source": [
    "def get_df_sum_indicator(df_dep, indicators_to_sum, new_indicator, new_indic, new_mesure):\n",
    "    df_dep = df_dep.copy()\n",
    "    df_temp = df_dep.loc[df_dep.indicateur.str.contains(indicators_to_sum, regex=True)].groupby([\"Date\", \"dep\"]).sum().copy()\n",
    "    df_temp[\"indicateur\"] = new_indicator\n",
    "    df_temp[\"mesure\"] = new_mesure\n",
    "    df_temp = (df_temp\n",
    "            .merge(df_dep.drop(columns=[\"indicateur\", \"indic_id\", \"short_indic\", \"mesure\", \"short_mesure\", \"valeur\"])\n",
    "                   .drop_duplicates([\"Date\", \"dep\"]), \n",
    "             on=[\"Date\", \"dep\"]))\n",
    "    df_temp[\"short_indic\"] = new_indicator + \" - \" + new_indic\n",
    "    df_temp[\"short_mesure\"] = new_mesure\n",
    "    df_temp[\"indic_id\"] = new_indic\n",
    "    #df_temp.fillna(\"NaN\", inplace=True)\n",
    "    return df_temp"
   ]
  },
  {
   "cell_type": "code",
   "execution_count": 33,
   "metadata": {},
   "outputs": [],
   "source": [
    "df_temp = get_df_sum_indicator(\n",
    "    df_dep, \n",
    "    \"PEE3|EEI1|CBC3\",\n",
    "    \"Nombre d’entreprises ayant reçu l’aide\",\n",
    "    \"SSS1\",\n",
    "    \"Décarbonation de l'industrie (Appel à projets EE + Guichet EE + Chaleur bas carbone)\")\n",
    "df_temp2 = get_df_sum_indicator(\n",
    "    df_dep, \n",
    "    \"PEE2|CBC2\",\n",
    "    \"Montant cumulé de l’investissement total ainsi déclenché\",\n",
    "    \"SSS2\",\n",
    "    \"Décarbonation de l'industrie (Appel à projets EE + Guichet EE + Chaleur bas carbone)\")"
   ]
  },
  {
   "cell_type": "code",
   "execution_count": 34,
   "metadata": {},
   "outputs": [],
   "source": [
    "df_dep = pd.concat([df_dep, df_temp, df_temp2])"
   ]
  },
  {
   "cell_type": "code",
   "execution_count": 35,
   "metadata": {},
   "outputs": [],
   "source": [
    "def check_dep_coherence(df):\n",
    "    assert df['dep'].isnull().sum() == 0, \"Certaines lignes ne possèdent pas de code département.\"\n",
    "    \n",
    "    deps_test = sorted(df['dep'].unique())\n",
    "    deps_true = sorted(taxo_dep_df['dep'].unique())\n",
    "    assert deps_test == deps_true, \"Départements ne concordent pas.\"\n",
    "    \n",
    "    assert sorted(df['libelle'].unique()) == sorted(taxo_dep_df['libelle'])\n",
    "    \n",
    "\n",
    "def check_reg_coherence(df):\n",
    "    assert df['reg'].isnull().sum() == 0, \"Certaines lignes ne possèdent pas de code région.\"\n",
    "    \n",
    "    regs_test = sorted(df['reg'].unique())\n",
    "    regs_true = sorted(taxo_reg_df['reg'].unique())\n",
    "    assert regs_test == regs_true, \"Régions ne concordent pas.\"\n",
    "        \n",
    "    \n",
    "def check_df_dep_enr_format(df_dep_enr):\n",
    "    assert df_dep_enr.isnull().sum().sum() == 0\n",
    "    assert df_dep_enr.shape[0] == df_dep.shape[0]"
   ]
  },
  {
   "cell_type": "code",
   "execution_count": 36,
   "metadata": {},
   "outputs": [],
   "source": [
    "check_dep_coherence(df_dep)\n",
    "check_reg_coherence(df_dep)\n",
    "check_df_dep_enr_format(df_dep)"
   ]
  },
  {
   "cell_type": "code",
   "execution_count": 40,
   "metadata": {},
   "outputs": [
    {
     "data": {
      "text/html": "<div>\n<style scoped>\n    .dataframe tbody tr th:only-of-type {\n        vertical-align: middle;\n    }\n\n    .dataframe tbody tr th {\n        vertical-align: top;\n    }\n\n    .dataframe thead th {\n        text-align: right;\n    }\n</style>\n<table border=\"1\" class=\"dataframe\">\n  <thead>\n    <tr style=\"text-align: right;\">\n      <th></th>\n      <th>indicateur</th>\n      <th>state_id</th>\n      <th>period_date</th>\n      <th>period_month_tri</th>\n      <th>Date</th>\n      <th>valeur</th>\n      <th>short_indic</th>\n      <th>indic_id</th>\n      <th>departement</th>\n      <th>mesure</th>\n      <th>dep</th>\n      <th>reg</th>\n      <th>libelle</th>\n      <th>region</th>\n      <th>short_mesure</th>\n    </tr>\n  </thead>\n  <tbody>\n    <tr>\n      <th>0</th>\n      <td>Nombre de locaux commerciaux connectables à la...</td>\n      <td>Valeur Actuelle</td>\n      <td>2020-12-31T00:00:00.0000000</td>\n      <td>Dec</td>\n      <td>Décembre  2020</td>\n      <td>190200.0</td>\n      <td>Nombre de locaux commerciaux connectables à la...</td>\n      <td>THD1</td>\n      <td>Sarthe</td>\n      <td>Généralisation de la fibre optique</td>\n      <td>72</td>\n      <td>52</td>\n      <td>Sarthe</td>\n      <td>Pays de la Loire</td>\n      <td>Généralisation de la fibre optique</td>\n    </tr>\n    <tr>\n      <th>1</th>\n      <td>Nombre de locaux commerciaux connectables à la...</td>\n      <td>Valeur Actuelle</td>\n      <td>2020-12-31T00:00:00.0000000</td>\n      <td>Dec</td>\n      <td>Décembre  2020</td>\n      <td>31000.0</td>\n      <td>Nombre de locaux commerciaux connectables à la...</td>\n      <td>THD1</td>\n      <td>Ardèche</td>\n      <td>Généralisation de la fibre optique</td>\n      <td>07</td>\n      <td>84</td>\n      <td>Ardèche</td>\n      <td>Auvergne-Rhône-Alpes</td>\n      <td>Généralisation de la fibre optique</td>\n    </tr>\n    <tr>\n      <th>2</th>\n      <td>Nombre de locaux commerciaux connectables à la...</td>\n      <td>Valeur Actuelle</td>\n      <td>2020-12-31T00:00:00.0000000</td>\n      <td>Dec</td>\n      <td>Décembre  2020</td>\n      <td>26000.0</td>\n      <td>Nombre de locaux commerciaux connectables à la...</td>\n      <td>THD1</td>\n      <td>Lozère</td>\n      <td>Généralisation de la fibre optique</td>\n      <td>48</td>\n      <td>76</td>\n      <td>Lozère</td>\n      <td>Occitanie</td>\n      <td>Généralisation de la fibre optique</td>\n    </tr>\n    <tr>\n      <th>3</th>\n      <td>Nombre de locaux commerciaux connectables à la...</td>\n      <td>Valeur Actuelle</td>\n      <td>2020-12-31T00:00:00.0000000</td>\n      <td>Dec</td>\n      <td>Décembre  2020</td>\n      <td>176000.0</td>\n      <td>Nombre de locaux commerciaux connectables à la...</td>\n      <td>THD1</td>\n      <td>Pyrénées-Orientales</td>\n      <td>Généralisation de la fibre optique</td>\n      <td>66</td>\n      <td>76</td>\n      <td>Pyrénées-Orientales</td>\n      <td>Occitanie</td>\n      <td>Généralisation de la fibre optique</td>\n    </tr>\n    <tr>\n      <th>4</th>\n      <td>Nombre de locaux commerciaux connectables à la...</td>\n      <td>Valeur Actuelle</td>\n      <td>2020-12-31T00:00:00.0000000</td>\n      <td>Dec</td>\n      <td>Décembre  2020</td>\n      <td>54100.0</td>\n      <td>Nombre de locaux commerciaux connectables à la...</td>\n      <td>THD1</td>\n      <td>Corse-du-Sud</td>\n      <td>Généralisation de la fibre optique</td>\n      <td>2A</td>\n      <td>94</td>\n      <td>Corse-du-Sud</td>\n      <td>Corse</td>\n      <td>Généralisation de la fibre optique</td>\n    </tr>\n    <tr>\n      <th>...</th>\n      <td>...</td>\n      <td>...</td>\n      <td>...</td>\n      <td>...</td>\n      <td>...</td>\n      <td>...</td>\n      <td>...</td>\n      <td>...</td>\n      <td>...</td>\n      <td>...</td>\n      <td>...</td>\n      <td>...</td>\n      <td>...</td>\n      <td>...</td>\n      <td>...</td>\n    </tr>\n    <tr>\n      <th>976</th>\n      <td>Montant cumulé de l’investissement total ainsi...</td>\n      <td>Valeur Actuelle</td>\n      <td>2020-11-30T00:00:00.0000000</td>\n      <td>Nov</td>\n      <td>Novembre  2020</td>\n      <td>0.0</td>\n      <td>Montant cumulé de l’investissement total ainsi...</td>\n      <td>SSS2</td>\n      <td>Terres australes et antarctiques françaises</td>\n      <td>Décarbonation de l'industrie (Appel à projets ...</td>\n      <td>984</td>\n      <td>984</td>\n      <td>Terres australes et antarctiques françaises</td>\n      <td>Terres australes et antarctiques françaises</td>\n      <td>Décarbonation de l'industrie (Appel à projets ...</td>\n    </tr>\n    <tr>\n      <th>977</th>\n      <td>Montant cumulé de l’investissement total ainsi...</td>\n      <td>Valeur Actuelle</td>\n      <td>2020-11-30T00:00:00.0000000</td>\n      <td>Nov</td>\n      <td>Novembre  2020</td>\n      <td>0.0</td>\n      <td>Montant cumulé de l’investissement total ainsi...</td>\n      <td>SSS2</td>\n      <td>Wallis-et-Futuna</td>\n      <td>Décarbonation de l'industrie (Appel à projets ...</td>\n      <td>986</td>\n      <td>COM</td>\n      <td>Wallis-et-Futuna</td>\n      <td>Collectivités d’outre-mer</td>\n      <td>Décarbonation de l'industrie (Appel à projets ...</td>\n    </tr>\n    <tr>\n      <th>978</th>\n      <td>Montant cumulé de l’investissement total ainsi...</td>\n      <td>Valeur Actuelle</td>\n      <td>2020-11-30T00:00:00.0000000</td>\n      <td>Nov</td>\n      <td>Novembre  2020</td>\n      <td>0.0</td>\n      <td>Montant cumulé de l’investissement total ainsi...</td>\n      <td>SSS2</td>\n      <td>Polynésie française</td>\n      <td>Décarbonation de l'industrie (Appel à projets ...</td>\n      <td>987</td>\n      <td>COM</td>\n      <td>Polynésie française</td>\n      <td>Collectivités d’outre-mer</td>\n      <td>Décarbonation de l'industrie (Appel à projets ...</td>\n    </tr>\n    <tr>\n      <th>979</th>\n      <td>Montant cumulé de l’investissement total ainsi...</td>\n      <td>Valeur Actuelle</td>\n      <td>2020-11-30T00:00:00.0000000</td>\n      <td>Nov</td>\n      <td>Novembre  2020</td>\n      <td>0.0</td>\n      <td>Montant cumulé de l’investissement total ainsi...</td>\n      <td>SSS2</td>\n      <td>Nouvelle-Calédonie</td>\n      <td>Décarbonation de l'industrie (Appel à projets ...</td>\n      <td>988</td>\n      <td>988</td>\n      <td>Nouvelle-Calédonie</td>\n      <td>Nouvelle-Calédonie</td>\n      <td>Décarbonation de l'industrie (Appel à projets ...</td>\n    </tr>\n    <tr>\n      <th>980</th>\n      <td>Montant cumulé de l’investissement total ainsi...</td>\n      <td>Valeur Actuelle</td>\n      <td>2020-11-30T00:00:00.0000000</td>\n      <td>Nov</td>\n      <td>Novembre  2020</td>\n      <td>0.0</td>\n      <td>Montant cumulé de l’investissement total ainsi...</td>\n      <td>SSS2</td>\n      <td>Île de Clipperton</td>\n      <td>Décarbonation de l'industrie (Appel à projets ...</td>\n      <td>989</td>\n      <td>989</td>\n      <td>Île de Clipperton</td>\n      <td>Île de Clipperton</td>\n      <td>Décarbonation de l'industrie (Appel à projets ...</td>\n    </tr>\n  </tbody>\n</table>\n<p>48972 rows × 15 columns</p>\n</div>",
      "text/plain": "                                            indicateur         state_id  \\\n0    Nombre de locaux commerciaux connectables à la...  Valeur Actuelle   \n1    Nombre de locaux commerciaux connectables à la...  Valeur Actuelle   \n2    Nombre de locaux commerciaux connectables à la...  Valeur Actuelle   \n3    Nombre de locaux commerciaux connectables à la...  Valeur Actuelle   \n4    Nombre de locaux commerciaux connectables à la...  Valeur Actuelle   \n..                                                 ...              ...   \n976  Montant cumulé de l’investissement total ainsi...  Valeur Actuelle   \n977  Montant cumulé de l’investissement total ainsi...  Valeur Actuelle   \n978  Montant cumulé de l’investissement total ainsi...  Valeur Actuelle   \n979  Montant cumulé de l’investissement total ainsi...  Valeur Actuelle   \n980  Montant cumulé de l’investissement total ainsi...  Valeur Actuelle   \n\n                     period_date period_month_tri            Date    valeur  \\\n0    2020-12-31T00:00:00.0000000              Dec  Décembre  2020  190200.0   \n1    2020-12-31T00:00:00.0000000              Dec  Décembre  2020   31000.0   \n2    2020-12-31T00:00:00.0000000              Dec  Décembre  2020   26000.0   \n3    2020-12-31T00:00:00.0000000              Dec  Décembre  2020  176000.0   \n4    2020-12-31T00:00:00.0000000              Dec  Décembre  2020   54100.0   \n..                           ...              ...             ...       ...   \n976  2020-11-30T00:00:00.0000000              Nov  Novembre  2020       0.0   \n977  2020-11-30T00:00:00.0000000              Nov  Novembre  2020       0.0   \n978  2020-11-30T00:00:00.0000000              Nov  Novembre  2020       0.0   \n979  2020-11-30T00:00:00.0000000              Nov  Novembre  2020       0.0   \n980  2020-11-30T00:00:00.0000000              Nov  Novembre  2020       0.0   \n\n                                           short_indic indic_id  \\\n0    Nombre de locaux commerciaux connectables à la...     THD1   \n1    Nombre de locaux commerciaux connectables à la...     THD1   \n2    Nombre de locaux commerciaux connectables à la...     THD1   \n3    Nombre de locaux commerciaux connectables à la...     THD1   \n4    Nombre de locaux commerciaux connectables à la...     THD1   \n..                                                 ...      ...   \n976  Montant cumulé de l’investissement total ainsi...     SSS2   \n977  Montant cumulé de l’investissement total ainsi...     SSS2   \n978  Montant cumulé de l’investissement total ainsi...     SSS2   \n979  Montant cumulé de l’investissement total ainsi...     SSS2   \n980  Montant cumulé de l’investissement total ainsi...     SSS2   \n\n                                     departement  \\\n0                                         Sarthe   \n1                                        Ardèche   \n2                                         Lozère   \n3                            Pyrénées-Orientales   \n4                                   Corse-du-Sud   \n..                                           ...   \n976  Terres australes et antarctiques françaises   \n977                             Wallis-et-Futuna   \n978                          Polynésie française   \n979                           Nouvelle-Calédonie   \n980                            Île de Clipperton   \n\n                                                mesure  dep  reg  \\\n0                   Généralisation de la fibre optique   72   52   \n1                   Généralisation de la fibre optique   07   84   \n2                   Généralisation de la fibre optique   48   76   \n3                   Généralisation de la fibre optique   66   76   \n4                   Généralisation de la fibre optique   2A   94   \n..                                                 ...  ...  ...   \n976  Décarbonation de l'industrie (Appel à projets ...  984  984   \n977  Décarbonation de l'industrie (Appel à projets ...  986  COM   \n978  Décarbonation de l'industrie (Appel à projets ...  987  COM   \n979  Décarbonation de l'industrie (Appel à projets ...  988  988   \n980  Décarbonation de l'industrie (Appel à projets ...  989  989   \n\n                                         libelle  \\\n0                                         Sarthe   \n1                                        Ardèche   \n2                                         Lozère   \n3                            Pyrénées-Orientales   \n4                                   Corse-du-Sud   \n..                                           ...   \n976  Terres australes et antarctiques françaises   \n977                             Wallis-et-Futuna   \n978                          Polynésie française   \n979                           Nouvelle-Calédonie   \n980                            Île de Clipperton   \n\n                                          region  \\\n0                               Pays de la Loire   \n1                           Auvergne-Rhône-Alpes   \n2                                      Occitanie   \n3                                      Occitanie   \n4                                          Corse   \n..                                           ...   \n976  Terres australes et antarctiques françaises   \n977                    Collectivités d’outre-mer   \n978                    Collectivités d’outre-mer   \n979                           Nouvelle-Calédonie   \n980                            Île de Clipperton   \n\n                                          short_mesure  \n0                   Généralisation de la fibre optique  \n1                   Généralisation de la fibre optique  \n2                   Généralisation de la fibre optique  \n3                   Généralisation de la fibre optique  \n4                   Généralisation de la fibre optique  \n..                                                 ...  \n976  Décarbonation de l'industrie (Appel à projets ...  \n977  Décarbonation de l'industrie (Appel à projets ...  \n978  Décarbonation de l'industrie (Appel à projets ...  \n979  Décarbonation de l'industrie (Appel à projets ...  \n980  Décarbonation de l'industrie (Appel à projets ...  \n\n[48972 rows x 15 columns]"
     },
     "execution_count": 40,
     "metadata": {},
     "output_type": "execute_result"
    }
   ],
   "source": [
    "df_dep"
   ]
  },
  {
   "cell_type": "code",
   "execution_count": 38,
   "metadata": {},
   "outputs": [
    {
     "data": {
      "text/html": "<div>\n<style scoped>\n    .dataframe tbody tr th:only-of-type {\n        vertical-align: middle;\n    }\n\n    .dataframe tbody tr th {\n        vertical-align: top;\n    }\n\n    .dataframe thead th {\n        text-align: right;\n    }\n</style>\n<table border=\"1\" class=\"dataframe\">\n  <thead>\n    <tr style=\"text-align: right;\">\n      <th></th>\n      <th>indicateur</th>\n      <th>state_id</th>\n      <th>period_date</th>\n      <th>period_month_tri</th>\n      <th>Date</th>\n      <th>valeur</th>\n      <th>short_indic</th>\n      <th>indic_id</th>\n      <th>departement</th>\n      <th>mesure</th>\n      <th>dep</th>\n      <th>reg</th>\n      <th>libelle</th>\n      <th>region</th>\n    </tr>\n  </thead>\n  <tbody>\n    <tr>\n      <th>26293</th>\n      <td>Nombre de projets soutenus - FRE1</td>\n      <td>Valeur Actuelle</td>\n      <td>2021-01-31T00:00:00.0000000</td>\n      <td>Jan</td>\n      <td>Janvier   2021</td>\n      <td>0.0</td>\n      <td>Nombre de projets soutenus</td>\n      <td>FRE1</td>\n      <td>Frêt</td>\n      <td>Frêt</td>\n      <td>NaN</td>\n      <td>NaN</td>\n      <td>NaN</td>\n      <td>NaN</td>\n    </tr>\n    <tr>\n      <th>26294</th>\n      <td>Nombre de projets soutenus - FRE1</td>\n      <td>Valeur Actuelle</td>\n      <td>2021-02-28T00:00:00.0000000</td>\n      <td>Feb</td>\n      <td>Février  2021</td>\n      <td>0.0</td>\n      <td>Nombre de projets soutenus</td>\n      <td>FRE1</td>\n      <td>Frêt</td>\n      <td>Frêt</td>\n      <td>NaN</td>\n      <td>NaN</td>\n      <td>NaN</td>\n      <td>NaN</td>\n    </tr>\n    <tr>\n      <th>26295</th>\n      <td>Nombre de projets soutenus - FRE1</td>\n      <td>Valeur Actuelle</td>\n      <td>2021-03-31T00:00:00.0000000</td>\n      <td>Mar</td>\n      <td>Mars     2021</td>\n      <td>0.0</td>\n      <td>Nombre de projets soutenus</td>\n      <td>FRE1</td>\n      <td>Frêt</td>\n      <td>Frêt</td>\n      <td>NaN</td>\n      <td>NaN</td>\n      <td>NaN</td>\n      <td>NaN</td>\n    </tr>\n    <tr>\n      <th>26296</th>\n      <td>Nombre de projets soutenus - FRE1</td>\n      <td>Valeur Actuelle</td>\n      <td>2021-04-30T00:00:00.0000000</td>\n      <td>Apr</td>\n      <td>Avril     2021</td>\n      <td>0.0</td>\n      <td>Nombre de projets soutenus</td>\n      <td>FRE1</td>\n      <td>Frêt</td>\n      <td>Frêt</td>\n      <td>NaN</td>\n      <td>NaN</td>\n      <td>NaN</td>\n      <td>NaN</td>\n    </tr>\n    <tr>\n      <th>26297</th>\n      <td>Nombre de projets soutenus - FRE1</td>\n      <td>Valeur Actuelle</td>\n      <td>2021-05-31T00:00:00.0000000</td>\n      <td>May</td>\n      <td>Mai       2021</td>\n      <td>0.0</td>\n      <td>Nombre de projets soutenus</td>\n      <td>FRE1</td>\n      <td>Frêt</td>\n      <td>Frêt</td>\n      <td>NaN</td>\n      <td>NaN</td>\n      <td>NaN</td>\n      <td>NaN</td>\n    </tr>\n  </tbody>\n</table>\n</div>",
      "text/plain": "                              indicateur         state_id  \\\n26293  Nombre de projets soutenus - FRE1  Valeur Actuelle   \n26294  Nombre de projets soutenus - FRE1  Valeur Actuelle   \n26295  Nombre de projets soutenus - FRE1  Valeur Actuelle   \n26296  Nombre de projets soutenus - FRE1  Valeur Actuelle   \n26297  Nombre de projets soutenus - FRE1  Valeur Actuelle   \n\n                       period_date period_month_tri            Date  valeur  \\\n26293  2021-01-31T00:00:00.0000000              Jan  Janvier   2021     0.0   \n26294  2021-02-28T00:00:00.0000000              Feb   Février  2021     0.0   \n26295  2021-03-31T00:00:00.0000000              Mar   Mars     2021     0.0   \n26296  2021-04-30T00:00:00.0000000              Apr  Avril     2021     0.0   \n26297  2021-05-31T00:00:00.0000000              May  Mai       2021     0.0   \n\n                      short_indic indic_id departement mesure  dep  reg  \\\n26293  Nombre de projets soutenus     FRE1        Frêt   Frêt  NaN  NaN   \n26294  Nombre de projets soutenus     FRE1        Frêt   Frêt  NaN  NaN   \n26295  Nombre de projets soutenus     FRE1        Frêt   Frêt  NaN  NaN   \n26296  Nombre de projets soutenus     FRE1        Frêt   Frêt  NaN  NaN   \n26297  Nombre de projets soutenus     FRE1        Frêt   Frêt  NaN  NaN   \n\n      libelle region  \n26293     NaN    NaN  \n26294     NaN    NaN  \n26295     NaN    NaN  \n26296     NaN    NaN  \n26297     NaN    NaN  "
     },
     "execution_count": 38,
     "metadata": {},
     "output_type": "execute_result"
    }
   ],
   "source": [
    "df_nat.head()"
   ]
  },
  {
   "cell_type": "code",
   "execution_count": 39,
   "metadata": {},
   "outputs": [],
   "source": [
    "df_dep.to_csv(\"pp_dep.csv\", sep=\";\")"
   ]
  },
  {
   "cell_type": "code",
   "execution_count": null,
   "metadata": {},
   "outputs": [],
   "source": []
  }
 ],
 "metadata": {
  "kernelspec": {
   "display_name": "Python 3",
   "language": "python",
   "name": "python3"
  },
  "language_info": {
   "codemirror_mode": {
    "name": "ipython",
    "version": 3
   },
   "file_extension": ".py",
   "mimetype": "text/x-python",
   "name": "python",
   "nbconvert_exporter": "python",
   "pygments_lexer": "ipython3",
   "version": "3.6.9"
  }
 },
 "nbformat": 4,
 "nbformat_minor": 5
}