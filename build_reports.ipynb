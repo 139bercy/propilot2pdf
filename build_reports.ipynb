{
 "cells": [
  {
   "cell_type": "code",
   "execution_count": null,
   "metadata": {},
   "outputs": [],
   "source": [
    "import os\n",
    "import urllib.request\n",
    "import json\n",
    "import datetime\n",
    "\n",
    "import re\n",
    "import pandas as pd\n",
    "import numpy as np\n",
    "import matplotlib.pyplot as plt\n",
    "from pprint import pprint\n",
    "from unidecode import unidecode\n",
    "\n",
    "# Permet la génération de word\n",
    "from docx import Document\n",
    "from docx.shared import Pt\n",
    "from docxcompose.composer import Composer\n",
    "from docxtpl import DocxTemplate, RichText\n",
    "from docx.enum.style import WD_STYLE_TYPE"
   ]
  },
  {
   "cell_type": "code",
   "execution_count": null,
   "metadata": {},
   "outputs": [],
   "source": [
    "def import_json_to_dict(url) :\n",
    "    response = urllib.request.urlopen(url)\n",
    "    my_dict = json.loads(response.read())\n",
    "    return my_dict"
   ]
  },
  {
   "cell_type": "code",
   "execution_count": null,
   "metadata": {},
   "outputs": [],
   "source": [
    "def mkdir_ifnotexist(path) :\n",
    "    if not os.path.isdir(path) :\n",
    "        os.mkdir(path)"
   ]
  },
  {
   "cell_type": "code",
   "execution_count": null,
   "metadata": {},
   "outputs": [],
   "source": [
    "def format_thousands(s):\n",
    "    # Transforme : 1000 -> 1 000\n",
    "    new_str = ''\n",
    "    for i, ch in enumerate(s[::-1], start=1):\n",
    "        new_str = ch + new_str\n",
    "        if i % 3 == 0:\n",
    "            new_str = ' ' + new_str\n",
    "    return new_str.strip()\n"
   ]
  },
  {
   "cell_type": "code",
   "execution_count": null,
   "metadata": {},
   "outputs": [],
   "source": [
    "def format_amount(indic, valeur):\n",
    "    if \"Montant\" in indic:\n",
    "        f_valeur = float(valeur)\n",
    "        if f_valeur > 1000000:\n",
    "            return str(round(f_valeur/1000000, 1)) + ' M€'\n",
    "        elif f_valeur > 10000:\n",
    "            return str(round(f_valeur/1000, 1)) + ' k€'\n",
    "        else:\n",
    "            return str(f_valeur)\n",
    "    else:\n",
    "        try:\n",
    "            return format_thousands(valeur.split(\".\")[0])\n",
    "        except ValueError as err:\n",
    "            print(f\"L'indicateur {indic} possède des valeurs invalides : {err}\")"
   ]
  },
  {
   "cell_type": "code",
   "execution_count": null,
   "metadata": {},
   "outputs": [],
   "source": [
    "mailles = [\"national\", \"regional\", \"departemental\"]"
   ]
  },
  {
   "cell_type": "code",
   "execution_count": null,
   "metadata": {},
   "outputs": [],
   "source": [
    "# Import ref départements / régions\n",
    "taxo_dep_df = pd.read_csv('refs/taxo_deps.csv', dtype={'dep':str, 'reg':str})\n",
    "taxo_dep_df['dep'] = taxo_dep_df['dep'].apply(lambda x: x.zfill(2))\n",
    "taxo_dep_df['reg'] = taxo_dep_df['reg'].apply(lambda x: x.zfill(2))\n",
    "dep_list = list(taxo_dep_df['dep'].unique())\n",
    "print('{} departements.'.format(len(dep_list)))\n",
    "\n",
    "taxo_reg_df = pd.read_csv('refs/taxo_regions.csv', dtype={'reg':str})\n",
    "taxo_reg_df['reg'] = taxo_reg_df['reg'].apply(lambda x: x.zfill(2))\n",
    "reg_list = list(taxo_reg_df['reg'].unique())\n",
    "print('{} regions.'.format(len(reg_list)))"
   ]
  },
  {
   "cell_type": "code",
   "execution_count": null,
   "metadata": {},
   "outputs": [],
   "source": [
    "pp_dep = pd.read_csv(\"pp_dep.csv\", sep=\";\", dtype={\"reg\":str, \"dep\":str})\n",
    "\n",
    "# Suppression des espacements multiples dans la date\n",
    "pp_dep['Date'] = pp_dep.Date.apply(lambda x: re.sub(' +', ' ', x))"
   ]
  },
  {
   "cell_type": "code",
   "execution_count": null,
   "metadata": {},
   "outputs": [],
   "source": [
    "pp_dep['code_mesure'] = pp_dep.indicateur.apply(lambda x: x.split('-')[-1].strip())"
   ]
  },
  {
   "cell_type": "code",
   "execution_count": null,
   "metadata": {},
   "outputs": [],
   "source": [
    "# volet2code_mesures = {\n",
    "#     'Ecologie': [\"MPR\", \"BOE\", \"DVP\", \"RBE\", \"SIL\", \"FFR\", \"FAA\"],\n",
    "#     'Compétitivité': [\"IDF\", \"PIT\", \"SAC\", \"FUM\", \"SBF\", \"PAT\"],\n",
    "#     'Cohésion': [\"APP\", \"PEJ\", \"CIE\", \"PEC\", \"CDP\", \"GJE\", \"SCI\", \"PTH\", \"RBC\"],\n",
    "# }\n",
    "\n",
    "volet2code_mesures = {\n",
    "    'Ecologie': [\"MPR\", \"BOE\", \"DVP\", \"RBC\", \"RBE\", \"AEA\", \"FFR\", \"BPI\"],  #MPR et BPI x2\n",
    "    'Compétitivité': [\"IDF\", \"PIT\", \"SAC\", \"FUM\", \"SFC\", \"SBF\"],\n",
    "    'Cohésion': [\"AAP\", \"PEJ\", \"CIE\", \"PEC\", \"CDP\", \"GJE\", \"SCI\", \"PTH\", \"SIL\"],\n",
    "}"
   ]
  },
  {
   "cell_type": "code",
   "execution_count": null,
   "metadata": {},
   "outputs": [],
   "source": [
    "code2short_mesure = pp_dep[['code_mesure', 'short_mesure']].set_index('code_mesure').to_dict()['short_mesure']\n",
    "\n",
    "# Ajout des clés manquantes\n",
    "code2short_mesure['SIL'] = \"Soutien à l'investissement local (DSIL exceptionnelle)\"\n",
    "#code2short_mesure['FFR'] = \"Fonds friches (projet urbain)(MTE)\"\n",
    "code2short_mesure['RBC'] = \"Rénovation thermique des bâtiments publics soutenus par la DSIL, DSID, DRI\"\n",
    "\n",
    "# liste_code_mesure = [\"MPR\", \"BOE\", \"DVP\", \"RBC\", \"RBE\", \"AEA\", \"FFR\", \"BPI\", \"IDF\", \"PIT\", \"SAC\", \"FUM\", \"SFC\", \"SBF\", \"APP\", \"PEJ\", \"CIE\", \"PEC\", \"CDP\", \"GJE\", \"SCI\", \"PTH\", \"SIL\"]\n",
    "# for code in liste_code_mesure:\n",
    "#     if code not in code2short_mesure:\n",
    "#         print(code)"
   ]
  },
  {
   "cell_type": "code",
   "execution_count": null,
   "metadata": {},
   "outputs": [],
   "source": [
    "t = pp_dep.indic.unique()\n",
    "'SIL' in t"
   ]
  },
  {
   "cell_type": "code",
   "execution_count": null,
   "metadata": {},
   "outputs": [],
   "source": [
    "# Avoir le nom utilisé dans pp_dep\n",
    "volet2mesures = {volet: [] for volet in volet2code_mesures}\n",
    "for volet in volet2code_mesures:\n",
    "    # Trier les mesures par ordre alphabétique\n",
    "    mesures = pp_dep[pp_dep.code_mesure.isin(volet2code_mesures[volet])].short_mesure.sort_values().unique().tolist()\n",
    "    volet2mesures[volet] = mesures"
   ]
  },
  {
   "cell_type": "code",
   "execution_count": null,
   "metadata": {},
   "outputs": [],
   "source": [
    "volet2mesures"
   ]
  },
  {
   "cell_type": "code",
   "execution_count": null,
   "metadata": {},
   "outputs": [],
   "source": [
    "# Nombre de mesures attrapées\n",
    "print(len([indics for volet in volet2mesures for indics in volet2mesures[volet]]))"
   ]
  },
  {
   "cell_type": "code",
   "execution_count": null,
   "metadata": {},
   "outputs": [],
   "source": [
    "def check_pp_reg(pp_reg):\n",
    "    assert sorted(pp_reg['reg'].unique()) == sorted(taxo_reg_df['reg'])\n",
    "    assert sorted(pp_reg['region'].unique()) == sorted(taxo_reg_df['libelle'])\n",
    "    assert sorted(pp_reg['mesure'].unique()) == sorted(pp_dep['mesure'].unique())\n",
    "    assert sorted(pp_reg['short_mesure'].unique()) == sorted(pp_dep['short_mesure'].unique())\n",
    "    \n",
    "\n",
    "def check_pp_nat(pp_nat):\n",
    "    assert sorted(pp_nat['mesure'].unique()) == sorted(pp_nat['mesure'].unique())\n",
    "    assert sorted(pp_nat['short_mesure'].unique()) == sorted(pp_nat['short_mesure'].unique())"
   ]
  },
  {
   "cell_type": "code",
   "execution_count": null,
   "metadata": {},
   "outputs": [],
   "source": [
    "# Obtention des valeurs régionale par somme des valeurs départementales\n",
    "pp_reg = pd.pivot_table(pp_dep, index=[\"mesure\",\"short_mesure\", \"reg\",\"region\", \"Date\", \"period_date\", \"short_indic\"], values=\"valeur\", aggfunc=np.sum)\n",
    "pp_reg.rename(columns={\"reg\":\"libelle\"}, inplace=True)\n",
    "pp_reg.reset_index(inplace=True)\n",
    "check_pp_reg(pp_reg)"
   ]
  },
  {
   "cell_type": "code",
   "execution_count": null,
   "metadata": {},
   "outputs": [],
   "source": [
    "# Obtention des valeurs nationales par somme des valeurs régionale\n",
    "pp_nat = pd.pivot_table(pp_reg, index=[\"mesure\", \"short_mesure\", \"Date\",\"period_date\", \"short_indic\"], values=\"valeur\", aggfunc=np.sum)\n",
    "pp_nat.reset_index(inplace=True)\n",
    "check_pp_nat(pp_nat)"
   ]
  },
  {
   "cell_type": "code",
   "execution_count": null,
   "metadata": {},
   "outputs": [],
   "source": [
    "# Extraction des mesures-indicateurs à afficher dans les fiches\n",
    "code_mesures_to_keep = set([mesure for volet in volet2code_mesures for mesure in volet2code_mesures[volet]])\n",
    "code_mesures_to_keep"
   ]
  },
  {
   "cell_type": "code",
   "execution_count": null,
   "metadata": {},
   "outputs": [],
   "source": [
    "# On veut relier mesure -> indicateurs\n",
    "mesure_indics = pp_dep.groupby(['code_mesure', 'short_mesure']).agg({'short_indic': list}).reset_index()\n",
    "mesure_indics = mesure_indics[mesure_indics.code_mesure.isin(code_mesures_to_keep)]\n",
    "dict_mesure_indic = {}\n",
    "\n",
    "for i, row in mesure_indics.iterrows():\n",
    "    dict_mesure_indic[row['short_mesure']] = list(set(row['short_indic']))"
   ]
  },
  {
   "cell_type": "code",
   "execution_count": null,
   "metadata": {},
   "outputs": [],
   "source": [
    "# On se restreint à certains indicateurs dans les mesures suivantes\n",
    "dict_mesure_indic['Soutien aux fonds propres des filières automobiles et aéronautiques'] = [\"Nombre d'entreprises\"]\n",
    "dict_mesure_indic['AAP Industrie : Soutien aux projets industriels territoires'] = ['Nombre de TPE,PME,ETI bénéficiaires']\n",
    "dict_mesure_indic['AAP Industrie : Sécurisation approvisionnements critiques'] = ['Nombre de TPE,PME,ETI bénéficiaires']"
   ]
  },
  {
   "cell_type": "code",
   "execution_count": null,
   "metadata": {},
   "outputs": [],
   "source": [
    "# On ne veut pas afficher les lignes de Prime Rénov nulles\n",
    "pp_dep = pp_dep.loc[(pp_dep.short_mesure != \"Ma Prime Rénov'\") | (pp_dep.valeur != 0) ]\n",
    "pp_reg = pp_reg.loc[(pp_reg.short_mesure != \"Ma Prime Rénov'\") | (pp_reg.valeur != 0) ]\n",
    "pp_nat = pp_nat.loc[(pp_nat.short_mesure != \"Ma Prime Rénov'\") | (pp_nat.valeur != 0) ]\n",
    "\n",
    "assert pp_dep[(pp_dep['valeur'] == 0) & (pp_dep.short_mesure == \"Ma Prime Rénov'\")].shape[0] == 0\n",
    "assert pp_reg[(pp_reg['valeur'] == 0) & (pp_reg.short_mesure == \"Ma Prime Rénov'\")].shape[0] == 0\n",
    "assert pp_nat[(pp_nat['valeur'] == 0) & (pp_nat.short_mesure == \"Ma Prime Rénov'\")].shape[0] == 0"
   ]
  },
  {
   "cell_type": "code",
   "execution_count": null,
   "metadata": {},
   "outputs": [],
   "source": [
    "assert pp_nat.duplicated(subset=['mesure','short_indic', 'Date']).sum() == 0\n",
    "assert pp_reg.duplicated(subset=['mesure','short_indic', 'Date', 'reg']).sum() == 0"
   ]
  },
  {
   "cell_type": "code",
   "execution_count": null,
   "metadata": {},
   "outputs": [],
   "source": [
    "pp_dep.loc[41012]"
   ]
  },
  {
   "cell_type": "code",
   "execution_count": null,
   "metadata": {},
   "outputs": [],
   "source": [
    "# Calcul des poids dep/reg\n",
    "pp_dep = pp_dep.merge(pp_reg[['mesure','short_indic', 'Date', 'reg', 'valeur']], \n",
    "                      on=['mesure','short_indic', 'Date', 'reg'], \n",
    "                      how='left', suffixes=('', '_reg'))\n",
    "pp_dep['poids_reg'] = pp_dep.apply(lambda x: str(round(100 * x['valeur'] / max(x['valeur_reg'], 1))) + \"%\", axis=1)"
   ]
  },
  {
   "cell_type": "code",
   "execution_count": null,
   "metadata": {},
   "outputs": [],
   "source": [
    "# Vérifier qu'on a pas de pourcentages aberrants\n",
    "assert pp_dep.poids_reg.isnull().sum() == 0\n",
    "assert all(int(poids_reg[:-1]) <= 100 for poids_reg in pp_dep.poids_reg.values)"
   ]
  },
  {
   "cell_type": "code",
   "execution_count": null,
   "metadata": {},
   "outputs": [],
   "source": [
    "# Calcul des poids reg/nat\n",
    "pp_reg = pp_reg.merge(pp_nat[['mesure','short_indic', 'Date', 'valeur']],\n",
    "                    on=['mesure','short_indic', 'Date'], \n",
    "                    how='left', suffixes=('', '_nat'))\n",
    "pp_reg['poids_nat'] = pp_reg.apply(lambda x: str(round(100 * x['valeur'] / max(1, x['valeur_nat']))) + \"%\", axis=1)"
   ]
  },
  {
   "cell_type": "code",
   "execution_count": null,
   "metadata": {},
   "outputs": [],
   "source": [
    "# Vérifier qu'on a pas de pourcentages aberrants\n",
    "assert pp_reg.poids_nat.isnull().sum() == 0\n",
    "assert all(int(poids_nat[:-1]) <= 100 for poids_nat in pp_reg.poids_nat.values)"
   ]
  },
  {
   "cell_type": "code",
   "execution_count": null,
   "metadata": {},
   "outputs": [],
   "source": [
    "pp_dep.valeur = pp_dep.valeur.astype(str)\n",
    "pp_dep.valeur = pp_dep.apply(lambda x: str(format_amount(x[\"short_indic\"], x[\"valeur\"])) + ' (' + x['poids_reg'] + ')', axis=1)"
   ]
  },
  {
   "cell_type": "code",
   "execution_count": null,
   "metadata": {},
   "outputs": [],
   "source": [
    "pp_reg.valeur = pp_reg.valeur.astype(str)\n",
    "pp_reg.valeur = pp_reg.apply(lambda x: str(format_amount(x[\"short_indic\"], x[\"valeur\"])) + ' (' + x['poids_nat'] + ')', axis=1)"
   ]
  },
  {
   "cell_type": "code",
   "execution_count": null,
   "metadata": {},
   "outputs": [],
   "source": [
    "pp_nat.valeur = pp_nat.valeur.astype(str)\n",
    "pp_nat.valeur = pp_nat.apply(lambda x: format_amount(x[\"short_indic\"], x[\"valeur\"]), axis=1)"
   ]
  },
  {
   "cell_type": "code",
   "execution_count": null,
   "metadata": {},
   "outputs": [],
   "source": [
    "#Building the folders structures\n",
    "\n",
    "# For PDF\n",
    "img_dir_path = './img/'\n",
    "reports_dir_path = './reports/'\n",
    "mkdir_ifnotexist(reports_dir_path)\n",
    "\n",
    "# For words\n",
    "word_dir_path = \"reports_word\"\n",
    "word_gen_dir_path = \"reports_word/Generation_p2p\"\n",
    "mkdir_ifnotexist(word_dir_path)\n",
    "mkdir_ifnotexist(word_gen_dir_path)"
   ]
  },
  {
   "cell_type": "code",
   "execution_count": null,
   "metadata": {},
   "outputs": [],
   "source": [
    "all_charts_as_df = {\"departemental\": {dep: {} for dep in dep_list},\n",
    "                    \"national\": {'France': {}},\n",
    "                    \"regional\": {reg: {} for reg in reg_list}}\n",
    "    "
   ]
  },
  {
   "cell_type": "code",
   "execution_count": null,
   "metadata": {},
   "outputs": [],
   "source": [
    "# Récuperer les 3 derniers mois\n",
    "months = ('Janvier', 'Février', 'Mars', 'Avril', 'Mai', 'Juin', 'Juillet', \n",
    "          'Août', 'Septembre', 'Octobre', 'Novembre', 'Décembre')\n",
    "\n",
    "today = datetime.date.today()\n",
    "last_dates_to_keep = []\n",
    "\n",
    "for i in range(1, 3+1):\n",
    "    month_name = months[(today.month-1-i) % 12]\n",
    "    year = today.year - 1 if (today.month-1-i) < 0 else today.year\n",
    "    last_dates_to_keep.append(f'{month_name} {year}')\n",
    "\n",
    "last_dates_to_keep"
   ]
  },
  {
   "cell_type": "code",
   "execution_count": null,
   "metadata": {},
   "outputs": [],
   "source": [
    "def complete_values_for_missing_dates(df_plot, na_replacement):\n",
    "    # Obtention des dates à ajouter\n",
    "    missing_dates = set(last_dates_to_keep) - set(df_plot.Date)\n",
    "    sorted_missing_dates = sorted(missing_dates, key=lambda x: months.index(x.split(' ')[0]))\n",
    "    \n",
    "    # Remplissage pour les dates manquantes\n",
    "    df_complement = pd.DataFrame({col: sorted_missing_dates if col == 'Date' else na_replacement for col in df_plot.columns})\n",
    "    return pd.concat([df_plot, df_complement]).reset_index(drop=True)\n",
    "\n",
    "\n",
    "def make_pp_chart(maille, mesure, short_indics):\n",
    "    na_replacement = \"non disponible\"\n",
    "    \n",
    "    if maille == \"departemental\":\n",
    "        df = pp_dep.loc[(pp_dep.short_mesure == mesure)].sort_values(by=\"period_date\", ascending=True).copy()\n",
    "        deps = taxo_dep_df.dep.unique()  # Liste exhaustive de départements\n",
    "        \n",
    "        # Préparer un tableau par défaut à mettre quand on ne dispose d'aucune valeur\n",
    "        default = df.groupby([\"Date\", \"period_date\"]).sum().sort_values(\"period_date\", ascending=True).reset_index()\n",
    "        default[short_indics] = na_replacement\n",
    "        default = default[[\"Date\"] + short_indics]\n",
    "        default = complete_values_for_missing_dates(default, na_replacement)\n",
    "\n",
    "        for dep in deps:\n",
    "            print(f\"Plotting {mesure}-{short_indics} : departement {dep}\")\n",
    "            df_dep = df.loc[df.dep == dep]\n",
    "            if df_dep.shape[0] == 0:\n",
    "                all_charts_as_df[maille][dep][mesure] = default.T.reset_index().T  # Avoir le nom des colonnes en valeurs\n",
    "            else:\n",
    "                df_plot = pd.pivot_table(df_dep, index=['period_date', 'Date'], columns=['short_indic'], values='valeur', aggfunc='first')\n",
    "                df_plot = df_plot.reset_index().drop('period_date', axis=1)\n",
    "                df_plot = df_plot.rename_axis(None, axis=1)\n",
    "                df_plot = df_plot.fillna(na_replacement)\n",
    "                # Ajout des indicateurs/colonnes manquantes\n",
    "                cols = set(df_plot.columns).intersection(short_indics)\n",
    "                if len(cols) != len(short_indics):\n",
    "                    missing_cols = set(short_indics) - cols\n",
    "                    for missing_col in missing_cols:\n",
    "                        df_plot[missing_col] = na_replacement\n",
    "                df_plot = df_plot[['Date'] + short_indics]\n",
    "                df_plot = complete_values_for_missing_dates(df_plot, na_replacement)\n",
    "                all_charts_as_df[maille][dep][mesure] = df_plot.T.reset_index().T\n",
    "                \n",
    "            \n",
    "    elif maille == \"regional\":\n",
    "        df = pp_reg.loc[(pp_reg.short_mesure == mesure)].sort_values(by=\"period_date\", ascending=True).copy()\n",
    "        regs = taxo_dep_df.reg.unique()\n",
    "        \n",
    "        default = df.groupby([\"Date\", \"period_date\"]).sum().sort_values(\"period_date\", ascending=True).reset_index()\n",
    "        default[short_indics] = na_replacement\n",
    "        default = default[[\"Date\"] + short_indics]\n",
    "        default = complete_values_for_missing_dates(default, na_replacement)\n",
    "\n",
    "        for reg in regs:\n",
    "            print(f\"Plotting region {mesure}-{short_indics} : {reg}\")\n",
    "            df_reg = df.loc[df.reg == reg]\n",
    "            if df_reg.shape[0] == 0:\n",
    "                all_charts_as_df[maille][reg][mesure] = default.T.reset_index().T\n",
    "            else:\n",
    "                df_plot = pd.pivot_table(df_reg, index=['period_date', 'Date'], columns=['short_indic'], values='valeur', aggfunc='first')\n",
    "                df_plot = df_plot.reset_index().drop('period_date', axis=1)\n",
    "                df_plot = df_plot.rename_axis(None, axis=1)\n",
    "                df_plot = df_plot.fillna(na_replacement)\n",
    "                cols = set(df_plot.columns).intersection(short_indics)\n",
    "                if len(cols) != len(short_indics):\n",
    "                    missing_cols = set(short_indics) - cols\n",
    "                    for missing_col in missing_cols:\n",
    "                        df_plot[missing_col] = na_replacement\n",
    "                df_plot = df_plot[['Date'] + short_indics]\n",
    "                df_plot = complete_values_for_missing_dates(df_plot, na_replacement)\n",
    "                all_charts_as_df[maille][reg][mesure] = df_plot.T.reset_index().T\n",
    "            \n",
    "    elif maille == \"national\":\n",
    "        print(f\"Plotting country {mesure}-{short_indics}\")\n",
    "        df_nat = pp_nat.loc[(pp_nat.short_mesure == mesure)].sort_values(by=\"period_date\", ascending=True).copy()\n",
    "        df_plot = pd.pivot_table(df_nat, index=['period_date', 'Date'], columns=['short_indic'], values='valeur', aggfunc='first')\n",
    "        df_plot = df_plot.reset_index().drop('period_date', axis=1)\n",
    "        df_plot = df_plot.rename_axis(None, axis=1)\n",
    "        df_plot = df_plot.fillna(na_replacement)\n",
    "        df_plot = df_plot[['Date'] + short_indics]\n",
    "        print(f'here')\n",
    "        df_plot = complete_values_for_missing_dates(df_plot, na_replacement)\n",
    "        all_charts_as_df[maille]['France'][mesure] = df_plot.T.reset_index().T\n"
   ]
  },
  {
   "cell_type": "code",
   "execution_count": null,
   "metadata": {},
   "outputs": [],
   "source": [
    "def make_all_charts():\n",
    "    for mesure in dict_mesure_indic:\n",
    "        short_indics = dict_mesure_indic[mesure]\n",
    "        for maille in mailles :\n",
    "            make_pp_chart(maille, mesure, short_indics)"
   ]
  },
  {
   "cell_type": "code",
   "execution_count": null,
   "metadata": {},
   "outputs": [],
   "source": [
    "for mesure in dict_mesure_indic:\n",
    "    short_indics = dict_mesure_indic[mesure]\n",
    "    for maille in mailles :\n",
    "        make_pp_chart(maille, mesure, short_indics)"
   ]
  },
  {
   "cell_type": "code",
   "execution_count": null,
   "metadata": {
    "tags": [
     "outputPrepend"
    ]
   },
   "outputs": [],
   "source": [
    "make_all_charts()"
   ]
  },
  {
   "cell_type": "code",
   "execution_count": null,
   "metadata": {},
   "outputs": [],
   "source": [
    "def check_charts_exhaustivity(all_charts_as_df):\n",
    "    assert sorted(all_charts_as_df['departemental'].keys()) == sorted(taxo_dep_df['dep'])\n",
    "    assert sorted(all_charts_as_df['regional'].keys()) == sorted(taxo_reg_df['reg'])\n",
    "    assert sorted(all_charts_as_df['national'].keys()) == ['France']\n",
    "    \n",
    "    # Vérifier si des graphiques manquent.\n",
    "    for dep in taxo_dep_df['dep']:\n",
    "        assert sorted(all_charts_as_df['departemental'][dep].keys()) == sorted(dict_mesure_indic.keys()), f\"{dep}\"\n",
    "    for reg in taxo_reg_df['reg']:\n",
    "        assert sorted(all_charts_as_df['regional'][reg].keys()) == sorted(dict_mesure_indic.keys())\n",
    "    \n",
    "    assert sorted(all_charts_as_df['national']['France'].keys()) == sorted(dict_mesure_indic.keys())\n",
    "\n",
    "    \n",
    "check_charts_exhaustivity(all_charts_as_df)"
   ]
  },
  {
   "cell_type": "code",
   "execution_count": 309,
   "metadata": {},
   "outputs": [
    {
     "data": {
      "text/html": "<div>\n<style scoped>\n    .dataframe tbody tr th:only-of-type {\n        vertical-align: middle;\n    }\n\n    .dataframe tbody tr th {\n        vertical-align: top;\n    }\n\n    .dataframe thead th {\n        text-align: right;\n    }\n</style>\n<table border=\"1\" class=\"dataframe\">\n  <thead>\n    <tr style=\"text-align: right;\">\n      <th></th>\n      <th>Volet</th>\n      <th>Mesures</th>\n      <th>Indicateurs</th>\n      <th>code_mesure</th>\n      <th>url</th>\n      <th>commentaire</th>\n    </tr>\n  </thead>\n  <tbody>\n    <tr>\n      <th>0</th>\n      <td>Ecologie</td>\n      <td>Ma Prime Renov'</td>\n      <td>Nombre de dossiers MaPrimeRénov bénéficiaires ...</td>\n      <td>MPR</td>\n      <td>https://www.economie.gouv.fr/plan-de-relance/p...</td>\n      <td>n</td>\n    </tr>\n    <tr>\n      <th>1</th>\n      <td>Ecologie</td>\n      <td>Ma Prime Renov'</td>\n      <td>Montant total des travaux associés aux dossier...</td>\n      <td>MPR</td>\n      <td>https://www.economie.gouv.fr/plan-de-relance/p...</td>\n      <td>n</td>\n    </tr>\n    <tr>\n      <th>2</th>\n      <td>Ecologie</td>\n      <td>Bonus électrique</td>\n      <td>Nombre de bonus octroyés - BOE</td>\n      <td>BOE</td>\n      <td>https://www.economie.gouv.fr/plan-de-relance/p...</td>\n      <td>n</td>\n    </tr>\n    <tr>\n      <th>3</th>\n      <td>Ecologie</td>\n      <td>Prime à la conversion des véhicules légers</td>\n      <td>Nombre de primes - DVP</td>\n      <td>DVP</td>\n      <td>https://www.ecologie.gouv.fr/france-relance-bo...</td>\n      <td>n</td>\n    </tr>\n    <tr>\n      <th>4</th>\n      <td>Ecologie</td>\n      <td>Rénovation thermique des bâtiments publics sou...</td>\n      <td>Nombre de projets de rénovation thermique des ...</td>\n      <td>RBC</td>\n      <td>https://www.economie.gouv.fr/plan-de-relance/p...</td>\n      <td>n</td>\n    </tr>\n    <tr>\n      <th>5</th>\n      <td>Ecologie</td>\n      <td>Rénovation des bâtiments Etat</td>\n      <td>Nombre de bâtiments Etat dont le marché de rén...</td>\n      <td>RBE</td>\n      <td>https://www.economie.gouv.fr/plan-de-relance/p...</td>\n      <td>o</td>\n    </tr>\n    <tr>\n      <th>6</th>\n      <td>Ecologie</td>\n      <td>Prime à la conversion des agroéquipements</td>\n      <td>Nombre de structures agricoles bénéficiaires d...</td>\n      <td>AEA</td>\n      <td>https://www.economie.gouv.fr/plan-de-relance/p...</td>\n      <td>n</td>\n    </tr>\n    <tr>\n      <th>7</th>\n      <td>Ecologie</td>\n      <td>Fonds friches (projet urbain)(MTE)</td>\n      <td>Nombre de sites concernés - FFR</td>\n      <td>FFR</td>\n      <td>https://www.economie.gouv.fr/plan-de-relance/p...</td>\n      <td>n</td>\n    </tr>\n    <tr>\n      <th>8</th>\n      <td>Ecologie</td>\n      <td>Modernisation des filières automobiles et aéro...</td>\n      <td>Montant cumulé des investissements déclenchés ...</td>\n      <td>BPI</td>\n      <td>https://www.entreprises.gouv.fr/fr/actualites/...</td>\n      <td>n</td>\n    </tr>\n    <tr>\n      <th>9</th>\n      <td>Ecologie</td>\n      <td>Modernisation des filières automobiles et aéro...</td>\n      <td>Nombre d’entreprises bénéficiaires de subventi...</td>\n      <td>BPI</td>\n      <td>https://www.entreprises.gouv.fr/fr/actualites/...</td>\n      <td>n</td>\n    </tr>\n    <tr>\n      <th>10</th>\n      <td>Compétitivité</td>\n      <td>Industrie du futur</td>\n      <td>Nombre d’entreprises bénéficiaires - IDF</td>\n      <td>IDF</td>\n      <td>https://www.economie.gouv.fr/plan-de-relance/p...</td>\n      <td>n</td>\n    </tr>\n    <tr>\n      <th>11</th>\n      <td>Compétitivité</td>\n      <td>Industrie du futur</td>\n      <td>Montant des subventions apportées  IDF</td>\n      <td>IDF</td>\n      <td>https://www.economie.gouv.fr/plan-de-relance/p...</td>\n      <td>n</td>\n    </tr>\n    <tr>\n      <th>12</th>\n      <td>Compétitivité</td>\n      <td>Industrie du futur</td>\n      <td>Montant total de l’investissement ainsi déclen...</td>\n      <td>IDF</td>\n      <td>https://www.economie.gouv.fr/plan-de-relance/p...</td>\n      <td>n</td>\n    </tr>\n    <tr>\n      <th>13</th>\n      <td>Compétitivité</td>\n      <td>Relocalisation : soutien aux projets industrie...</td>\n      <td>Nombre de TPE/PME/ETI bénéficiaires</td>\n      <td>PIT</td>\n      <td>https://www.entreprises.gouv.fr/fr/industrie/p...</td>\n      <td>o</td>\n    </tr>\n    <tr>\n      <th>14</th>\n      <td>Compétitivité</td>\n      <td>Relocalisation : sécurisation des approvisionn...</td>\n      <td>Nombre de TPE/PME/ETI bénéficiaires</td>\n      <td>SAC</td>\n      <td>https://www.bpifrance.fr/A-la-une/Appels-a-pro...</td>\n      <td>o</td>\n    </tr>\n    <tr>\n      <th>15</th>\n      <td>Compétitivité</td>\n      <td>Mise à jour numérique des TPE/PME</td>\n      <td>Nombre d'attribution - FUM</td>\n      <td>FUM</td>\n      <td>https://www.economie.gouv.fr/plan-de-relance/p...</td>\n      <td>o</td>\n    </tr>\n    <tr>\n      <th>16</th>\n      <td>Compétitivité</td>\n      <td>Soutien aux filières culturelles</td>\n      <td>Nombre d’entreprises aidées dans les secteurs ...</td>\n      <td>SFC</td>\n      <td>https://www.economie.gouv.fr/files/files/direc...</td>\n      <td>n</td>\n    </tr>\n    <tr>\n      <th>17</th>\n      <td>Compétitivité</td>\n      <td>Renforcement des subventions de Business Franc...</td>\n      <td>Nombre d’entreprises bénéficiares - SBF</td>\n      <td>SBF</td>\n      <td>https://www.economie.gouv.fr/files/files/direc...</td>\n      <td>o</td>\n    </tr>\n    <tr>\n      <th>18</th>\n      <td>Cohésion</td>\n      <td>Apprentissage</td>\n      <td>Nombre de contrats d’apprentissage bénéficiair...</td>\n      <td>APP</td>\n      <td>https://travail-emploi.gouv.fr/demarches-resso...</td>\n      <td>n</td>\n    </tr>\n    <tr>\n      <th>19</th>\n      <td>Cohésion</td>\n      <td>Prime à l’embauche des jeunes</td>\n      <td>Nombre d'aides à l'embauche des jeunes</td>\n      <td>PEJ</td>\n      <td>https://www.economie.gouv.fr/plan-de-relance/p...</td>\n      <td>n</td>\n    </tr>\n    <tr>\n      <th>20</th>\n      <td>Cohésion</td>\n      <td>CIE jeunes</td>\n      <td>Entrées de jeunes en CIE</td>\n      <td>CIE</td>\n      <td>https://www.economie.gouv.fr/plan-de-relance/p...</td>\n      <td>n</td>\n    </tr>\n    <tr>\n      <th>21</th>\n      <td>Cohésion</td>\n      <td>PEC jeunes</td>\n      <td>Entrées de jeunes en PEC</td>\n      <td>PEC</td>\n      <td>https://www.economie.gouv.fr/plan-de-relance/i...</td>\n      <td>n</td>\n    </tr>\n    <tr>\n      <th>22</th>\n      <td>Cohésion</td>\n      <td>Contrat de professionnalisation</td>\n      <td>Nombre</td>\n      <td>CDP</td>\n      <td>https://travail-emploi.gouv.fr/formation-profe...</td>\n      <td>n</td>\n    </tr>\n    <tr>\n      <th>23</th>\n      <td>Cohésion</td>\n      <td>Garantie jeune</td>\n      <td>Nombre</td>\n      <td>GJE</td>\n      <td>https://travail-emploi.gouv.fr/emploi/mesures-...</td>\n      <td>n</td>\n    </tr>\n    <tr>\n      <th>24</th>\n      <td>Cohésion</td>\n      <td>Service civique</td>\n      <td>Nombre</td>\n      <td>SCI</td>\n      <td>https://www.economie.gouv.fr/plan-de-relance/p...</td>\n      <td>n</td>\n    </tr>\n    <tr>\n      <th>25</th>\n      <td>Cohésion</td>\n      <td>Prime à l'embauche des travailleurs handicapés</td>\n      <td>Nombre</td>\n      <td>PTH</td>\n      <td>https://www.economie.gouv.fr/entreprises/aide-...</td>\n      <td>n</td>\n    </tr>\n    <tr>\n      <th>26</th>\n      <td>Cohésion</td>\n      <td>Soutien à l'investissement local (DSIL excepti...</td>\n      <td>Nombre de projets de collectivités soutenus</td>\n      <td>SIL</td>\n      <td>https://www.economie.gouv.fr/plan-de-relance/p...</td>\n      <td>n</td>\n    </tr>\n  </tbody>\n</table>\n</div>",
      "text/plain": "            Volet                                            Mesures  \\\n0        Ecologie                                    Ma Prime Renov'   \n1        Ecologie                                    Ma Prime Renov'   \n2        Ecologie                                   Bonus électrique   \n3        Ecologie         Prime à la conversion des véhicules légers   \n4        Ecologie  Rénovation thermique des bâtiments publics sou...   \n5        Ecologie                      Rénovation des bâtiments Etat   \n6        Ecologie          Prime à la conversion des agroéquipements   \n7        Ecologie                 Fonds friches (projet urbain)(MTE)   \n8        Ecologie  Modernisation des filières automobiles et aéro...   \n9        Ecologie  Modernisation des filières automobiles et aéro...   \n10  Compétitivité                                 Industrie du futur   \n11  Compétitivité                                 Industrie du futur   \n12  Compétitivité                                 Industrie du futur   \n13  Compétitivité  Relocalisation : soutien aux projets industrie...   \n14  Compétitivité  Relocalisation : sécurisation des approvisionn...   \n15  Compétitivité                  Mise à jour numérique des TPE/PME   \n16  Compétitivité                  Soutien aux filières culturelles    \n17  Compétitivité  Renforcement des subventions de Business Franc...   \n18       Cohésion                                      Apprentissage   \n19       Cohésion                      Prime à l’embauche des jeunes   \n20       Cohésion                                         CIE jeunes   \n21       Cohésion                                         PEC jeunes   \n22       Cohésion                    Contrat de professionnalisation   \n23       Cohésion                                     Garantie jeune   \n24       Cohésion                                    Service civique   \n25       Cohésion     Prime à l'embauche des travailleurs handicapés   \n26       Cohésion  Soutien à l'investissement local (DSIL excepti...   \n\n                                          Indicateurs code_mesure  \\\n0   Nombre de dossiers MaPrimeRénov bénéficiaires ...         MPR   \n1   Montant total des travaux associés aux dossier...         MPR   \n2                      Nombre de bonus octroyés - BOE         BOE   \n3                              Nombre de primes - DVP         DVP   \n4   Nombre de projets de rénovation thermique des ...         RBC   \n5   Nombre de bâtiments Etat dont le marché de rén...         RBE   \n6   Nombre de structures agricoles bénéficiaires d...         AEA   \n7                     Nombre de sites concernés - FFR         FFR   \n8   Montant cumulé des investissements déclenchés ...         BPI   \n9   Nombre d’entreprises bénéficiaires de subventi...         BPI   \n10           Nombre d’entreprises bénéficiaires - IDF         IDF   \n11            Montant des subventions apportées  IDF          IDF   \n12  Montant total de l’investissement ainsi déclen...         IDF   \n13                Nombre de TPE/PME/ETI bénéficiaires         PIT   \n14                Nombre de TPE/PME/ETI bénéficiaires         SAC   \n15                         Nombre d'attribution - FUM         FUM   \n16  Nombre d’entreprises aidées dans les secteurs ...         SFC   \n17            Nombre d’entreprises bénéficiares - SBF         SBF   \n18  Nombre de contrats d’apprentissage bénéficiair...         APP   \n19             Nombre d'aides à l'embauche des jeunes         PEJ   \n20                          Entrées de jeunes en CIE          CIE   \n21                           Entrées de jeunes en PEC         PEC   \n22                                             Nombre         CDP   \n23                                             Nombre         GJE   \n24                                             Nombre         SCI   \n25                                             Nombre         PTH   \n26        Nombre de projets de collectivités soutenus         SIL   \n\n                                                  url commentaire  \n0   https://www.economie.gouv.fr/plan-de-relance/p...           n  \n1   https://www.economie.gouv.fr/plan-de-relance/p...           n  \n2   https://www.economie.gouv.fr/plan-de-relance/p...           n  \n3   https://www.ecologie.gouv.fr/france-relance-bo...           n  \n4   https://www.economie.gouv.fr/plan-de-relance/p...           n  \n5   https://www.economie.gouv.fr/plan-de-relance/p...           o  \n6   https://www.economie.gouv.fr/plan-de-relance/p...           n  \n7   https://www.economie.gouv.fr/plan-de-relance/p...           n  \n8   https://www.entreprises.gouv.fr/fr/actualites/...           n  \n9   https://www.entreprises.gouv.fr/fr/actualites/...           n  \n10  https://www.economie.gouv.fr/plan-de-relance/p...           n  \n11  https://www.economie.gouv.fr/plan-de-relance/p...           n  \n12  https://www.economie.gouv.fr/plan-de-relance/p...           n  \n13  https://www.entreprises.gouv.fr/fr/industrie/p...           o  \n14  https://www.bpifrance.fr/A-la-une/Appels-a-pro...           o  \n15  https://www.economie.gouv.fr/plan-de-relance/p...           o  \n16  https://www.economie.gouv.fr/files/files/direc...           n  \n17  https://www.economie.gouv.fr/files/files/direc...           o  \n18  https://travail-emploi.gouv.fr/demarches-resso...           n  \n19  https://www.economie.gouv.fr/plan-de-relance/p...           n  \n20  https://www.economie.gouv.fr/plan-de-relance/p...           n  \n21  https://www.economie.gouv.fr/plan-de-relance/i...           n  \n22  https://travail-emploi.gouv.fr/formation-profe...           n  \n23  https://travail-emploi.gouv.fr/emploi/mesures-...           n  \n24  https://www.economie.gouv.fr/plan-de-relance/p...           n  \n25  https://www.economie.gouv.fr/entreprises/aide-...           n  \n26  https://www.economie.gouv.fr/plan-de-relance/p...           n  "
     },
     "execution_count": 309,
     "metadata": {},
     "output_type": "execute_result"
    }
   ],
   "source": [
    "ref_mesures2 = pd.read_excel('refs/20210630_Liste_Mesures-Ficheparlementaire.xlsx')\n",
    "ref_mesures2.drop([\"Unnamed: 5\", \"Mesures suivie dans le TdB grand public\"], axis = 1, inplace=True)\n",
    "ref_mesures2.drop([27], inplace=True)\n",
    "ref_mesures2 = ref_mesures2.rename(columns={\"Liens hypertexte\": \"url\",\n",
    "                                            \"Numéro indicateur\": \"code_mesure\"})\n",
    "for i in range(27):\n",
    "    if i < 10:\n",
    "        ref_mesures2[\"Volet\"].loc[i] = ref_mesures2[\"Volet\"].loc[0]\n",
    "    elif i < 18:\n",
    "        ref_mesures2[\"Volet\"].loc[i] = ref_mesures2[\"Volet\"].loc[10]\n",
    "    else:\n",
    "        ref_mesures2[\"Volet\"].loc[i] = ref_mesures2[\"Volet\"].loc[18]\n",
    "\n",
    "ref_mesures2[\"Mesures\"].iloc[1] = ref_mesures2[\"Mesures\"].iloc[0]\n",
    "ref_mesures2[\"Mesures\"].iloc[9] = ref_mesures2[\"Mesures\"].iloc[8]\n",
    "ref_mesures2[\"Mesures\"].iloc[11] = ref_mesures2[\"Mesures\"].iloc[10]\n",
    "ref_mesures2[\"Mesures\"].iloc[12] = ref_mesures2[\"Mesures\"].iloc[10]\n",
    "\n",
    "ref_mesures2[\"url\"].iloc[1] = ref_mesures2[\"url\"].iloc[0]\n",
    "ref_mesures2[\"url\"].iloc[9] = ref_mesures2[\"url\"].iloc[8]\n",
    "ref_mesures2[\"url\"].iloc[11] = ref_mesures2[\"url\"].iloc[10]\n",
    "ref_mesures2[\"url\"].iloc[12] = ref_mesures2[\"url\"].iloc[10]\n",
    "\n",
    "ref_mesures2[\"url\"].iloc[16] = \"https://www.economie.gouv.fr/files/files/directions_services/plan-de-relance/Guide-mesures-relance-exportations.pdf\"\n",
    "ref_mesures2[\"url\"].iloc[17] = \"https://www.economie.gouv.fr/files/files/directions_services/plan-de-relance/Guide-mesures-relance-exportations.pdf\"\n",
    "\n",
    "ref_mesures2[\"code_mesure\"].iloc[18] = \"APP\"\n",
    "L_com = [\"RBE\",\n",
    "         \"FAA\",\n",
    "         \"PIT\",\n",
    "         \"SAC\",\n",
    "         \"FUM\",\n",
    "         \"SBF\"]\n",
    "ref_mesures2[\"commentaire\"] = \"n\"\n",
    "for i in range(27):\n",
    "    if ref_mesures2[\"code_mesure\"].iloc[i] in L_com:\n",
    "        ref_mesures2[\"commentaire\"].iloc[i] = \"o\"\n",
    "\n",
    "ref_mesures2\n",
    "ref_mesures = ref_mesures2\n",
    "\n",
    "ref_mesures\n"
   ]
  },
  {
   "cell_type": "code",
   "execution_count": 310,
   "metadata": {},
   "outputs": [],
   "source": [
    "# # Des lignes en trop : on est censé avoir 1 code_mesure -> 1 mesure\n",
    "# ref_mesures2 = pd.read_excel('refs/20210601_Liste_Mesures_Liens.xlsx')\n",
    "# ref_mesures2 = ref_mesures.fillna(method='ffill')\n",
    "# ref_mesures2"
   ]
  },
  {
   "cell_type": "code",
   "execution_count": 311,
   "metadata": {},
   "outputs": [],
   "source": [
    "ref_mesures['short_mesure_in_pp_dep'] = ref_mesures.code_mesure.apply(lambda x: code2short_mesure[x])"
   ]
  },
  {
   "cell_type": "code",
   "execution_count": 312,
   "metadata": {},
   "outputs": [
    {
     "data": {
      "text/plain": "{'AAP Industrie : Soutien aux projets industriels territoires': True,\n 'AAP Industrie : Sécurisation approvisionnements critiques': True,\n 'Apprentissage': False,\n 'Bonus écologique': False,\n 'Contrats Initiatives Emploi (CIE) Jeunes': False,\n 'Contrats de professionnalisation': False,\n 'France Num : aide à la numérisation des TPE,PME,ETI': True,\n 'Garantie jeunes': False,\n 'Industrie du futur': False,\n \"MaPrimeRénov'\": False,\n 'Modernisation des filières automobiles et aéronautiques': False,\n 'Parcours emploi compétences (PEC) Jeunes': False,\n \"Prime à l'embauche des jeunes\": False,\n \"Prime à l'embauche pour les travailleurs handicapés\": False,\n 'Prime à la conversion des agroéquipements': False,\n 'Prime à la conversion des véhicules légers': False,\n 'Renforcement subventions Business France': True,\n 'Réhabilitation Friches (urbaines et sites pollués)': False,\n 'Rénovation bâtiments Etat': True,\n 'Rénovation thermique des bâtiments publics soutenus par la DSIL, DSID, DRI': False,\n 'Service civique': False,\n 'Soutien aux filières culturelles (cinéma, audiovisuel, musique, numérique, livre)': False,\n \"Soutien à l'investissement local (DSIL exceptionnelle)\": False}"
     },
     "execution_count": 312,
     "metadata": {},
     "output_type": "execute_result"
    }
   ],
   "source": [
    "# Faire correspondre les mesures aux urls et commentaires (absence ou présence de champs de texte)\n",
    "ref_mesures['short_mesure_in_pp_dep'] = ref_mesures.code_mesure.apply(lambda x: code2short_mesure[x])\n",
    "short_mesure2url = ref_mesures.groupby('short_mesure_in_pp_dep').agg({'url': list}).apply(lambda x: x['url'][0].strip(), axis=1).to_dict()\n",
    "short_mesure2to_comment = ref_mesures.groupby('short_mesure_in_pp_dep').agg({'commentaire': list}).apply(lambda x: x['commentaire'][0] == 'o', axis=1).to_dict()\n",
    "short_mesure2to_comment"
   ]
  },
  {
   "cell_type": "code",
   "execution_count": 313,
   "metadata": {},
   "outputs": [],
   "source": [
    "# ref_mesures['short_mesure_in_pp_dep'] = ref_mesures.code_mesure.apply(lambda x: code2short_mesure[x])\n",
    "\n",
    "# ref_mesures.short_mesure_in_pp_dep\n",
    "# #short_mesure2url\n",
    "# ref_mesures.groupby('short_mesure_in_pp_dep').agg({'commentaire': list})"
   ]
  },
  {
   "cell_type": "code",
   "execution_count": 314,
   "metadata": {},
   "outputs": [
    {
     "data": {
      "text/html": "<div>\n<style scoped>\n    .dataframe tbody tr th:only-of-type {\n        vertical-align: middle;\n    }\n\n    .dataframe tbody tr th {\n        vertical-align: top;\n    }\n\n    .dataframe thead th {\n        text-align: right;\n    }\n</style>\n<table border=\"1\" class=\"dataframe\">\n  <thead>\n    <tr style=\"text-align: right;\">\n      <th></th>\n      <th>0</th>\n      <th>1</th>\n      <th>2</th>\n      <th>3</th>\n      <th>4</th>\n    </tr>\n  </thead>\n  <tbody>\n    <tr>\n      <th>index</th>\n      <td>Date</td>\n      <td>Montant cumulé de l'investissement total ainsi...</td>\n      <td>Nombre de projets</td>\n      <td>Nombre de PME</td>\n      <td>Nombre d'entreprises</td>\n    </tr>\n    <tr>\n      <th>0</th>\n      <td>Décembre 2020</td>\n      <td>11.2 M€ (13%)</td>\n      <td>non disponible</td>\n      <td>non disponible</td>\n      <td>3 (6%)</td>\n    </tr>\n    <tr>\n      <th>1</th>\n      <td>Janvier 2021</td>\n      <td>24.2 M€ (12%)</td>\n      <td>1 (8%)</td>\n      <td>1 (2%)</td>\n      <td>7 (7%)</td>\n    </tr>\n    <tr>\n      <th>2</th>\n      <td>Février 2021</td>\n      <td>24.2 M€ (12%)</td>\n      <td>1 (8%)</td>\n      <td>1 (2%)</td>\n      <td>7 (7%)</td>\n    </tr>\n    <tr>\n      <th>3</th>\n      <td>Mars 2021</td>\n      <td>24.2 M€ (12%)</td>\n      <td>1 (8%)</td>\n      <td>1 (2%)</td>\n      <td>7 (7%)</td>\n    </tr>\n    <tr>\n      <th>4</th>\n      <td>Avril 2021</td>\n      <td>29.9 M€ (11%)</td>\n      <td>2 (10%)</td>\n      <td>1 (1%)</td>\n      <td>10 (8%)</td>\n    </tr>\n    <tr>\n      <th>5</th>\n      <td>Mai 2021</td>\n      <td>29.9 M€ (11%)</td>\n      <td>2 (10%)</td>\n      <td>1 (1%)</td>\n      <td>10 (8%)</td>\n    </tr>\n    <tr>\n      <th>6</th>\n      <td>Juin 2021</td>\n      <td>non disponible</td>\n      <td>non disponible</td>\n      <td>non disponible</td>\n      <td>non disponible</td>\n    </tr>\n  </tbody>\n</table>\n</div>",
      "text/plain": "                   0                                                  1  \\\nindex           Date  Montant cumulé de l'investissement total ainsi...   \n0      Décembre 2020                                      11.2 M€ (13%)   \n1       Janvier 2021                                      24.2 M€ (12%)   \n2       Février 2021                                      24.2 M€ (12%)   \n3          Mars 2021                                      24.2 M€ (12%)   \n4         Avril 2021                                      29.9 M€ (11%)   \n5           Mai 2021                                      29.9 M€ (11%)   \n6          Juin 2021                                     non disponible   \n\n                       2               3                     4  \nindex  Nombre de projets   Nombre de PME  Nombre d'entreprises  \n0         non disponible  non disponible                3 (6%)  \n1                 1 (8%)          1 (2%)                7 (7%)  \n2                 1 (8%)          1 (2%)                7 (7%)  \n3                 1 (8%)          1 (2%)                7 (7%)  \n4                2 (10%)          1 (1%)               10 (8%)  \n5                2 (10%)          1 (1%)               10 (8%)  \n6         non disponible  non disponible        non disponible  "
     },
     "execution_count": 314,
     "metadata": {},
     "output_type": "execute_result"
    }
   ],
   "source": [
    "all_charts_as_df['departemental']['01']['Modernisation des filières automobiles et aéronautiques']"
   ]
  },
  {
   "cell_type": "code",
   "execution_count": 315,
   "metadata": {},
   "outputs": [
    {
     "name": "stdout",
     "output_type": "stream",
     "text": [
      "01 reports_word/Suivi_Territorial_plan_relance_Ain.docx\n",
      "02 reports_word/Suivi_Territorial_plan_relance_Aisne.docx\n",
      "03 reports_word/Suivi_Territorial_plan_relance_Allier.docx\n",
      "04 reports_word/Suivi_Territorial_plan_relance_Alpes-de-Haute-Provence.docx\n",
      "05 reports_word/Suivi_Territorial_plan_relance_Hautes-Alpes.docx\n",
      "06 reports_word/Suivi_Territorial_plan_relance_Alpes-Maritimes.docx\n",
      "07 reports_word/Suivi_Territorial_plan_relance_Ardèche.docx\n",
      "08 reports_word/Suivi_Territorial_plan_relance_Ardennes.docx\n",
      "09 reports_word/Suivi_Territorial_plan_relance_Ariège.docx\n",
      "10 reports_word/Suivi_Territorial_plan_relance_Aube.docx\n",
      "11 reports_word/Suivi_Territorial_plan_relance_Aude.docx\n",
      "12 reports_word/Suivi_Territorial_plan_relance_Aveyron.docx\n",
      "13 reports_word/Suivi_Territorial_plan_relance_Bouches-du-Rhône.docx\n",
      "14 reports_word/Suivi_Territorial_plan_relance_Calvados.docx\n",
      "15 reports_word/Suivi_Territorial_plan_relance_Cantal.docx\n",
      "16 reports_word/Suivi_Territorial_plan_relance_Charente.docx\n",
      "17 reports_word/Suivi_Territorial_plan_relance_Charente-Maritime.docx\n",
      "18 reports_word/Suivi_Territorial_plan_relance_Cher.docx\n",
      "19 reports_word/Suivi_Territorial_plan_relance_Corrèze.docx\n",
      "21 reports_word/Suivi_Territorial_plan_relance_Côte-d'Or.docx\n",
      "22 reports_word/Suivi_Territorial_plan_relance_Côtes-d'Armor.docx\n",
      "23 reports_word/Suivi_Territorial_plan_relance_Creuse.docx\n",
      "24 reports_word/Suivi_Territorial_plan_relance_Dordogne.docx\n",
      "25 reports_word/Suivi_Territorial_plan_relance_Doubs.docx\n",
      "26 reports_word/Suivi_Territorial_plan_relance_Drôme.docx\n",
      "27 reports_word/Suivi_Territorial_plan_relance_Eure.docx\n",
      "28 reports_word/Suivi_Territorial_plan_relance_Eure-et-Loir.docx\n",
      "29 reports_word/Suivi_Territorial_plan_relance_Finistère.docx\n",
      "2A reports_word/Suivi_Territorial_plan_relance_Corse-du-Sud.docx\n",
      "2B reports_word/Suivi_Territorial_plan_relance_Haute-Corse.docx\n",
      "30 reports_word/Suivi_Territorial_plan_relance_Gard.docx\n",
      "31 reports_word/Suivi_Territorial_plan_relance_Haute-Garonne.docx\n",
      "32 reports_word/Suivi_Territorial_plan_relance_Gers.docx\n",
      "33 reports_word/Suivi_Territorial_plan_relance_Gironde.docx\n",
      "34 reports_word/Suivi_Territorial_plan_relance_Hérault.docx\n",
      "35 reports_word/Suivi_Territorial_plan_relance_Ille-et-Vilaine.docx\n",
      "36 reports_word/Suivi_Territorial_plan_relance_Indre.docx\n",
      "37 reports_word/Suivi_Territorial_plan_relance_Indre-et-Loire.docx\n",
      "38 reports_word/Suivi_Territorial_plan_relance_Isère.docx\n",
      "39 reports_word/Suivi_Territorial_plan_relance_Jura.docx\n",
      "40 reports_word/Suivi_Territorial_plan_relance_Landes.docx\n",
      "41 reports_word/Suivi_Territorial_plan_relance_Loir-et-Cher.docx\n",
      "42 reports_word/Suivi_Territorial_plan_relance_Loire.docx\n",
      "43 reports_word/Suivi_Territorial_plan_relance_Haute-Loire.docx\n",
      "44 reports_word/Suivi_Territorial_plan_relance_Loire-Atlantique.docx\n",
      "45 reports_word/Suivi_Territorial_plan_relance_Loiret.docx\n",
      "46 reports_word/Suivi_Territorial_plan_relance_Lot.docx\n",
      "47 reports_word/Suivi_Territorial_plan_relance_Lot-et-Garonne.docx\n",
      "48 reports_word/Suivi_Territorial_plan_relance_Lozère.docx\n",
      "49 reports_word/Suivi_Territorial_plan_relance_Maine-et-Loire.docx\n",
      "50 reports_word/Suivi_Territorial_plan_relance_Manche.docx\n",
      "51 reports_word/Suivi_Territorial_plan_relance_Marne.docx\n",
      "52 reports_word/Suivi_Territorial_plan_relance_Haute-Marne.docx\n",
      "53 reports_word/Suivi_Territorial_plan_relance_Mayenne.docx\n",
      "54 reports_word/Suivi_Territorial_plan_relance_Meurthe-et-Moselle.docx\n",
      "55 reports_word/Suivi_Territorial_plan_relance_Meuse.docx\n",
      "56 reports_word/Suivi_Territorial_plan_relance_Morbihan.docx\n",
      "57 reports_word/Suivi_Territorial_plan_relance_Moselle.docx\n",
      "58 reports_word/Suivi_Territorial_plan_relance_Nièvre.docx\n",
      "59 reports_word/Suivi_Territorial_plan_relance_Nord.docx\n",
      "60 reports_word/Suivi_Territorial_plan_relance_Oise.docx\n",
      "61 reports_word/Suivi_Territorial_plan_relance_Orne.docx\n",
      "62 reports_word/Suivi_Territorial_plan_relance_Pas-de-Calais.docx\n",
      "63 reports_word/Suivi_Territorial_plan_relance_Puy-de-Dôme.docx\n",
      "64 reports_word/Suivi_Territorial_plan_relance_Pyrénées-Atlantiques.docx\n",
      "65 reports_word/Suivi_Territorial_plan_relance_Hautes-Pyrénées.docx\n",
      "66 reports_word/Suivi_Territorial_plan_relance_Pyrénées-Orientales.docx\n",
      "67 reports_word/Suivi_Territorial_plan_relance_Bas-Rhin.docx\n",
      "68 reports_word/Suivi_Territorial_plan_relance_Haut-Rhin.docx\n",
      "69 reports_word/Suivi_Territorial_plan_relance_Rhône.docx\n",
      "70 reports_word/Suivi_Territorial_plan_relance_Haute-Saône.docx\n",
      "71 reports_word/Suivi_Territorial_plan_relance_Saône-et-Loire.docx\n",
      "72 reports_word/Suivi_Territorial_plan_relance_Sarthe.docx\n",
      "73 reports_word/Suivi_Territorial_plan_relance_Savoie.docx\n",
      "74 reports_word/Suivi_Territorial_plan_relance_Haute-Savoie.docx\n",
      "75 reports_word/Suivi_Territorial_plan_relance_Paris.docx\n",
      "76 reports_word/Suivi_Territorial_plan_relance_Seine-Maritime.docx\n",
      "77 reports_word/Suivi_Territorial_plan_relance_Seine-et-Marne.docx\n",
      "78 reports_word/Suivi_Territorial_plan_relance_Yvelines.docx\n",
      "79 reports_word/Suivi_Territorial_plan_relance_Deux-Sèvres.docx\n",
      "80 reports_word/Suivi_Territorial_plan_relance_Somme.docx\n",
      "81 reports_word/Suivi_Territorial_plan_relance_Tarn.docx\n",
      "82 reports_word/Suivi_Territorial_plan_relance_Tarn-et-Garonne.docx\n",
      "83 reports_word/Suivi_Territorial_plan_relance_Var.docx\n",
      "84 reports_word/Suivi_Territorial_plan_relance_Vaucluse.docx\n",
      "85 reports_word/Suivi_Territorial_plan_relance_Vendée.docx\n",
      "86 reports_word/Suivi_Territorial_plan_relance_Vienne.docx\n",
      "87 reports_word/Suivi_Territorial_plan_relance_Haute-Vienne.docx\n",
      "88 reports_word/Suivi_Territorial_plan_relance_Vosges.docx\n",
      "89 reports_word/Suivi_Territorial_plan_relance_Yonne.docx\n",
      "90 reports_word/Suivi_Territorial_plan_relance_Territoire de Belfort.docx\n",
      "91 reports_word/Suivi_Territorial_plan_relance_Essonne.docx\n",
      "92 reports_word/Suivi_Territorial_plan_relance_Hauts-de-Seine.docx\n",
      "93 reports_word/Suivi_Territorial_plan_relance_Seine-Saint-Denis.docx\n",
      "94 reports_word/Suivi_Territorial_plan_relance_Val-de-Marne.docx\n",
      "95 reports_word/Suivi_Territorial_plan_relance_Val-d'Oise.docx\n",
      "971 reports_word/Suivi_Territorial_plan_relance_Guadeloupe.docx\n",
      "972 reports_word/Suivi_Territorial_plan_relance_Martinique.docx\n",
      "973 reports_word/Suivi_Territorial_plan_relance_Guyane.docx\n",
      "974 reports_word/Suivi_Territorial_plan_relance_La Réunion.docx\n",
      "976 reports_word/Suivi_Territorial_plan_relance_Mayotte.docx\n",
      "975 reports_word/Suivi_Territorial_plan_relance_Saint-Pierre-et-Miquelon.docx\n",
      "977 reports_word/Suivi_Territorial_plan_relance_Saint-Barthélemy.docx\n",
      "978 reports_word/Suivi_Territorial_plan_relance_Saint-Martin.docx\n",
      "986 reports_word/Suivi_Territorial_plan_relance_Wallis-et-Futuna.docx\n",
      "987 reports_word/Suivi_Territorial_plan_relance_Polynésie française.docx\n",
      "984 reports_word/Suivi_Territorial_plan_relance_Terres australes et antarctiques françaises.docx\n",
      "988 reports_word/Suivi_Territorial_plan_relance_Nouvelle-Calédonie.docx\n",
      "989 reports_word/Suivi_Territorial_plan_relance_Île de Clipperton.docx\n"
     ]
    }
   ],
   "source": [
    "# Liste des régions pour lesquelles on ne veut pas de fiche. Noms provenant de taxo_regs.csv\n",
    "L_reg_no_output = [\"00\"]  # 00 correspond à Etranger\n",
    "L_dep_no_output = ['00']\n",
    "\n",
    "\n",
    "def get_kpi(dep, short_indic, short_mesure):\n",
    "    kpi_dep = (pp_dep.loc[(pp_dep.dep == dep) \n",
    "                          & (pp_dep.short_mesure == short_mesure) \n",
    "                          & (pp_dep.short_indic == short_indic)]\n",
    "                .sort_values(by=\"period_date\", ascending=False))\n",
    "    if kpi_dep.shape[0] != 0:\n",
    "        date= kpi_dep.iloc[0].Date\n",
    "        valeur = kpi_dep.iloc[0].valeur\n",
    "    else:\n",
    "        date = pp_dep.Date.max()\n",
    "        valeur = 0\n",
    "    return date, valeur\n",
    "\n",
    "\n",
    "def creation_front_page(nom_departement):\n",
    "    doc = DocxTemplate(\"template/template_front_page.docx\")\n",
    "    today = datetime.datetime.today()\n",
    "    today_str = f\"{months[today.month-1]} {today.year}\"\n",
    "    context = {'dep': str(nom_departement), \n",
    "               'date': today_str}\n",
    "    doc.render(context)\n",
    "    name_file = \"reports_word/Generation_p2p/front_page_{}.docx\".format(nom_departement)\n",
    "    doc.save(name_file)\n",
    "    return name_file\n",
    "\n",
    "\n",
    "def encode_name(name):\n",
    "    # Normalise le nom de la mesure ou volet, notamment pour l'utiliser comme nom de code dans les commentaires\n",
    "    name = name.lower()\n",
    "    name = unidecode(name)\n",
    "    name = re.sub('[^a-z]', ' ',  name)\n",
    "    name = re.sub(' +', '', name)\n",
    "    return name\n",
    "\n",
    "\n",
    "def creation_volet_page(nom_volet, num_volet):\n",
    "    doc = DocxTemplate(\"template/template_volet.docx\")\n",
    "    context = {'volet': nom_volet, \n",
    "               'num_volet': num_volet, \n",
    "               'code_comment': \"{% for f in \" + encode_name(nom_volet) + \" %}{{ f.text }} {{ f.image }} {% endfor %}\",\n",
    "              }\n",
    "    doc.render(context)\n",
    "    name_file = \"reports_word/Generation_p2p/{}.docx\".format(nom_volet)\n",
    "    doc.save(name_file)\n",
    "    return name_file\n",
    "\n",
    "\n",
    "def delete_paragraph(paragraph):\n",
    "    p = paragraph._element\n",
    "    p.getparent().remove(p)\n",
    "    paragraph._p = paragraph._element = None\n",
    "    \n",
    "    \n",
    "def fusion_word(word1, word2, dep):\n",
    "    master = Document(word1)\n",
    "    master.add_page_break()\n",
    "    composer = Composer(master)\n",
    "    doc1 = Document(word2)\n",
    "    composer.append(doc1)\n",
    "    name_fusion = \"reports_word/Suivi_Territorial_plan_relance_{}.docx\".format(dep)\n",
    "    composer.save(name_fusion)\n",
    "    return name_fusion\n",
    "\n",
    "\n",
    "def creation_content_page(all_charts_as_df, departement, region, mesure, volet, dep_name, reg_name, num_mesure):\n",
    "    # Ouverture de template\n",
    "    if mesure in short_mesure2to_comment and short_mesure2to_comment[mesure]:\n",
    "        doc = DocxTemplate(\"template/template_content_page.docx\")\n",
    "    else:\n",
    "        doc = DocxTemplate(\"template/template_content_page_no_comment.docx\")\n",
    "    # Recuperation des datas pour les 3 scales\n",
    "    df_nat = all_charts_as_df[\"national\"][\"France\"][mesure]\n",
    "    df_reg = all_charts_as_df[\"regional\"][region][mesure]\n",
    "    df_dep = all_charts_as_df[\"departemental\"][departement][mesure]\n",
    "    \n",
    "    # Recuperation des noms des colonnes\n",
    "    col_labels = df_nat.iloc[0]\n",
    "    short_indic = dict_mesure_indic[mesure][0]\n",
    "    #date, valeur = get_kpi(departement, short_indic, mesure )\n",
    "    rt_hyperlien = RichText(f\"{num_mesure} - \", font='Marianne', size=48)\n",
    "    \n",
    "    # Si pas d'url trouvé pour la mesure, on redirige le lecteur vers la page de recherche decommenter lors de la maj du xlsx\n",
    "    url = short_mesure2url[mesure]\n",
    "    rt_hyperlien.add(f'{mesure}', url_id=doc.build_url_id(url), \n",
    "                                  underline=True, color='#0000ff',\n",
    "                                  font='Marianne', size=48)\n",
    "    context = {\n",
    "                'mesure': rt_hyperlien,        \n",
    "                'title_table_nat' : \"Niveau National\", \n",
    "                'title_table_reg' : \"Niveau Régional\", \n",
    "                'title_table_dep' : \"Niveau Départemental\",\n",
    "                'lib_reg': reg_name, \n",
    "                'lib_dep': dep_name,\n",
    "                'col_labels' : col_labels, \n",
    "                # Les 3 lignes suivantes permettent de générer des tabeaux avec uniquement les 3 derniers mois.\n",
    "                # Prend en compte le cas ou il n'y a pas encore 3 mois de données\n",
    "                'tbl_contents_nat': [{'cols' : list(df_nat.iloc[-i-1])} for i in range(min(len(df_nat)-1, 3))],\n",
    "                'tbl_contents_reg': [{'cols' : list(df_reg.iloc[-i-1])} for i in range(min(len(df_reg)-1, 3))],\n",
    "                'tbl_contents_dep': [{'cols' : list(df_dep.iloc[-(i+1)])} for i in range(min(len(df_dep)-1, 3))],\n",
    "                'code_comment': \"{% for f in \" + encode_name(mesure) + \" %}{{ f.text }} {{ f.image }} {% endfor %}\",\n",
    "                }\n",
    "    doc.render(context)\n",
    "    name_file = \"reports_word/Generation_p2p/content_page_{}.docx\".format(mesure)\n",
    "    doc.save(name_file)\n",
    "    return name_file\n",
    "\n",
    "\n",
    "def creation_fiche(dep):\n",
    "    #departement: code departement 01:\n",
    "    #On a les variables volet2mesures, all_charts\n",
    "    reg = taxo_dep_df[taxo_dep_df['dep'] == dep].iloc[0]['reg']  # Code region\n",
    "    if reg in L_reg_no_output:\n",
    "        return False\n",
    "    num_volet, num_mesure = 1, 1\n",
    "    reg_name = taxo_reg_df[taxo_reg_df['reg'] == reg].iloc[0]['libelle']  # libelle\n",
    "    dep_name = taxo_dep_df[taxo_dep_df['dep'] == dep].iloc[0]['libelle']\n",
    "    name_fusion = creation_front_page(dep_name)\n",
    "    for volet in list(volet2mesures.keys()):  # 3 itérations, dep_name, reg_name\n",
    "        name_volet = creation_volet_page(volet, num_volet)\n",
    "        name_fusion = fusion_word(name_fusion, name_volet, dep_name)\n",
    "        liste_mesure = volet2mesures[volet]\n",
    "        num_volet += 1\n",
    "        for mesure in liste_mesure:\n",
    "            name_content = creation_content_page(all_charts_as_df, dep, reg, mesure, volet, dep_name, reg_name, num_mesure)\n",
    "            name_fusion = fusion_word(name_fusion, name_content, dep_name)\n",
    "            num_mesure += 1\n",
    "    return name_fusion\n",
    "            \n",
    "\n",
    "\n",
    "def create_all_dep():\n",
    "    list_all_dep = taxo_dep_df[~taxo_dep_df[\"dep\"].isin(L_dep_no_output)].dep\n",
    "    for dep in list_all_dep:\n",
    "        docx_path = creation_fiche(dep)\n",
    "        print(dep + ' ' + docx_path)\n",
    "        doc = Document(docx_path)\n",
    "\n",
    "        # Retirer le double espacement après les tableaux\n",
    "        for paragraph in doc.paragraphs:\n",
    "            # Retirer les lignes vides après les tableaux en fin de page : elles sont reconnues par la taille \n",
    "            # de la police <= 2 où ne possède pas de run.\n",
    "            if paragraph.text.__len__() == 0 and (any(run.font.size <= Pt(2) for run in paragraph.runs if run.font.size is not None) or \n",
    "                                                  (all(run.font.size is None for run in paragraph.runs))):\n",
    "                delete_paragraph(paragraph)\n",
    "        doc.save(docx_path)\n",
    "        \n",
    "        # Réduire la taille du paragraphe après le dernier tableau de chaque page\n",
    "        # Cela permet d'éviter de créer une nouvelle page quand le texte devient trop long\n",
    "        doc = Document(docx_path)\n",
    "        styles = doc.styles\n",
    "        style = styles.add_style('Custom_style', WD_STYLE_TYPE.PARAGRAPH)\n",
    "        style.font.size = Pt(2)\n",
    "        for paragraph in doc.paragraphs:\n",
    "            if len(paragraph.text) == 1:\n",
    "                paragraph.style = doc.styles['Custom_style']\n",
    "        doc.save(docx_path)\n",
    "\n",
    "        \n",
    "# Lance la génération dans le dossier reports_word\n",
    "create_all_dep()\n"
   ]
  },
  {
   "cell_type": "code",
   "execution_count": null,
   "metadata": {},
   "outputs": [],
   "source": [
    "pp_dep.mesure.unique()"
   ]
  },
  {
   "cell_type": "code",
   "execution_count": 316,
   "metadata": {},
   "outputs": [],
   "source": [
    "def check_num_docx_created():\n",
    "    num_test = len([fn for fn in os.listdir('reports_word') if \"Suivi\" in fn])\n",
    "    num_true = taxo_dep_df['dep'].shape[0]\n",
    "    # num_true-1 car on enlève le département Etranger \"00\"\n",
    "    assert num_test == num_true-1, f\"{num_test} -- {num_true-1}\"\n",
    "    \n",
    "check_num_docx_created()"
   ]
  },
  {
   "cell_type": "code",
   "execution_count": null,
   "metadata": {},
   "outputs": [],
   "source": []
  },
  {
   "cell_type": "code",
   "execution_count": null,
   "metadata": {},
   "outputs": [],
   "source": []
  }
 ],
 "metadata": {
  "kernelspec": {
   "display_name": "Python 3.6.9 64-bit",
   "metadata": {
    "interpreter": {
     "hash": "31f2aee4e71d21fbe5cf8b01ff0e069b9275f58929596ceb00d14d90e3e16cd6"
    }
   },
   "name": "python3"
  },
  "language_info": {
   "codemirror_mode": {
    "name": "ipython",
    "version": 3
   },
   "file_extension": ".py",
   "mimetype": "text/x-python",
   "name": "python",
   "nbconvert_exporter": "python",
   "pygments_lexer": "ipython3",
   "version": "3.6.9"
  }
 },
 "nbformat": 4,
 "nbformat_minor": 5
}