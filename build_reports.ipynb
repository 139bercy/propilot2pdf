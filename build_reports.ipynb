{
 "cells": [
  {
   "cell_type": "code",
   "execution_count": 1,
   "id": "concrete-collectible",
   "metadata": {},
   "outputs": [],
   "source": [
    "import os\n",
    "import urllib\n",
    "import json\n",
    "import datetime\n",
    "\n",
    "import pandas as pd\n",
    "import numpy as np\n",
    "import matplotlib.pyplot as plt\n",
    "from fpdf import FPDF"
   ]
  },
  {
   "cell_type": "code",
   "execution_count": 2,
   "id": "conscious-boost",
   "metadata": {},
   "outputs": [],
   "source": [
    "def import_json_to_dict(url) :\n",
    "    response = urllib.request.urlopen(url)\n",
    "    my_dict = json.loads(response.read())\n",
    "    return my_dict"
   ]
  },
  {
   "cell_type": "code",
   "execution_count": 3,
   "id": "southeast-vancouver",
   "metadata": {},
   "outputs": [],
   "source": [
    "def mkdir_ifnotexist(path) :\n",
    "    if not os.path.isdir(path) :\n",
    "        os.mkdir(path)"
   ]
  },
  {
   "cell_type": "code",
   "execution_count": 4,
   "id": "shaped-combination",
   "metadata": {},
   "outputs": [],
   "source": [
    "def format_amount(indic, valeur):\n",
    "    if \"Montant\" in indic:\n",
    "        f_valeur = float(valeur)\n",
    "        if f_valeur > 1000000:\n",
    "            return str(round(f_valeur/1000000, 1)) + ' M€'\n",
    "        elif f_valeur > 10000:\n",
    "            return str(round(f_valeur/1000, 1)) + ' k€'\n",
    "        else:\n",
    "            return str(f_valeur)\n",
    "    else:\n",
    "        return int(valeur.split(\".\")[0])"
   ]
  },
  {
   "cell_type": "code",
   "execution_count": 5,
   "id": "adjacent-interview",
   "metadata": {},
   "outputs": [],
   "source": [
    "mailles = [\"national\", \"regional\", \"departemental\"]"
   ]
  },
  {
   "cell_type": "code",
   "execution_count": 6,
   "id": "helpful-parallel",
   "metadata": {},
   "outputs": [],
   "source": [
    "pp_dep = pd.read_csv(\"pp_dep.csv\", sep=\";\", dtype={\"reg\":str})"
   ]
  },
  {
   "cell_type": "code",
   "execution_count": 7,
   "id": "second-thompson",
   "metadata": {},
   "outputs": [],
   "source": [
    "list_mesure_indic = list(pp_dep.pivot_table(index=[\"short_mesure\", \"short_indic\"], values=\"valeur\").index)"
   ]
  },
  {
   "cell_type": "code",
   "execution_count": 8,
   "id": "excessive-riverside",
   "metadata": {},
   "outputs": [
    {
     "name": "stdout",
     "output_type": "stream",
     "text": [
      "['AAP industrie : modernisation industrielle et renforcement des compétences dans la filière nucléaire', 'AAP industrie : modernisation industrielle et renforcement des compétences dans la filière nucléaire', \"Crédit d'impôt pour la certification HVE\", \"Guichet efficacité énergétique dans l'industrie\", \"Guichet efficacité énergétique dans l'industrie\", 'Investissement dans le recyclage et le réemploi (dont accompagnement filière plastique)', 'Patrimoine – rénovation monuments des collectivités territoriales', 'Patrimoine – rénovation monuments des collectivités territoriales', 'Soutien aux fonds propres des filières aéro et auto', 'Soutien aux fonds propres des filières aéro et auto', 'Soutien aux fonds propres des filières aéro et auto', 'Transports en commun Ile de France', 'Écosystèmes territoriaux hydrogène DGEC, AAP Ademe', 'Écosystèmes territoriaux hydrogène DGEC, AAP Ademe']\n"
     ]
    }
   ],
   "source": [
    "short_mesures_to_keep =set([\n",
    "'AAP et AMI Efficacité énergétique',\n",
    "'Assurance prospection',\n",
    "\"Ma Prime Rénov'\",\n",
    "\"Prime à l'embauche des jeunes\",\n",
    "\"Prime à l'embauche pour les travailleurs handicapés\",\n",
    "\"Apprentissage\",\n",
    "\"Bonus électrique\",\n",
    "\"Contrats Initiatives Emploi (CIE) Jeunes\",\n",
    "'Contrats de professionnalisation',\n",
    "'France Num : aide à la numérisation des TPE,PME,ETI',\n",
    "'Garantie jeunes',\n",
    "\"AAP industrie : Modernisation des filières auto et aéro\",\n",
    "\"Parcours emploi compétences (PEC) Jeunes\",\n",
    "'Prime à la conversion des véhicules légers',\n",
    "\"AAP Industrie : Soutien aux projets industriels territoires\",\n",
    "\"AAP Industrie : Sécurisation approvisionnements critiques\",\n",
    "\"Renforcement subventions Business France\",\n",
    "'Rénovation des bâtiments Etats (marchés notifiés)',\n",
    "\"Service civique\",\n",
    "'Soutien recherche aéronautique civil'\n",
    "])\n",
    "#print(list_mesure_indic)\n",
    "print(list(x[0] for x in list_mesure_indic if not(x[0] in short_mesures_to_keep)))\n",
    "list_mesure_indic = [x for x in list_mesure_indic if x[0] in short_mesures_to_keep]"
   ]
  },
  {
   "cell_type": "code",
   "execution_count": 9,
   "id": "furnished-hawaii",
   "metadata": {},
   "outputs": [],
   "source": [
    "pp_reg = pd.pivot_table(pp_dep, index=[\"mesure\",\"short_mesure\", \"reg\",\"region\", \"Date\", \"period_date\", \"short_indic\"], values=\"valeur\", aggfunc=np.sum)\n",
    "pp_reg.rename(columns={\"reg\":\"libelle\"}, inplace=True)\n",
    "pp_reg.reset_index(inplace=True)"
   ]
  },
  {
   "cell_type": "code",
   "execution_count": 10,
   "id": "declared-notion",
   "metadata": {},
   "outputs": [],
   "source": [
    "pp_nat = pd.pivot_table(pp_reg, index=[\"mesure\", \"short_mesure\", \"Date\",\"period_date\", \"short_indic\"], values=\"valeur\", aggfunc=np.sum)\n",
    "pp_nat.reset_index(inplace=True)"
   ]
  },
  {
   "cell_type": "code",
   "execution_count": 11,
   "id": "rotary-edwards",
   "metadata": {},
   "outputs": [],
   "source": [
    "dict_mesure_indic = {}\n",
    "for x in list_mesure_indic:\n",
    "    if x[0] in dict_mesure_indic:\n",
    "        dict_mesure_indic[x[0]].append(x[1])\n",
    "    else:\n",
    "        dict_mesure_indic[x[0]] = [x[1]]"
   ]
  },
  {
   "cell_type": "code",
   "execution_count": 12,
   "id": "sitting-contamination",
   "metadata": {},
   "outputs": [],
   "source": [
    "dict_mesure_indic['AAP Industrie : Soutien aux projets industriels territoires'] = ['Nombre de TPE,PME,ETI bénéficiaires']\n",
    "dict_mesure_indic['AAP Industrie : Sécurisation approvisionnements critiques'] = ['Nombre de TPE,PME,ETI bénéficiaires']\n",
    "dict_mesure_indic['AAP et AMI Efficacité énergétique'] = [\"Nombre d'entreprises bénéficiaires\"]\n",
    "dict_mesure_indic['AAP industrie : Modernisation des filières auto et aéro'] = ['Nombre de PME']"
   ]
  },
  {
   "cell_type": "code",
   "execution_count": 13,
   "id": "smoking-louis",
   "metadata": {},
   "outputs": [],
   "source": [
    "# On ne veut pas afficher les lignes de Prime Rénov nulles\n",
    "pp_dep = pp_dep.loc[(pp_dep.short_mesure != \"Ma Prime Rénov'\") | (pp_dep.valeur != 0) ]"
   ]
  },
  {
   "cell_type": "code",
   "execution_count": 14,
   "id": "constant-restriction",
   "metadata": {},
   "outputs": [],
   "source": [
    "pp_dep.valeur = pp_dep.valeur.astype(str)\n",
    "pp_dep.valeur = pp_dep.apply(lambda x: format_amount(x[\"short_indic\"], x[\"valeur\"]), axis=1)"
   ]
  },
  {
   "cell_type": "code",
   "execution_count": 15,
   "id": "massive-fishing",
   "metadata": {},
   "outputs": [],
   "source": [
    "pp_reg.valeur = pp_reg.valeur.astype(str)\n",
    "pp_reg.valeur = pp_reg.apply(lambda x: format_amount(x[\"short_indic\"], x[\"valeur\"]), axis=1)"
   ]
  },
  {
   "cell_type": "code",
   "execution_count": 16,
   "id": "sorted-lyric",
   "metadata": {},
   "outputs": [],
   "source": [
    "pp_nat.valeur = pp_nat.valeur.astype(str)\n",
    "pp_nat.valeur = pp_nat.apply(lambda x: format_amount(x[\"short_indic\"], x[\"valeur\"]), axis=1)"
   ]
  },
  {
   "cell_type": "code",
   "execution_count": 17,
   "id": "cellular-cincinnati",
   "metadata": {},
   "outputs": [],
   "source": [
    "taxo_dep_url = 'https://raw.githubusercontent.com/etalab/dashboard-aides-entreprises/master/backend/json/taxonomies/departements-minify.json'\n",
    "taxo_reg_url = 'https://raw.githubusercontent.com/etalab/dashboard-aides-entreprises/master/backend/json/taxonomies/regions-minify.json'"
   ]
  },
  {
   "cell_type": "code",
   "execution_count": 18,
   "id": "timely-usage",
   "metadata": {},
   "outputs": [
    {
     "name": "stdout",
     "output_type": "stream",
     "text": [
      "101 departements.\n",
      "18 regions.\n"
     ]
    }
   ],
   "source": [
    "taxo_dep_df = pd.DataFrame(import_json_to_dict(taxo_dep_url))\n",
    "dep_list = list(taxo_dep_df['dep'])\n",
    "print('{} departements.'.format(len(dep_list)))\n",
    "\n",
    "taxo_reg_df = pd.DataFrame(import_json_to_dict(taxo_reg_url))\n",
    "reg_list = list(taxo_reg_df['reg'])\n",
    "print('{} regions.'.format(len(reg_list)))"
   ]
  },
  {
   "cell_type": "code",
   "execution_count": 19,
   "id": "enhanced-burns",
   "metadata": {},
   "outputs": [],
   "source": [
    "#Building the folders structures\n",
    "pp_img_dir_path = './pp_img'\n",
    "img_dir_path = './img/'\n",
    "reports_dir_path = './reports/pdf'\n",
    "\n",
    "mkdir_ifnotexist(pp_img_dir_path)\n",
    "mkdir_ifnotexist(os.path.join(pp_img_dir_path, 'national'))\n",
    "\n",
    "#Regions subfolders\n",
    "mkdir_ifnotexist(os.path.join(pp_img_dir_path, 'regional'))\n",
    "for reg in reg_list :\n",
    "    mkdir_ifnotexist(os.path.join(pp_img_dir_path, 'regional', reg))\n",
    "    \n",
    "#Departements subfolders\n",
    "mkdir_ifnotexist(os.path.join(pp_img_dir_path, 'departemental'))\n",
    "for dep in dep_list :\n",
    "    mkdir_ifnotexist(os.path.join(pp_img_dir_path, 'departemental', dep))\n",
    "\n",
    "mkdir_ifnotexist(reports_dir_path)"
   ]
  },
  {
   "cell_type": "code",
   "execution_count": 20,
   "id": "fifty-short",
   "metadata": {},
   "outputs": [],
   "source": [
    "def make_pp_chart(maille, mesure, short_indic) :\n",
    "    if maille == \"departemental\":\n",
    "        df = pp_dep.loc[(pp_dep.short_mesure == mesure) \n",
    "                        & (pp_dep.short_indic == short_indic)\n",
    "                       ].sort_values(by=\"period_date\", ascending=True).copy()\n",
    "        df.rename(columns={\"valeur\":short_indic}, inplace=True)\n",
    "        deps = pp_dep.dep.unique()\n",
    "        \n",
    "        default = df.groupby([\"Date\", \"period_date\"]).sum().sort_values(\"period_date\", ascending=True).reset_index()\n",
    "        default[short_indic] = 0\n",
    "        default = default[[\"Date\", short_indic]]\n",
    "\n",
    "        for dep in deps:\n",
    "            df_plot = df.loc[(df.dep == dep)][[\"Date\", short_indic]]\n",
    "            if df_plot.shape[0] == 0:\n",
    "                ax = pp_plot(default)\n",
    "            else:\n",
    "                ax = pp_plot(df_plot)\n",
    "            save_pp_plot(maille, dep, mesure, short_indic, ax)\n",
    "            \n",
    "    elif maille == \"regional\":\n",
    "        df = pp_reg.loc[(pp_reg.short_mesure == mesure) \n",
    "                & (pp_reg.short_indic == short_indic)\n",
    "                ].sort_values(by=\"period_date\", ascending=True).copy()\n",
    "        df.rename(columns={\"valeur\":short_indic}, inplace=True)\n",
    "        regs = df.reg.unique()\n",
    "        \n",
    "        default = df.groupby([\"Date\", \"period_date\"]).sum().sort_values(\"period_date\", ascending=True).reset_index()\n",
    "        default[short_indic] = 0\n",
    "        default = default[[\"Date\", short_indic]]\n",
    "\n",
    "        for reg in regs:\n",
    "            df_plot = df.loc[(df.reg == reg)][[\"Date\", short_indic]]\n",
    "            if df_plot.shape[0] == 0:\n",
    "                ax = pp_plot(default)\n",
    "            else:\n",
    "                ax = pp_plot(df_plot)\n",
    "            save_pp_plot(maille, reg, mesure, short_indic, ax)\n",
    "            \n",
    "    elif maille == \"national\":\n",
    "        df = pp_nat.loc[(pp_nat.short_mesure == mesure) \n",
    "                & (pp_nat.short_indic == short_indic)\n",
    "                ].sort_values(by=\"period_date\", ascending=True)[[\"Date\", \"valeur\"]].copy()\n",
    "        df.rename(columns={\"valeur\":short_indic}, inplace=True)\n",
    "        ax = pp_plot(df)#, mesure, short_indic, \"France\")\n",
    "        save_pp_plot(maille, \"France\", mesure, short_indic, ax)"
   ]
  },
  {
   "cell_type": "code",
   "execution_count": 21,
   "id": "independent-butler",
   "metadata": {},
   "outputs": [],
   "source": [
    "def pp_plot(data, col_width=12, row_height=1.2, font_size=20,\n",
    "                     header_color='#40466e', row_colors=['#f1f1f2', 'w'], edge_color='w',\n",
    "                     bbox=[0, 0, 1, 1], header_columns=0,\n",
    "                     ax=None, **kwargs):\n",
    "    if ax is None:\n",
    "        size = (np.array(data.shape[::-1]) + np.array([0, 1])) * np.array([col_width, row_height])\n",
    "        fig, ax = plt.subplots(figsize=size)\n",
    "        ax.axis('off')\n",
    "    mpl_table = ax.table(cellText=data.values, bbox=bbox, colLabels=data.columns, **kwargs)\n",
    "    mpl_table.auto_set_font_size(False)\n",
    "    mpl_table.set_fontsize(font_size)\n",
    "\n",
    "    for k, cell in mpl_table._cells.items():\n",
    "        cell.set_edgecolor(edge_color)\n",
    "        if k[0] == 0 or k[1] < header_columns:\n",
    "            cell.set_text_props(weight='bold', color='w')\n",
    "            cell.set_facecolor(header_color)\n",
    "        else:\n",
    "            cell.set_facecolor(row_colors[k[0]%len(row_colors)])\n",
    "    return ax"
   ]
  },
  {
   "cell_type": "code",
   "execution_count": 22,
   "id": "nutritional-technician",
   "metadata": {},
   "outputs": [],
   "source": [
    "def save_pp_plot(maille, geo, mesure, short_indic, ax):\n",
    "    #print(maille, geo, mesure, short_indic)\n",
    "    path = os.path.join(\"pp_img\", maille, geo)\n",
    "    ax.figure.savefig(os.path.join(path, \"{}-{}.png\".format(mesure, short_indic)))\n",
    "    plt.close()"
   ]
  },
  {
   "cell_type": "code",
   "execution_count": 23,
   "id": "committed-concept",
   "metadata": {},
   "outputs": [],
   "source": [
    "def make_all_charts():\n",
    "    for mesure,short_indic in list_mesure_indic:\n",
    "        for maille in mailles :\n",
    "            make_pp_chart(maille, mesure, short_indic)"
   ]
  },
  {
   "cell_type": "code",
   "execution_count": 24,
   "id": "cultural-expansion",
   "metadata": {},
   "outputs": [
    {
     "name": "stdout",
     "output_type": "stream",
     "text": [
      "CPU times: user 2min 21s, sys: 3.87 s, total: 2min 25s\n",
      "Wall time: 2min 25s\n"
     ]
    }
   ],
   "source": [
    "%%time\n",
    "make_all_charts()"
   ]
  },
  {
   "cell_type": "code",
   "execution_count": 25,
   "id": "silent-economy",
   "metadata": {},
   "outputs": [],
   "source": [
    "col_width=6.0\n",
    "row_height=0.625\n",
    "font_size=14"
   ]
  },
  {
   "cell_type": "code",
   "execution_count": 26,
   "id": "bronze-oxygen",
   "metadata": {},
   "outputs": [],
   "source": [
    "global title_header\n",
    "title_header = ''\n",
    "global subtitle_header\n",
    "subtitle_header = ''"
   ]
  },
  {
   "cell_type": "code",
   "execution_count": 27,
   "id": "regional-blocking",
   "metadata": {},
   "outputs": [],
   "source": [
    "class PDF(FPDF):\n",
    "    def header(self):\n",
    "        if (self.page_no() != 1 ):\n",
    "            # Logo\n",
    "            self.image(os.path.join(img_dir_path, 'LogoRF.png'), 10, 8, 33)\n",
    "            self.image(os.path.join(img_dir_path, 'logo_Francerelance_1321294.54.png'), pdf.w-45, 7, 45)\n",
    "            # Arial bold 15\n",
    "            self.cell(40)\n",
    "            self.add_font('Arial', 'B', 16, uni=True)\n",
    "            self.set_font('Arial', 'B', 16)\n",
    "            self.multi_cell(110, 10, title_header, 0, 1, 'A')\n",
    "\n",
    "            # Move to the right\n",
    "            # Title\n",
    "            self.set_font('Arial', 'I', 9)\n",
    "            self.cell(50)\n",
    "            self.cell(50)\n",
    "            #self.cell(50, 10, subtitle_header, 0, 1, 'A')#+' - aides-entreprises.data.gouv.fr', 0, 1, 'A', link='https://aides-entreprises.data.gouv.fr/')\n",
    "            # Line break  \n",
    "            pdf.line(40, 38, 170, 38)\n",
    "            self.ln(7)\n",
    "        \n",
    "    # Page footer\n",
    "    def footer(self):\n",
    "        if (self.page_no() != 1 ):\n",
    "            # Position at 1.5 cm from bottom\n",
    "            self.set_y(-15)\n",
    "            # Arial italic 8\n",
    "            self.set_font('Arial', 'I', 8)\n",
    "            # Page number\n",
    "            \n",
    "            #self.cell(0, 10, 'Direction Interministérielle du Numérique (DINUM) - Page ' + str(self.page_no()) + '/{nb}', 0, 0, 'C')         "
   ]
  },
  {
   "cell_type": "code",
   "execution_count": 28,
   "id": "comparative-abortion",
   "metadata": {},
   "outputs": [],
   "source": [
    "def add_propilot_page_report(pdf, dep, short_mesure, phrase_nombre, source_dict):\n",
    "    \n",
    "    pdf.set_fill_color(83,101,125);\n",
    "\n",
    "    pdf.set_y(47.00125)\n",
    "    \n",
    "    \n",
    "    # Print KPI\n",
    "    short_indic = dict_mesure_indic[short_mesure][0]\n",
    "    kpi_dep = (pp_dep.loc[(pp_dep.dep == dep) \n",
    "                          & (pp_dep.short_mesure == short_mesure) \n",
    "                          & (pp_dep.short_indic == short_indic)]\n",
    "                .sort_values(by=\"period_date\", ascending=False))\n",
    "    if kpi_dep.shape[0] != 0:\n",
    "        date= kpi_dep.iloc[0].Date\n",
    "        valeur = kpi_dep.iloc[0].valeur\n",
    "    else:\n",
    "        date = pp_dep.Date.max()\n",
    "        valeur = 0\n",
    "    \n",
    "    pdf.add_font('Arial', '', 'arial.ttf', uni=True)\n",
    "    pdf.set_font('Arial', '', 12)\n",
    "    pdf.cell(12, 10, f\"À {date}, {short_indic} : {valeur} (données cumulées)\")\n",
    "    pdf.ln(10)\n",
    " \n",
    "    pdf.set_text_color(0,0,0)\n",
    "\n",
    "    # Niveau National\n",
    "    pdf.set_font('Arial', 'BI', 14)\n",
    "    pdf.cell(65, 10, \"Niveau National\", ln=1)\n",
    "    \n",
    "    pdf.set_font('Arial', '', 14)\n",
    "\n",
    "    hbar_w = 120\n",
    "    pdf.image(os.path.join(pp_img_dir_path, 'national','France', f\"{short_mesure}-{short_indic}.png\"), \n",
    "              x=0, y=74, w=hbar_w)\n",
    "\n",
    "    pdf.ln(12)\n",
    "    pdf.cell((pdf.w/3)*1.55)\n",
    "    pdf.ln(10)\n",
    "    pdf.cell((pdf.w/3)*1.55)\n",
    "    pdf.ln(27)\n",
    "\n",
    "    reg = taxo_dep_df[taxo_dep_df['dep'] == dep].iloc[0]['reg']\n",
    "    libelle_reg = taxo_reg_df[taxo_reg_df['reg'] == reg].iloc[0]['libelle']\n",
    "    libelle_dep = taxo_dep_df[taxo_dep_df['dep'] == dep].iloc[0]['libelle']\n",
    "    \n",
    "    \n",
    "    # Niveau Régional\n",
    "    pdf.set_font('Arial', 'BI', 14)\n",
    "    pdf.cell(65, 10, \"Niveau Régional : \"+libelle_reg, ln=1)\n",
    "\n",
    "    pdf.set_font('Arial', '', 14)\n",
    "\n",
    "    path_reg = os.path.join(pp_img_dir_path, 'regional',reg, f\"{short_mesure}-{short_indic}.png\")\n",
    "    if os.path.exists(path_reg):    \n",
    "        pdf.image(path_reg, x=0, y=133, w=hbar_w)\n",
    "    pdf.ln(10)\n",
    "    pdf.cell((pdf.w/3)*1.55)\n",
    "    pdf.ln(15)\n",
    "    pdf.cell((pdf.w/3)*1.55)\n",
    "    pdf.ln(10)\n",
    "    pdf.cell((pdf.w/3)*1.55)\n",
    "    pdf.ln(25)\n",
    "\n",
    "    # Niveau Départemental\n",
    "    pdf.set_font('Arial', 'BI', 14)\n",
    "    pdf.cell(65, 15, \"Niveau Départemental : \"+libelle_dep, ln=1) \n",
    "\n",
    "    pdf.set_font('Arial', '', 14)\n",
    "    path_dep = os.path.join(pp_img_dir_path, 'departemental', dep, f\"{short_mesure}-{short_indic}.png\")\n",
    "    if os.path.exists(path_dep):\n",
    "        pdf.image(path_dep, x=0, y=210, w=hbar_w)\n",
    "        \n",
    "    pdf.ln(8)\n",
    "    pdf.cell((pdf.w/3)*1.55)\n",
    "    pdf.ln(15)\n",
    "    pdf.cell((pdf.w/3)*1.55)\n",
    "    \n",
    "    return pdf"
   ]
  },
  {
   "cell_type": "code",
   "execution_count": 29,
   "id": "assured-behavior",
   "metadata": {},
   "outputs": [
    {
     "name": "stdout",
     "output_type": "stream",
     "text": [
      "2021-03-03 11:13:17.705231 - 01 done.\n",
      "CPU times: user 15 s, sys: 47.9 ms, total: 15 s\n",
      "Wall time: 15.1 s\n"
     ]
    }
   ],
   "source": [
    "%%time\n",
    "\n",
    "mkdir_ifnotexist(os.path.join(reports_dir_path, 'pdf'))\n",
    "\n",
    "counter = 0\n",
    "for dep in taxo_dep_df.dep.unique():\n",
    "    if dep != \"01\":\n",
    "        continue\n",
    "    counter += 1\n",
    "    \n",
    "    pdf = PDF()\n",
    "    pdf.alias_nb_pages()\n",
    "    pdf.add_page()\n",
    "\n",
    "    #Logos\n",
    "    pdf.image(os.path.join(img_dir_path, 'LogoRF.png'), 10, 8, 33)\n",
    "    pdf.image(os.path.join(img_dir_path, 'logo_Francerelance_1321294.54.png'), pdf.w-45, 7, 45)\n",
    "    \n",
    "    # Arial bold 15\n",
    "    pdf.set_font('Arial', 'B', 28)\n",
    "    # Move to the right\n",
    "    pdf.cell(50)\n",
    "    pdf.ln(70)\n",
    "    \n",
    "    # Title\n",
    "    pdf.cell(10)\n",
    "    pdf.cell(50, 10, 'SUIVI TERRITORIAL', 0, 1, 'A')\n",
    "    pdf.ln(10)\n",
    "    pdf.cell(10)\n",
    "    pdf.cell(50, 10, 'DU PLAN DE RELANCE', 0, 1, 'A')\n",
    "    pdf.ln(10)\n",
    "    pdf.cell(10)\n",
    "    pdf.cell(50)\n",
    "\n",
    "    pdf.set_font('Arial', 'I', 20)\n",
    "    pdf.ln(10)\n",
    "    pdf.cell(10)\n",
    "    pdf.cell(50, 10, 'Données pour le département : '+taxo_dep_df[taxo_dep_df['dep'] == dep].iloc[0]['libelle'], 0, 1, 'A')\n",
    "    pdf.ln(110)\n",
    "\n",
    "    pdf.set_font('Arial', 'I', 8)\n",
    "\n",
    "    pdf.cell(10)\n",
    "       \n",
    "    # TEST PROPILOT\n",
    "    for short_mesure in short_mesures_to_keep:\n",
    "        source_dict= {'name':'Les données utilisées proviennent de ProPilot', \n",
    "                      'url':'https://dares.travail-emploi.gouv.fr/dares-etudes-et-statistiques/tableaux-de-bord/le-marche-du-travail-pendant-le-covid-19/tableaux-de-bord-hebdomadaires'}\n",
    "\n",
    "        title_header = short_mesure\n",
    "        \n",
    "        pdf.add_page()\n",
    "        pdf = add_propilot_page_report(pdf, dep, short_mesure,' : ', source_dict) \n",
    "\n",
    "    pdf.output(os.path.join(reports_dir_path, 'Suivi_territorial_plan_relance_'+taxo_dep_df[taxo_dep_df['dep'] == dep].iloc[0]['libelle']+'.pdf'), 'F')\n",
    "    \n",
    "    print(str(datetime.datetime.today()) + ' - ' + dep + ' done.')"
   ]
  },
  {
   "cell_type": "code",
   "execution_count": null,
   "id": "charitable-linux",
   "metadata": {},
   "outputs": [],
   "source": []
  }
 ],
 "metadata": {
  "kernelspec": {
   "display_name": "Python 3",
   "language": "python",
   "name": "python3"
  },
  "language_info": {
   "codemirror_mode": {
    "name": "ipython",
    "version": 3
   },
   "file_extension": ".py",
   "mimetype": "text/x-python",
   "name": "python",
   "nbconvert_exporter": "python",
   "pygments_lexer": "ipython3",
   "version": "3.9.1"
  }
 },
 "nbformat": 4,
 "nbformat_minor": 5
}
