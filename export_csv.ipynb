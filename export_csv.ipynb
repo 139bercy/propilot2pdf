{
 "cells": [
  {
   "cell_type": "code",
   "execution_count": 16,
   "id": "moving-complement",
   "metadata": {},
   "outputs": [],
   "source": [
    "import pandas as pd\n",
    "import numpy as np"
   ]
  },
  {
   "cell_type": "code",
   "execution_count": 19,
   "id": "hawaiian-invalid",
   "metadata": {},
   "outputs": [],
   "source": [
    "pp_dep = pd.read_csv(\"pp_dep.csv\", sep=\";\", dtype={\"reg\":str})"
   ]
  },
  {
   "cell_type": "code",
   "execution_count": 20,
   "id": "competitive-vintage",
   "metadata": {},
   "outputs": [
    {
     "data": {
      "text/plain": [
       "array(['2021-01-31 00:00:00', '2020-12-31 00:00:00',\n",
       "       '2020-11-30 00:00:00', '2021-02-28 00:00:00',\n",
       "       '2022-12-31 00:00:00'], dtype=object)"
      ]
     },
     "execution_count": 20,
     "metadata": {},
     "output_type": "execute_result"
    }
   ],
   "source": [
    "pp_dep.period_date.unique()"
   ]
  },
  {
   "cell_type": "code",
   "execution_count": 21,
   "id": "together-draft",
   "metadata": {},
   "outputs": [
    {
     "data": {
      "text/html": [
       "<div>\n",
       "<style scoped>\n",
       "    .dataframe tbody tr th:only-of-type {\n",
       "        vertical-align: middle;\n",
       "    }\n",
       "\n",
       "    .dataframe tbody tr th {\n",
       "        vertical-align: top;\n",
       "    }\n",
       "\n",
       "    .dataframe thead th {\n",
       "        text-align: right;\n",
       "    }\n",
       "</style>\n",
       "<table border=\"1\" class=\"dataframe\">\n",
       "  <thead>\n",
       "    <tr style=\"text-align: right;\">\n",
       "      <th></th>\n",
       "      <th>Unnamed: 0</th>\n",
       "      <th>indicateur</th>\n",
       "      <th>period_month_tri</th>\n",
       "      <th>Date</th>\n",
       "      <th>valeur</th>\n",
       "      <th>departement</th>\n",
       "      <th>mesure</th>\n",
       "      <th>short_indic</th>\n",
       "      <th>short_mesure</th>\n",
       "      <th>dep</th>\n",
       "      <th>reg</th>\n",
       "      <th>libelle</th>\n",
       "      <th>region</th>\n",
       "    </tr>\n",
       "    <tr>\n",
       "      <th>period_date</th>\n",
       "      <th></th>\n",
       "      <th></th>\n",
       "      <th></th>\n",
       "      <th></th>\n",
       "      <th></th>\n",
       "      <th></th>\n",
       "      <th></th>\n",
       "      <th></th>\n",
       "      <th></th>\n",
       "      <th></th>\n",
       "      <th></th>\n",
       "      <th></th>\n",
       "      <th></th>\n",
       "    </tr>\n",
       "  </thead>\n",
       "  <tbody>\n",
       "    <tr>\n",
       "      <th>2020-11-30 00:00:00</th>\n",
       "      <td>1995</td>\n",
       "      <td>1995</td>\n",
       "      <td>1995</td>\n",
       "      <td>1995</td>\n",
       "      <td>1995</td>\n",
       "      <td>1995</td>\n",
       "      <td>1995</td>\n",
       "      <td>1995</td>\n",
       "      <td>1995</td>\n",
       "      <td>1995</td>\n",
       "      <td>1995</td>\n",
       "      <td>1995</td>\n",
       "      <td>1995</td>\n",
       "    </tr>\n",
       "    <tr>\n",
       "      <th>2020-12-31 00:00:00</th>\n",
       "      <td>3223</td>\n",
       "      <td>3223</td>\n",
       "      <td>3223</td>\n",
       "      <td>3223</td>\n",
       "      <td>3223</td>\n",
       "      <td>3223</td>\n",
       "      <td>3223</td>\n",
       "      <td>3223</td>\n",
       "      <td>3223</td>\n",
       "      <td>3223</td>\n",
       "      <td>3223</td>\n",
       "      <td>3223</td>\n",
       "      <td>3223</td>\n",
       "    </tr>\n",
       "    <tr>\n",
       "      <th>2021-01-31 00:00:00</th>\n",
       "      <td>4060</td>\n",
       "      <td>4060</td>\n",
       "      <td>4060</td>\n",
       "      <td>4060</td>\n",
       "      <td>4060</td>\n",
       "      <td>4060</td>\n",
       "      <td>4060</td>\n",
       "      <td>4060</td>\n",
       "      <td>4060</td>\n",
       "      <td>4060</td>\n",
       "      <td>4060</td>\n",
       "      <td>4060</td>\n",
       "      <td>4060</td>\n",
       "    </tr>\n",
       "    <tr>\n",
       "      <th>2021-02-28 00:00:00</th>\n",
       "      <td>300</td>\n",
       "      <td>300</td>\n",
       "      <td>300</td>\n",
       "      <td>300</td>\n",
       "      <td>300</td>\n",
       "      <td>300</td>\n",
       "      <td>300</td>\n",
       "      <td>300</td>\n",
       "      <td>300</td>\n",
       "      <td>300</td>\n",
       "      <td>300</td>\n",
       "      <td>300</td>\n",
       "      <td>300</td>\n",
       "    </tr>\n",
       "    <tr>\n",
       "      <th>2022-12-31 00:00:00</th>\n",
       "      <td>100</td>\n",
       "      <td>100</td>\n",
       "      <td>100</td>\n",
       "      <td>100</td>\n",
       "      <td>100</td>\n",
       "      <td>100</td>\n",
       "      <td>100</td>\n",
       "      <td>100</td>\n",
       "      <td>100</td>\n",
       "      <td>100</td>\n",
       "      <td>100</td>\n",
       "      <td>100</td>\n",
       "      <td>100</td>\n",
       "    </tr>\n",
       "  </tbody>\n",
       "</table>\n",
       "</div>"
      ],
      "text/plain": [
       "                     Unnamed: 0  indicateur  period_month_tri  Date  valeur  \\\n",
       "period_date                                                                   \n",
       "2020-11-30 00:00:00        1995        1995              1995  1995    1995   \n",
       "2020-12-31 00:00:00        3223        3223              3223  3223    3223   \n",
       "2021-01-31 00:00:00        4060        4060              4060  4060    4060   \n",
       "2021-02-28 00:00:00         300         300               300   300     300   \n",
       "2022-12-31 00:00:00         100         100               100   100     100   \n",
       "\n",
       "                     departement  mesure  short_indic  short_mesure   dep  \\\n",
       "period_date                                                                 \n",
       "2020-11-30 00:00:00         1995    1995         1995          1995  1995   \n",
       "2020-12-31 00:00:00         3223    3223         3223          3223  3223   \n",
       "2021-01-31 00:00:00         4060    4060         4060          4060  4060   \n",
       "2021-02-28 00:00:00          300     300          300           300   300   \n",
       "2022-12-31 00:00:00          100     100          100           100   100   \n",
       "\n",
       "                      reg  libelle  region  \n",
       "period_date                                 \n",
       "2020-11-30 00:00:00  1995     1995    1995  \n",
       "2020-12-31 00:00:00  3223     3223    3223  \n",
       "2021-01-31 00:00:00  4060     4060    4060  \n",
       "2021-02-28 00:00:00   300      300     300  \n",
       "2022-12-31 00:00:00   100      100     100  "
      ]
     },
     "execution_count": 21,
     "metadata": {},
     "output_type": "execute_result"
    }
   ],
   "source": [
    "pp_dep.groupby(\"period_date\").count()"
   ]
  },
  {
   "cell_type": "code",
   "execution_count": 22,
   "id": "naval-tobacco",
   "metadata": {},
   "outputs": [
    {
     "name": "stdout",
     "output_type": "stream",
     "text": [
      "(100, 46)\n"
     ]
    }
   ],
   "source": [
    "export = pp_dep[[\"mesure\", \"short_indic\",\"dep\", \"valeur\"]]\n",
    "export = pd.pivot_table(export, values=\"valeur\", index=[\"dep\"], columns=[\"mesure\", \"short_indic\"],aggfunc=np.sum)\n",
    "export.to_csv(\"export_20210131.csv\", sep=\";\")\n",
    "print(export.shape)"
   ]
  },
  {
   "cell_type": "code",
   "execution_count": null,
   "id": "boring-wound",
   "metadata": {},
   "outputs": [],
   "source": []
  }
 ],
 "metadata": {
  "kernelspec": {
   "display_name": "Python 3",
   "language": "python",
   "name": "python3"
  },
  "language_info": {
   "codemirror_mode": {
    "name": "ipython",
    "version": 3
   },
   "file_extension": ".py",
   "mimetype": "text/x-python",
   "name": "python",
   "nbconvert_exporter": "python",
   "pygments_lexer": "ipython3",
   "version": "3.9.1"
  }
 },
 "nbformat": 4,
 "nbformat_minor": 5
}
