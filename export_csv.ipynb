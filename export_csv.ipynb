{
 "cells": [
  {
   "cell_type": "code",
   "execution_count": 14,
   "id": "chronic-hurricane",
   "metadata": {},
   "outputs": [],
   "source": [
    "import pandas as pd\n",
    "import numpy as np\n",
    "from datetime import datetime"
   ]
  },
  {
   "cell_type": "code",
   "execution_count": 8,
   "id": "accomplished-price",
   "metadata": {},
   "outputs": [],
   "source": [
    "pp_dep = pd.read_csv(\"pp_dep.csv\", sep=\";\", dtype={\"reg\":str})"
   ]
  },
  {
   "cell_type": "code",
   "execution_count": 9,
   "id": "scenic-mechanism",
   "metadata": {},
   "outputs": [
    {
     "data": {
      "text/plain": [
       "array(['2021-01-31T00:00:00.0000000', '2021-02-28T00:00:00.0000000',\n",
       "       '2020-12-31T00:00:00.0000000', '2020-11-30T00:00:00.0000000',\n",
       "       '2022-12-31T00:00:00.0000000', '2021-03-31T00:00:00.0000000'],\n",
       "      dtype=object)"
      ]
     },
     "execution_count": 9,
     "metadata": {},
     "output_type": "execute_result"
    }
   ],
   "source": [
    "pp_dep.period_date.unique()"
   ]
  },
  {
   "cell_type": "code",
   "execution_count": 4,
   "id": "alpha-complex",
   "metadata": {},
   "outputs": [
    {
     "data": {
      "text/html": [
       "<div>\n",
       "<style scoped>\n",
       "    .dataframe tbody tr th:only-of-type {\n",
       "        vertical-align: middle;\n",
       "    }\n",
       "\n",
       "    .dataframe tbody tr th {\n",
       "        vertical-align: top;\n",
       "    }\n",
       "\n",
       "    .dataframe thead th {\n",
       "        text-align: right;\n",
       "    }\n",
       "</style>\n",
       "<table border=\"1\" class=\"dataframe\">\n",
       "  <thead>\n",
       "    <tr style=\"text-align: right;\">\n",
       "      <th></th>\n",
       "      <th>Unnamed: 0</th>\n",
       "      <th>indicateur</th>\n",
       "      <th>period_month_tri</th>\n",
       "      <th>Date</th>\n",
       "      <th>valeur</th>\n",
       "      <th>departement</th>\n",
       "      <th>mesure</th>\n",
       "      <th>short_indic</th>\n",
       "      <th>short_mesure</th>\n",
       "      <th>dep</th>\n",
       "      <th>reg</th>\n",
       "      <th>libelle</th>\n",
       "      <th>region</th>\n",
       "    </tr>\n",
       "    <tr>\n",
       "      <th>period_date</th>\n",
       "      <th></th>\n",
       "      <th></th>\n",
       "      <th></th>\n",
       "      <th></th>\n",
       "      <th></th>\n",
       "      <th></th>\n",
       "      <th></th>\n",
       "      <th></th>\n",
       "      <th></th>\n",
       "      <th></th>\n",
       "      <th></th>\n",
       "      <th></th>\n",
       "      <th></th>\n",
       "    </tr>\n",
       "  </thead>\n",
       "  <tbody>\n",
       "    <tr>\n",
       "      <th>2020-11-30T00:00:00.0000000</th>\n",
       "      <td>2095</td>\n",
       "      <td>2095</td>\n",
       "      <td>2095</td>\n",
       "      <td>2095</td>\n",
       "      <td>2095</td>\n",
       "      <td>2095</td>\n",
       "      <td>2095</td>\n",
       "      <td>2095</td>\n",
       "      <td>2095</td>\n",
       "      <td>2095</td>\n",
       "      <td>2095</td>\n",
       "      <td>2095</td>\n",
       "      <td>2095</td>\n",
       "    </tr>\n",
       "    <tr>\n",
       "      <th>2020-12-31T00:00:00.0000000</th>\n",
       "      <td>3323</td>\n",
       "      <td>3323</td>\n",
       "      <td>3323</td>\n",
       "      <td>3323</td>\n",
       "      <td>3323</td>\n",
       "      <td>3323</td>\n",
       "      <td>3323</td>\n",
       "      <td>3323</td>\n",
       "      <td>3323</td>\n",
       "      <td>3323</td>\n",
       "      <td>3323</td>\n",
       "      <td>3323</td>\n",
       "      <td>3323</td>\n",
       "    </tr>\n",
       "    <tr>\n",
       "      <th>2021-01-31T00:00:00.0000000</th>\n",
       "      <td>4181</td>\n",
       "      <td>4181</td>\n",
       "      <td>4181</td>\n",
       "      <td>4181</td>\n",
       "      <td>4181</td>\n",
       "      <td>4181</td>\n",
       "      <td>4181</td>\n",
       "      <td>4181</td>\n",
       "      <td>4181</td>\n",
       "      <td>4181</td>\n",
       "      <td>4181</td>\n",
       "      <td>4181</td>\n",
       "      <td>4181</td>\n",
       "    </tr>\n",
       "    <tr>\n",
       "      <th>2021-02-28T00:00:00.0000000</th>\n",
       "      <td>3618</td>\n",
       "      <td>3618</td>\n",
       "      <td>3618</td>\n",
       "      <td>3618</td>\n",
       "      <td>3618</td>\n",
       "      <td>3618</td>\n",
       "      <td>3618</td>\n",
       "      <td>3618</td>\n",
       "      <td>3618</td>\n",
       "      <td>3618</td>\n",
       "      <td>3618</td>\n",
       "      <td>3618</td>\n",
       "      <td>3618</td>\n",
       "    </tr>\n",
       "    <tr>\n",
       "      <th>2021-03-31T00:00:00.0000000</th>\n",
       "      <td>78</td>\n",
       "      <td>78</td>\n",
       "      <td>78</td>\n",
       "      <td>78</td>\n",
       "      <td>78</td>\n",
       "      <td>78</td>\n",
       "      <td>78</td>\n",
       "      <td>78</td>\n",
       "      <td>78</td>\n",
       "      <td>78</td>\n",
       "      <td>78</td>\n",
       "      <td>78</td>\n",
       "      <td>78</td>\n",
       "    </tr>\n",
       "    <tr>\n",
       "      <th>2022-12-31T00:00:00.0000000</th>\n",
       "      <td>100</td>\n",
       "      <td>100</td>\n",
       "      <td>100</td>\n",
       "      <td>100</td>\n",
       "      <td>100</td>\n",
       "      <td>100</td>\n",
       "      <td>100</td>\n",
       "      <td>100</td>\n",
       "      <td>100</td>\n",
       "      <td>100</td>\n",
       "      <td>100</td>\n",
       "      <td>100</td>\n",
       "      <td>100</td>\n",
       "    </tr>\n",
       "  </tbody>\n",
       "</table>\n",
       "</div>"
      ],
      "text/plain": [
       "                             Unnamed: 0  indicateur  period_month_tri  Date  \\\n",
       "period_date                                                                   \n",
       "2020-11-30T00:00:00.0000000        2095        2095              2095  2095   \n",
       "2020-12-31T00:00:00.0000000        3323        3323              3323  3323   \n",
       "2021-01-31T00:00:00.0000000        4181        4181              4181  4181   \n",
       "2021-02-28T00:00:00.0000000        3618        3618              3618  3618   \n",
       "2021-03-31T00:00:00.0000000          78          78                78    78   \n",
       "2022-12-31T00:00:00.0000000         100         100               100   100   \n",
       "\n",
       "                             valeur  departement  mesure  short_indic  \\\n",
       "period_date                                                             \n",
       "2020-11-30T00:00:00.0000000    2095         2095    2095         2095   \n",
       "2020-12-31T00:00:00.0000000    3323         3323    3323         3323   \n",
       "2021-01-31T00:00:00.0000000    4181         4181    4181         4181   \n",
       "2021-02-28T00:00:00.0000000    3618         3618    3618         3618   \n",
       "2021-03-31T00:00:00.0000000      78           78      78           78   \n",
       "2022-12-31T00:00:00.0000000     100          100     100          100   \n",
       "\n",
       "                             short_mesure   dep   reg  libelle  region  \n",
       "period_date                                                             \n",
       "2020-11-30T00:00:00.0000000          2095  2095  2095     2095    2095  \n",
       "2020-12-31T00:00:00.0000000          3323  3323  3323     3323    3323  \n",
       "2021-01-31T00:00:00.0000000          4181  4181  4181     4181    4181  \n",
       "2021-02-28T00:00:00.0000000          3618  3618  3618     3618    3618  \n",
       "2021-03-31T00:00:00.0000000            78    78    78       78      78  \n",
       "2022-12-31T00:00:00.0000000           100   100   100      100     100  "
      ]
     },
     "execution_count": 4,
     "metadata": {},
     "output_type": "execute_result"
    }
   ],
   "source": [
    "pp_dep.groupby(\"period_date\").count()"
   ]
  },
  {
   "cell_type": "code",
   "execution_count": 17,
   "id": "herbal-photograph",
   "metadata": {},
   "outputs": [
    {
     "name": "stdout",
     "output_type": "stream",
     "text": [
      "(100, 59)\n"
     ]
    }
   ],
   "source": [
    "export = pp_dep[[\"mesure\", \"short_indic\",\"dep\", \"valeur\"]]\n",
    "export = pd.pivot_table(export, values=\"valeur\", index=[\"dep\"], columns=[\"mesure\", \"short_indic\"],aggfunc=np.sum)\n",
    "today = datetime.today().strftime('%Y-%m-%d')\n",
    "export.to_csv(\"export.csv\", sep=\";\")\n",
    "print(export.shape)"
   ]
  },
  {
   "cell_type": "code",
   "execution_count": null,
   "id": "thick-tutorial",
   "metadata": {},
   "outputs": [],
   "source": []
  }
 ],
 "metadata": {
  "kernelspec": {
   "display_name": "Python 3",
   "language": "python",
   "name": "python3"
  },
  "language_info": {
   "codemirror_mode": {
    "name": "ipython",
    "version": 3
   },
   "file_extension": ".py",
   "mimetype": "text/x-python",
   "name": "python",
   "nbconvert_exporter": "python",
   "pygments_lexer": "ipython3",
   "version": "3.9.1"
  }
 },
 "nbformat": 4,
 "nbformat_minor": 5
}
