{
 "cells": [
  {
   "cell_type": "code",
   "execution_count": null,
   "metadata": {},
   "outputs": [],
   "source": [
    "import pandas as pd\n",
    "import numpy as np\n",
    "import itertools\n",
    "from datetime import datetime"
   ]
  },
  {
   "cell_type": "code",
   "execution_count": null,
   "metadata": {},
   "outputs": [],
   "source": [
    "pp_dep = pd.read_csv(\"pp_dep.csv\", sep=\";\", dtype={\"reg\":str}, parse_dates=['period_date'])"
   ]
  },
  {
   "cell_type": "code",
   "execution_count": null,
   "metadata": {},
   "outputs": [],
   "source": [
    "pp_dep.period_date.unique()"
   ]
  },
  {
   "cell_type": "code",
   "execution_count": null,
   "metadata": {},
   "outputs": [],
   "source": [
    "pp_dep.indicateur.unique()"
   ]
  },
  {
   "cell_type": "code",
   "execution_count": null,
   "metadata": {},
   "outputs": [],
   "source": [
    "corres = {\n",
    "    \"Nombre de dossiers MaPrimeRénov acceptés\" : \n",
    "        [\"Nombre de dossiers MaPrimeRénov' payés - MPR\"],\n",
    "    \"Nombre de bâtiments de l’Etat retenus pour faire l’objet d’une rénovation énergétique\" : \n",
    "        ['Nombre de bâtiments Etat dont le marché de rénovation est notifié - RBE'],\n",
    "    \"Nombre de bonus écologiques et de primes à la conversion versés \" : \n",
    "        ['Nombre de primes à la conversion - DVP'],\n",
    "    \"Nombre de projets industriels soutenus\" : ['Nombre d’entreprises - FAA', \n",
    "                                                'Nombre d’entreprises bénéficiares - PIT', \n",
    "                                                'Nombre d’entreprises bénéficiaires - SAC'],\n",
    "    \"Nombre de chèques export et chèques VIE (volontariat international en entreprise\" : \n",
    "        ['Nombre d’entreprises bénéficiares - SBF'],\n",
    "    \"Nombre de cathédrales et de monuments nationaux retenus pour faire l’objet d’une rénovation\" : \n",
    "        ['Nombre de projets de rénovation de cathédrales et de monuments nationaux initiés - PAE'],\n",
    "    \"Nombre de monuments appartenant à des collectivités territoriales ou à des acteurs privés retenus pour faire l’objet d’une rénov\" : \n",
    "        ['Nombre de projets de rénovation de monuments historiques appartenant aux collectivités territoriales bénéficiaires initiés - PAT'],\n",
    "    \"Nombre de contrats d’apprentissage ayant bénéficié de l’aide exceptionnelle \" : \n",
    "        ['Nombre de contrats d’apprentissage bénéficiaires de l’aide exceptionnelle - APP'],\n",
    "    \"Nombre d’aides versées pour l’embauche des jeunes\" : \n",
    "        [\"Nombre d'aides à l'embauche des jeunes - PEJ\"],\n",
    "    \"Nombre de jeunes entrés en CIE (contrats initiative emploi) et PEC (parcours emploi compétences) \" : \n",
    "        ['Entrées de jeunes en CIE - CIE', 'Entrées de jeunes en PEC - PEC']\n",
    "}"
   ]
  },
  {
   "cell_type": "code",
   "execution_count": null,
   "metadata": {},
   "outputs": [],
   "source": [
    "pd.DataFrame.from_dict(corres, orient='index').to_csv(\"correspondances.csv\")"
   ]
  },
  {
   "cell_type": "code",
   "execution_count": null,
   "metadata": {},
   "outputs": [],
   "source": [
    "list_indicateurs = list(itertools.chain.from_iterable(corres.values()))\n",
    "len(list_indicateurs)"
   ]
  },
  {
   "cell_type": "code",
   "execution_count": null,
   "metadata": {},
   "outputs": [],
   "source": [
    "pp_dep_indics = pp_dep[pp_dep['indicateur'].isin(list_indicateurs)].reset_index(drop=True)\n",
    "pp_dep_indics.drop('Unnamed: 0', axis=1, inplace=True)\n",
    "pp_dep_indics.shape"
   ]
  },
  {
   "cell_type": "code",
   "execution_count": null,
   "metadata": {},
   "outputs": [],
   "source": [
    "pp_dep.loc[pp_dep.indicateur == \"Nombre de PME - FAA\"].valeur.unique()"
   ]
  },
  {
   "cell_type": "code",
   "execution_count": null,
   "metadata": {},
   "outputs": [],
   "source": [
    "def get_latest_date_for_indic_and_dep(indicateur, dep):\n",
    "    df = pp_dep_indics[(pp_dep_indics['indicateur'] == indicateur) & \n",
    "                          (pp_dep_indics['dep'] == dep)]\n",
    "    return df['period_date'].max()\n",
    "\n",
    "\n",
    "pp_dep_to_export = pp_dep_indics.loc[pp_dep_indics.apply(lambda x: get_latest_date_for_indic_and_dep(x['indicateur'], x['dep']) == x['period_date'], axis=1)]\n",
    "pp_dep_to_export.reset_index(drop=True, inplace=True)\n",
    "pp_dep_to_export.head()"
   ]
  },
  {
   "cell_type": "code",
   "execution_count": null,
   "metadata": {},
   "outputs": [],
   "source": [
    "export = pd.pivot_table(pp_dep_to_export, columns=['dep'], index=['mesure', 'indicateur'])\n",
    "export.columns = export.columns.get_level_values(1)\n",
    "export['National'] = export.sum(axis=1)\n",
    "export.reset_index(drop=False, inplace=True)\n",
    "export.set_index('indicateur', inplace=True,)"
   ]
  },
  {
   "cell_type": "code",
   "execution_count": null,
   "metadata": {},
   "outputs": [],
   "source": [
    "export"
   ]
  },
  {
   "cell_type": "code",
   "execution_count": null,
   "metadata": {},
   "outputs": [],
   "source": [
    "# old\n",
    "export"
   ]
  },
  {
   "cell_type": "code",
   "execution_count": null,
   "metadata": {},
   "outputs": [],
   "source": [
    "# Ajout du nom des départements\n",
    "deps = pp_dep_to_export.groupby(['dep', 'departement']).count().reset_index()[['dep', 'departement']]\n",
    "dep2names = {dep: dep_name for dep, dep_name in zip(deps['dep'], deps['departement'])}\n",
    "dep_names = pd.DataFrame(data=[[dep2names.get(dep, '-') for dep in export.columns]], columns=export.columns)\n",
    "to_export = pd.concat([dep_names, export]).T.reset_index(drop=False)\n",
    "to_export"
   ]
  },
  {
   "cell_type": "code",
   "execution_count": null,
   "metadata": {},
   "outputs": [],
   "source": [
    "to_export[to_export['Nombre d’entreprises - FAA'] != 0]"
   ]
  },
  {
   "cell_type": "code",
   "execution_count": null,
   "metadata": {},
   "outputs": [],
   "source": [
    "to_export.to_csv('export.csv', index=False, sep=\";\")"
   ]
  },
  {
   "cell_type": "code",
   "execution_count": null,
   "metadata": {},
   "outputs": [],
   "source": [
    "l1 = list(to_export.columns)\n",
    "[x for x in list_indicateurs if x not in l1]"
   ]
  },
  {
   "cell_type": "code",
   "execution_count": null,
   "metadata": {},
   "outputs": [],
   "source": []
  }
 ],
 "metadata": {
  "kernelspec": {
   "display_name": "Python 3",
   "language": "python",
   "name": "python3"
  },
  "language_info": {
   "codemirror_mode": {
    "name": "ipython",
    "version": 3
   },
   "file_extension": ".py",
   "mimetype": "text/x-python",
   "name": "python",
   "nbconvert_exporter": "python",
   "pygments_lexer": "ipython3",
   "version": "3.8.3"
  }
 },
 "nbformat": 4,
 "nbformat_minor": 5
}
