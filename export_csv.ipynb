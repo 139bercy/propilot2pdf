{
 "cells": [
  {
   "cell_type": "code",
   "execution_count": null,
   "metadata": {},
   "outputs": [],
   "source": [
    "import pandas as pd\n",
    "import numpy as np\n",
    "import itertools\n",
    "from datetime import datetime\n",
    "import os"
   ]
  },
  {
   "cell_type": "code",
   "execution_count": null,
   "metadata": {},
   "outputs": [],
   "source": [
    "def mkdir_ifnotexist(path) :\n",
    "    if not os.path.isdir(path) :\n",
    "        os.mkdir(path)"
   ]
  },
  {
   "cell_type": "code",
   "execution_count": null,
   "metadata": {},
   "outputs": [],
   "source": [
    "pp_dep = pd.read_csv(\"pp_dep.csv\", sep=\";\", dtype={\"reg\":str}, parse_dates=['period_date'])"
   ]
  },
  {
   "cell_type": "code",
   "execution_count": null,
   "metadata": {},
   "outputs": [],
   "source": [
    "pp_dep.period_date.unique()"
   ]
  },
  {
   "cell_type": "code",
   "execution_count": null,
   "metadata": {},
   "outputs": [],
   "source": [
    "pp_dep.indicateur.unique()"
   ]
  },
  {
   "cell_type": "code",
   "execution_count": null,
   "metadata": {},
   "outputs": [],
   "source": [
    "corres = {\n",
    "    \"Nombre de bâtiments de l’Etat retenus pour faire l’objet d’une rénovation énergétique\" : \n",
    "        ['Nombre de bâtiments Etat dont le marché de rénovation est notifié - RBE'],\n",
    "    \"Nombre de bonus écologiques et de primes à la conversion versés \" : \n",
    "        ['Nombre de primes à la conversion - DVP',\n",
    "        'Nombre de bonus octroyés à des véhicules électriques et hybrides rechargeables - BOE'],\n",
    "    \"Nombre de projets industriels soutenus\" : [ 'Nombre d’entreprises - BPI',\n",
    "                                                'Nombre d’entreprises bénéficiares - PIT', \n",
    "                                                'Nombre d’entreprises bénéficiaires - SAC'],\n",
    "    \"Nombre de chèques export et chèques VIE (volontariat international en entreprise\" : \n",
    "        ['Nombre d’entreprises bénéficiares - SBF'],\n",
    "    \"Nombre de contrats d’apprentissage ayant bénéficié de l’aide exceptionnelle \" : \n",
    "        ['Nombre de contrats d’apprentissage bénéficiaires de l’aide exceptionnelle - APP'],\n",
    "    \"Nombre d’aides versées pour l’embauche des jeunes\" : \n",
    "        [\"Nombre d'aides à l'embauche des jeunes - PEJ\"],\n",
    "    \"Nombre de jeunes entrés en CIE (contrats initiative emploi) et PEC (parcours emploi compétences) \" : \n",
    "        ['Entrées de jeunes en CIE - CIE', 'Entrées de jeunes en PEC - PEC']\n",
    "}"
   ]
  },
  {
   "cell_type": "code",
   "execution_count": null,
   "metadata": {},
   "outputs": [],
   "source": [
    "pd.DataFrame.from_dict(corres, orient='index').to_csv(\"correspondances.csv\")"
   ]
  },
  {
   "cell_type": "code",
   "execution_count": null,
   "metadata": {},
   "outputs": [],
   "source": [
    "list_indicateurs = list(itertools.chain.from_iterable(corres.values()))\n",
    "len(list_indicateurs)"
   ]
  },
  {
   "cell_type": "code",
   "execution_count": null,
   "metadata": {},
   "outputs": [],
   "source": [
    "pp_dep_indics = pp_dep[pp_dep['indicateur'].isin(list_indicateurs)].reset_index(drop=True)\n",
    "pp_dep_indics.drop('Unnamed: 0', axis=1, inplace=True)\n",
    "pp_dep_indics.shape"
   ]
  },
  {
   "cell_type": "code",
   "execution_count": null,
   "metadata": {},
   "outputs": [],
   "source": [
    "def get_latest_date_for_indic_and_dep(indicateur, dep):\n",
    "    df = pp_dep_indics[(pp_dep_indics['indicateur'] == indicateur) & \n",
    "                          (pp_dep_indics['dep'] == dep)]\n",
    "    return df['period_date'].max()\n",
    "\n",
    "\n",
    "pp_dep_to_export = pp_dep_indics.loc[pp_dep_indics.apply(lambda x: get_latest_date_for_indic_and_dep(x['indicateur'], x['dep']) == x['period_date'], axis=1)]\n",
    "pp_dep_to_export.reset_index(drop=True, inplace=True)\n",
    "pp_dep_to_export"
   ]
  },
  {
   "cell_type": "code",
   "execution_count": null,
   "metadata": {},
   "outputs": [],
   "source": [
    "export = pd.pivot_table(pp_dep_to_export, columns=['dep'], index=['mesure', 'indicateur'])\n",
    "export.columns = export.columns.get_level_values(1)\n",
    "export['National'] = export.sum(axis=1)\n",
    "export.reset_index(drop=False, inplace=True)\n",
    "export.set_index('indicateur', inplace=True)"
   ]
  },
  {
   "cell_type": "code",
   "execution_count": null,
   "metadata": {},
   "outputs": [],
   "source": [
    "export = pd.pivot_table(pp_dep_to_export, columns=['dep', 'reg', 'departement', 'region'],\n",
    "                        index=['mesure', 'indicateur'], values=\"valeur\")\n",
    "#export.columns = export.columns.get_level_values(1)\n",
    "#export['National'] = export.sum(axis=1)\n",
    "export.reset_index(inplace=True)\n",
    "export[\"index\"] = export[\"mesure\"] + \"/\" + export[\"indicateur\"]\n",
    "export.set_index('index', inplace=True)\n",
    "export.drop(columns=[\"mesure\", \"indicateur\"], inplace=True)\n",
    "export = export.T\n",
    "export.fillna(0, inplace=True)\n",
    "export = export.loc[~export.index.isin([\"00\"], level=1)]"
   ]
  },
  {
   "cell_type": "code",
   "execution_count": null,
   "metadata": {},
   "outputs": [],
   "source": [
    "export[\"Nombre de bonus écologiques et de primes à la conversion versés\"] = \\\n",
    "    export[\"Prime à la conversion des véhicules légers/Nombre de primes à la conversion - DVP\"] + \\\n",
    "    export[\"Bonus électrique/Nombre de bonus octroyés à des véhicules électriques et hybrides rechargeables - BOE\"]\n",
    "\n",
    "export[\"Nombre de projets industriels soutenus\"] = (\n",
    "    export[\"Modernisation de la filière (BPI)/Nombre d’entreprises - BPI\"] +\n",
    "    export[\"Relocalisation : soutien aux projets industriels dans les territoires/Nombre d’entreprises bénéficiares - PIT\"] +\n",
    "    export[\"Relocalisation : sécurisation des approvisionnements critiques/Nombre d’entreprises bénéficiaires - SAC\"])\n",
    "\n",
    "export[\"Nombre de jeunes entrés en CIE et PEC\"] = (\n",
    "    export[\"PEC jeunes/Entrées de jeunes en PEC - PEC\"] +\n",
    "    export[\"CIE jeunes/Entrées de jeunes en CIE - CIE\"]\n",
    "\n",
    ")\n",
    "export"
   ]
  },
  {
   "cell_type": "code",
   "execution_count": null,
   "metadata": {},
   "outputs": [],
   "source": [
    "mkdir_ifnotexist('exports')"
   ]
  },
  {
   "cell_type": "markdown",
   "metadata": {},
   "source": [
    "### Rénovation bâtiments états"
   ]
  },
  {
   "cell_type": "code",
   "execution_count": null,
   "metadata": {},
   "outputs": [],
   "source": [
    "tcsv = export[\"Rénovation bâtiments Etats/Nombre de bâtiments Etat dont le marché de rénovation est notifié - RBE\"]\n",
    "tcsv.to_csv(\"exports/2_renovation_batiment_etat.csv\", sep=\";\")"
   ]
  },
  {
   "cell_type": "markdown",
   "metadata": {},
   "source": [
    "### Bonus écologique"
   ]
  },
  {
   "cell_type": "code",
   "execution_count": null,
   "metadata": {},
   "outputs": [],
   "source": [
    "tcsv = export[\"Nombre de bonus écologiques et de primes à la conversion versés\"]\n",
    "tcsv.to_csv(\"exports/3_bonus_ecologique.csv\", sep=\";\")"
   ]
  },
  {
   "cell_type": "markdown",
   "metadata": {},
   "source": [
    "### Soutien industriel "
   ]
  },
  {
   "cell_type": "code",
   "execution_count": null,
   "metadata": {},
   "outputs": [],
   "source": [
    "tcsv = export[\"Nombre de projets industriels soutenus\"]\n",
    "tcsv.to_csv(\"exports/4_soutien_industriel.csv\", sep=\";\")"
   ]
  },
  {
   "cell_type": "markdown",
   "metadata": {},
   "source": [
    "### Soutien Business France"
   ]
  },
  {
   "cell_type": "code",
   "execution_count": null,
   "metadata": {},
   "outputs": [],
   "source": [
    "tcsv = export[\"Renforcement des subventions de Business France (chèque export, chèque VIE)/Nombre d’entreprises bénéficiares - SBF\"]\n",
    "tcsv.to_csv(\"exports/5_cheque_export_vie_sbf.csv\", sep=\";\")"
   ]
  },
  {
   "cell_type": "markdown",
   "metadata": {},
   "source": [
    "### Apprentissage"
   ]
  },
  {
   "cell_type": "code",
   "execution_count": null,
   "metadata": {},
   "outputs": [],
   "source": [
    "tcsv = export[\"Apprentissage/Nombre de contrats d’apprentissage bénéficiaires de l’aide exceptionnelle - APP\"]\n",
    "tcsv.to_csv(\"exports/6_apprentissage.csv\", sep=\";\")"
   ]
  },
  {
   "cell_type": "markdown",
   "metadata": {},
   "source": [
    "### Emploi Jeune"
   ]
  },
  {
   "cell_type": "code",
   "execution_count": null,
   "metadata": {},
   "outputs": [],
   "source": [
    "tcsv = export[\"Prime à l'embauche des jeunes/Nombre d'aides à l'embauche des jeunes - PEJ\"]\n",
    "tcsv.to_csv(\"exports/7_embauche_jeunes.csv\", sep=\";\")"
   ]
  },
  {
   "cell_type": "markdown",
   "metadata": {},
   "source": [
    "### CIE/PEC"
   ]
  },
  {
   "cell_type": "code",
   "execution_count": null,
   "metadata": {},
   "outputs": [],
   "source": [
    "tcsv = export[\"Nombre de jeunes entrés en CIE et PEC\"]\n",
    "tcsv.to_csv(\"exports/8_cie_pec.csv\", sep=\";\")"
   ]
  },
  {
   "cell_type": "code",
   "execution_count": null,
   "metadata": {},
   "outputs": [],
   "source": []
  }
 ],
 "metadata": {
  "kernelspec": {
   "display_name": "Python 3",
   "language": "python",
   "name": "python3"
  },
  "language_info": {
   "codemirror_mode": {
    "name": "ipython",
    "version": 3
   },
   "file_extension": ".py",
   "mimetype": "text/x-python",
   "name": "python",
   "nbconvert_exporter": "python",
   "pygments_lexer": "ipython3",
   "version": "3.8.3"
  }
 },
 "nbformat": 4,
 "nbformat_minor": 5
}
