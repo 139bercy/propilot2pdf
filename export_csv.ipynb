{
 "cells": [
  {
   "cell_type": "code",
   "execution_count": 1,
   "metadata": {},
   "outputs": [],
   "source": [
    "import pandas as pd\n",
    "import numpy as np\n",
    "import itertools\n",
    "from datetime import datetime\n",
    "import os"
   ]
  },
  {
   "cell_type": "code",
   "execution_count": 2,
   "metadata": {},
   "outputs": [],
   "source": [
    "def mkdir_ifnotexist(path) :\n",
    "    if not os.path.isdir(path) :\n",
    "        os.mkdir(path)"
   ]
  },
  {
   "cell_type": "code",
   "execution_count": 3,
   "metadata": {},
   "outputs": [],
   "source": [
    "pp_dep = pd.read_csv(\"pp_dep.csv\", sep=\";\", dtype={\"reg\":str}, parse_dates=['period_date'])"
   ]
  },
  {
   "cell_type": "code",
   "execution_count": 4,
   "metadata": {},
   "outputs": [
    {
     "data": {
      "text/plain": "array(['2020-12-31T00:00:00.000000000', '2021-05-31T00:00:00.000000000',\n       '2021-01-31T00:00:00.000000000', '2021-02-28T00:00:00.000000000',\n       '2021-03-31T00:00:00.000000000', '2021-04-30T00:00:00.000000000',\n       '2020-11-30T00:00:00.000000000', '2020-09-30T00:00:00.000000000',\n       '2020-07-31T00:00:00.000000000', '2020-08-31T00:00:00.000000000',\n       '2020-10-31T00:00:00.000000000', '2021-06-30T00:00:00.000000000'],\n      dtype='datetime64[ns]')"
     },
     "execution_count": 4,
     "metadata": {},
     "output_type": "execute_result"
    }
   ],
   "source": [
    "pp_dep.period_date.unique()"
   ]
  },
  {
   "cell_type": "code",
   "execution_count": 7,
   "metadata": {},
   "outputs": [],
   "source": [
    "corres = {\n",
    "    \"Nombre de bâtiments Etat dont le marché de rénovation est notifié - RBE\" : \n",
    "        ['Nombre de bâtiments Etat dont le marché de rénovation est notifié - RBE'],\n",
    "    \"Nombre de bonus écologiques et de primes à la conversion versés \" : \n",
    "        ['Nombre de primes à la conversion - DVP',\n",
    "        'Nombre de bonus octroyés à des véhicules électriques et hybrides rechargeables - BOE'],\n",
    "    \"Nombre de projets industriels soutenus\" : [ 'Nombre d’entreprises - BPI',\n",
    "                                                'Nombre d’entreprises bénéficiaires - PIT', \n",
    "                                                'Nombre d’entreprises bénéficiaires - SAC'],\n",
    "    \"Nombre de chèques export et chèques VIE (volontariat international en entreprise\" : \n",
    "        ['Nombre d’entreprises bénéficiares - SBF'],\n",
    "    \"Nombre de contrats d’apprentissage ayant bénéficié de l’aide exceptionnelle \" : \n",
    "        ['Nombre de contrats d’apprentissage bénéficiaires de l’aide exceptionnelle - APP'],\n",
    "    \"Nombre d’aides versées pour l’embauche des jeunes\" : \n",
    "        [\"Nombre d'aides à l'embauche des jeunes - PEJ\"],\n",
    "    \"Nombre de jeunes entrés en CIE (contrats initiative emploi) et PEC (parcours emploi compétences) \" : \n",
    "        ['Entrées de jeunes en CIE - CIE', 'Entrées de jeunes en PEC - PEC'], \n",
    "    \"Renforcement des subventions de Business France (chèque export, chèque VIE)\" : \n",
    "        ['Nombre d’entreprises bénéficiaires - SBF']\n",
    "}"
   ]
  },
  {
   "cell_type": "code",
   "execution_count": 8,
   "metadata": {},
   "outputs": [],
   "source": [
    "pd.DataFrame.from_dict(corres, orient='index').to_csv(\"correspondances.csv\")"
   ]
  },
  {
   "cell_type": "code",
   "execution_count": 9,
   "metadata": {},
   "outputs": [
    {
     "data": {
      "text/plain": "12"
     },
     "execution_count": 9,
     "metadata": {},
     "output_type": "execute_result"
    }
   ],
   "source": [
    "# On récupère la liste des indicateurs à afficher\n",
    "list_indicateurs = list(itertools.chain.from_iterable(corres.values()))\n",
    "len(list_indicateurs)"
   ]
  },
  {
   "cell_type": "code",
   "execution_count": 10,
   "metadata": {},
   "outputs": [
    {
     "data": {
      "text/plain": "(8514, 14)"
     },
     "execution_count": 10,
     "metadata": {},
     "output_type": "execute_result"
    }
   ],
   "source": [
    "pp_dep_indics = pp_dep[pp_dep['indicateur'].isin(list_indicateurs)].reset_index(drop=True)\n",
    "pp_dep_indics.drop('Unnamed: 0', axis=1, inplace=True)\n",
    "pp_dep_indics.shape"
   ]
  },
  {
   "cell_type": "code",
   "execution_count": 11,
   "metadata": {},
   "outputs": [
    {
     "data": {
      "text/html": "<div>\n<style scoped>\n    .dataframe tbody tr th:only-of-type {\n        vertical-align: middle;\n    }\n\n    .dataframe tbody tr th {\n        vertical-align: top;\n    }\n\n    .dataframe thead th {\n        text-align: right;\n    }\n</style>\n<table border=\"1\" class=\"dataframe\">\n  <thead>\n    <tr style=\"text-align: right;\">\n      <th></th>\n      <th>indicateur</th>\n      <th>state_id</th>\n      <th>period_date</th>\n      <th>period_month_tri</th>\n      <th>Date</th>\n      <th>valeur</th>\n      <th>departement</th>\n      <th>mesure</th>\n      <th>short_indic</th>\n      <th>short_mesure</th>\n      <th>dep</th>\n      <th>reg</th>\n      <th>libelle</th>\n      <th>region</th>\n    </tr>\n  </thead>\n  <tbody>\n    <tr>\n      <th>0</th>\n      <td>Nombre de bonus octroyés à des véhicules élect...</td>\n      <td>Valeur Actuelle</td>\n      <td>2021-05-31</td>\n      <td>May</td>\n      <td>Mai       2021</td>\n      <td>3224.0</td>\n      <td>Seine-et-Marne</td>\n      <td>Bonus écologique</td>\n      <td>Nombre de bonus octroyés à des véhicules élect...</td>\n      <td>Bonus écologique</td>\n      <td>77</td>\n      <td>11</td>\n      <td>Seine-et-Marne</td>\n      <td>Île-de-France</td>\n    </tr>\n    <tr>\n      <th>1</th>\n      <td>Nombre de bonus octroyés à des véhicules élect...</td>\n      <td>Valeur Actuelle</td>\n      <td>2021-05-31</td>\n      <td>May</td>\n      <td>Mai       2021</td>\n      <td>1262.0</td>\n      <td>Savoie</td>\n      <td>Bonus écologique</td>\n      <td>Nombre de bonus octroyés à des véhicules élect...</td>\n      <td>Bonus écologique</td>\n      <td>73</td>\n      <td>84</td>\n      <td>Savoie</td>\n      <td>Auvergne-Rhône-Alpes</td>\n    </tr>\n    <tr>\n      <th>2</th>\n      <td>Nombre de bonus octroyés à des véhicules élect...</td>\n      <td>Valeur Actuelle</td>\n      <td>2021-05-31</td>\n      <td>May</td>\n      <td>Mai       2021</td>\n      <td>1454.0</td>\n      <td>Drôme</td>\n      <td>Bonus écologique</td>\n      <td>Nombre de bonus octroyés à des véhicules élect...</td>\n      <td>Bonus écologique</td>\n      <td>26</td>\n      <td>84</td>\n      <td>Drôme</td>\n      <td>Auvergne-Rhône-Alpes</td>\n    </tr>\n    <tr>\n      <th>3</th>\n      <td>Nombre de bonus octroyés à des véhicules élect...</td>\n      <td>Valeur Actuelle</td>\n      <td>2021-05-31</td>\n      <td>May</td>\n      <td>Mai       2021</td>\n      <td>7742.0</td>\n      <td>Paris</td>\n      <td>Bonus écologique</td>\n      <td>Nombre de bonus octroyés à des véhicules élect...</td>\n      <td>Bonus écologique</td>\n      <td>75</td>\n      <td>11</td>\n      <td>Paris</td>\n      <td>Île-de-France</td>\n    </tr>\n    <tr>\n      <th>4</th>\n      <td>Nombre de bonus octroyés à des véhicules élect...</td>\n      <td>Valeur Actuelle</td>\n      <td>2021-05-31</td>\n      <td>May</td>\n      <td>Mai       2021</td>\n      <td>243.0</td>\n      <td>Haute-Marne</td>\n      <td>Bonus écologique</td>\n      <td>Nombre de bonus octroyés à des véhicules élect...</td>\n      <td>Bonus écologique</td>\n      <td>52</td>\n      <td>44</td>\n      <td>Haute-Marne</td>\n      <td>Grand Est</td>\n    </tr>\n    <tr>\n      <th>...</th>\n      <td>...</td>\n      <td>...</td>\n      <td>...</td>\n      <td>...</td>\n      <td>...</td>\n      <td>...</td>\n      <td>...</td>\n      <td>...</td>\n      <td>...</td>\n      <td>...</td>\n      <td>...</td>\n      <td>...</td>\n      <td>...</td>\n      <td>...</td>\n    </tr>\n    <tr>\n      <th>1196</th>\n      <td>Nombre d'aides à l'embauche des jeunes - PEJ</td>\n      <td>Valeur Actuelle</td>\n      <td>2021-05-31</td>\n      <td>May</td>\n      <td>Mai       2021</td>\n      <td>10704.0</td>\n      <td>Haute-Garonne</td>\n      <td>Prime à l'embauche des jeunes</td>\n      <td>Nombre d'aides à l'embauche des jeunes</td>\n      <td>Prime à l'embauche des jeunes</td>\n      <td>31</td>\n      <td>76</td>\n      <td>Haute-Garonne</td>\n      <td>Occitanie</td>\n    </tr>\n    <tr>\n      <th>1197</th>\n      <td>Nombre d'aides à l'embauche des jeunes - PEJ</td>\n      <td>Valeur Actuelle</td>\n      <td>2021-05-31</td>\n      <td>May</td>\n      <td>Mai       2021</td>\n      <td>2381.0</td>\n      <td>Vienne</td>\n      <td>Prime à l'embauche des jeunes</td>\n      <td>Nombre d'aides à l'embauche des jeunes</td>\n      <td>Prime à l'embauche des jeunes</td>\n      <td>86</td>\n      <td>75</td>\n      <td>Vienne</td>\n      <td>Nouvelle-Aquitaine</td>\n    </tr>\n    <tr>\n      <th>1198</th>\n      <td>Nombre d'aides à l'embauche des jeunes - PEJ</td>\n      <td>Valeur Actuelle</td>\n      <td>2021-05-31</td>\n      <td>May</td>\n      <td>Mai       2021</td>\n      <td>6024.0</td>\n      <td>Seine-Maritime</td>\n      <td>Prime à l'embauche des jeunes</td>\n      <td>Nombre d'aides à l'embauche des jeunes</td>\n      <td>Prime à l'embauche des jeunes</td>\n      <td>76</td>\n      <td>28</td>\n      <td>Seine-Maritime</td>\n      <td>Normandie</td>\n    </tr>\n    <tr>\n      <th>1199</th>\n      <td>Nombre d'aides à l'embauche des jeunes - PEJ</td>\n      <td>Valeur Actuelle</td>\n      <td>2021-05-31</td>\n      <td>May</td>\n      <td>Mai       2021</td>\n      <td>1490.0</td>\n      <td>Aveyron</td>\n      <td>Prime à l'embauche des jeunes</td>\n      <td>Nombre d'aides à l'embauche des jeunes</td>\n      <td>Prime à l'embauche des jeunes</td>\n      <td>12</td>\n      <td>76</td>\n      <td>Aveyron</td>\n      <td>Occitanie</td>\n    </tr>\n    <tr>\n      <th>1200</th>\n      <td>Nombre d'aides à l'embauche des jeunes - PEJ</td>\n      <td>Valeur Actuelle</td>\n      <td>2021-05-31</td>\n      <td>May</td>\n      <td>Mai       2021</td>\n      <td>4718.0</td>\n      <td>Loire</td>\n      <td>Prime à l'embauche des jeunes</td>\n      <td>Nombre d'aides à l'embauche des jeunes</td>\n      <td>Prime à l'embauche des jeunes</td>\n      <td>42</td>\n      <td>84</td>\n      <td>Loire</td>\n      <td>Auvergne-Rhône-Alpes</td>\n    </tr>\n  </tbody>\n</table>\n<p>1201 rows × 14 columns</p>\n</div>",
      "text/plain": "                                             indicateur         state_id  \\\n0     Nombre de bonus octroyés à des véhicules élect...  Valeur Actuelle   \n1     Nombre de bonus octroyés à des véhicules élect...  Valeur Actuelle   \n2     Nombre de bonus octroyés à des véhicules élect...  Valeur Actuelle   \n3     Nombre de bonus octroyés à des véhicules élect...  Valeur Actuelle   \n4     Nombre de bonus octroyés à des véhicules élect...  Valeur Actuelle   \n...                                                 ...              ...   \n1196       Nombre d'aides à l'embauche des jeunes - PEJ  Valeur Actuelle   \n1197       Nombre d'aides à l'embauche des jeunes - PEJ  Valeur Actuelle   \n1198       Nombre d'aides à l'embauche des jeunes - PEJ  Valeur Actuelle   \n1199       Nombre d'aides à l'embauche des jeunes - PEJ  Valeur Actuelle   \n1200       Nombre d'aides à l'embauche des jeunes - PEJ  Valeur Actuelle   \n\n     period_date period_month_tri            Date   valeur     departement  \\\n0     2021-05-31              May  Mai       2021   3224.0  Seine-et-Marne   \n1     2021-05-31              May  Mai       2021   1262.0          Savoie   \n2     2021-05-31              May  Mai       2021   1454.0           Drôme   \n3     2021-05-31              May  Mai       2021   7742.0           Paris   \n4     2021-05-31              May  Mai       2021    243.0     Haute-Marne   \n...          ...              ...             ...      ...             ...   \n1196  2021-05-31              May  Mai       2021  10704.0   Haute-Garonne   \n1197  2021-05-31              May  Mai       2021   2381.0          Vienne   \n1198  2021-05-31              May  Mai       2021   6024.0  Seine-Maritime   \n1199  2021-05-31              May  Mai       2021   1490.0         Aveyron   \n1200  2021-05-31              May  Mai       2021   4718.0           Loire   \n\n                             mesure  \\\n0                  Bonus écologique   \n1                  Bonus écologique   \n2                  Bonus écologique   \n3                  Bonus écologique   \n4                  Bonus écologique   \n...                             ...   \n1196  Prime à l'embauche des jeunes   \n1197  Prime à l'embauche des jeunes   \n1198  Prime à l'embauche des jeunes   \n1199  Prime à l'embauche des jeunes   \n1200  Prime à l'embauche des jeunes   \n\n                                            short_indic  \\\n0     Nombre de bonus octroyés à des véhicules élect...   \n1     Nombre de bonus octroyés à des véhicules élect...   \n2     Nombre de bonus octroyés à des véhicules élect...   \n3     Nombre de bonus octroyés à des véhicules élect...   \n4     Nombre de bonus octroyés à des véhicules élect...   \n...                                                 ...   \n1196             Nombre d'aides à l'embauche des jeunes   \n1197             Nombre d'aides à l'embauche des jeunes   \n1198             Nombre d'aides à l'embauche des jeunes   \n1199             Nombre d'aides à l'embauche des jeunes   \n1200             Nombre d'aides à l'embauche des jeunes   \n\n                       short_mesure dep reg         libelle  \\\n0                  Bonus écologique  77  11  Seine-et-Marne   \n1                  Bonus écologique  73  84          Savoie   \n2                  Bonus écologique  26  84           Drôme   \n3                  Bonus écologique  75  11           Paris   \n4                  Bonus écologique  52  44     Haute-Marne   \n...                             ...  ..  ..             ...   \n1196  Prime à l'embauche des jeunes  31  76   Haute-Garonne   \n1197  Prime à l'embauche des jeunes  86  75          Vienne   \n1198  Prime à l'embauche des jeunes  76  28  Seine-Maritime   \n1199  Prime à l'embauche des jeunes  12  76         Aveyron   \n1200  Prime à l'embauche des jeunes  42  84           Loire   \n\n                    region  \n0            Île-de-France  \n1     Auvergne-Rhône-Alpes  \n2     Auvergne-Rhône-Alpes  \n3            Île-de-France  \n4                Grand Est  \n...                    ...  \n1196             Occitanie  \n1197    Nouvelle-Aquitaine  \n1198             Normandie  \n1199             Occitanie  \n1200  Auvergne-Rhône-Alpes  \n\n[1201 rows x 14 columns]"
     },
     "execution_count": 11,
     "metadata": {},
     "output_type": "execute_result"
    }
   ],
   "source": [
    "# Ne garder que la date la plus récente pour chaque indicateur\n",
    "def get_latest_date_for_indic_and_dep(indicateur, dep):\n",
    "    df = pp_dep_indics[(pp_dep_indics['indicateur'] == indicateur) & \n",
    "                          (pp_dep_indics['dep'] == dep)]\n",
    "    return df['period_date'].max()\n",
    "\n",
    "\n",
    "pp_dep_to_export = pp_dep_indics.loc[pp_dep_indics.apply(lambda x: get_latest_date_for_indic_and_dep(x['indicateur'], x['dep']) == x['period_date'], axis=1)]\n",
    "pp_dep_to_export.reset_index(drop=True, inplace=True)\n",
    "pp_dep_to_export"
   ]
  },
  {
   "cell_type": "code",
   "execution_count": 12,
   "metadata": {},
   "outputs": [],
   "source": [
    "#export = pd.pivot_table(pp_dep_to_export, columns=['dep'], index=['mesure', 'indicateur'])\n",
    "#export.columns = export.columns.get_level_values(1)\n",
    "#export['National'] = export.sum(axis=1)\n",
    "#export.reset_index(drop=False, inplace=True)\n",
    "#export.set_index('indicateur', inplace=True)"
   ]
  },
  {
   "cell_type": "code",
   "execution_count": 13,
   "metadata": {},
   "outputs": [
    {
     "name": "stderr",
     "output_type": "stream",
     "text": [
      "/home/mquentin-adc/.local/lib/python3.6/site-packages/pandas/core/generic.py:3889: PerformanceWarning: dropping on a non-lexsorted multi-index without a level parameter may impact performance.\n",
      "  obj = obj._drop_axis(labels, axis, level=level, errors=errors)\n"
     ]
    }
   ],
   "source": [
    "export = pd.pivot_table(pp_dep_to_export, columns=['dep', 'reg', 'departement', 'region'],\n",
    "                        index=['mesure', 'indicateur'], values=\"valeur\")\n",
    "#export.columns = export.columns.get_level_values(1)\n",
    "#export['National'] = export.sum(axis=1)\n",
    "export.reset_index(inplace=True)\n",
    "export[\"index\"] = export[\"mesure\"] + \"/\" + export[\"indicateur\"]\n",
    "export.set_index('index', inplace=True)\n",
    "export.drop(columns=[\"mesure\", \"indicateur\"], inplace=True)\n",
    "export = export.T\n",
    "#export.fillna(0, inplace=True)\n",
    "export = export.loc[~export.index.isin([\"00\"], level=1)]"
   ]
  },
  {
   "cell_type": "code",
   "execution_count": 18,
   "metadata": {},
   "outputs": [
    {
     "data": {
      "text/html": "<div>\n<style scoped>\n    .dataframe tbody tr th:only-of-type {\n        vertical-align: middle;\n    }\n\n    .dataframe tbody tr th {\n        vertical-align: top;\n    }\n\n    .dataframe thead th {\n        text-align: right;\n    }\n</style>\n<table border=\"1\" class=\"dataframe\">\n  <thead>\n    <tr style=\"text-align: right;\">\n      <th></th>\n      <th></th>\n      <th></th>\n      <th>index</th>\n      <th>Apprentissage/Nombre de contrats d’apprentissage bénéficiaires de l’aide exceptionnelle - APP</th>\n      <th>Bonus écologique/Nombre de bonus octroyés à des véhicules électriques et hybrides rechargeables - BOE</th>\n      <th>CIE jeunes/Entrées de jeunes en CIE - CIE</th>\n      <th>Modernisation des filières automobiles et aéronautiques/Nombre d’entreprises - BPI</th>\n      <th>PEC jeunes/Entrées de jeunes en PEC - PEC</th>\n      <th>Prime à l'embauche des jeunes/Nombre d'aides à l'embauche des jeunes - PEJ</th>\n      <th>Prime à la conversion des véhicules légers/Nombre de primes à la conversion - DVP</th>\n      <th>Relocalisation : soutien aux projets industriels dans les territoires/Nombre d’entreprises bénéficiaires - PIT</th>\n      <th>Relocalisation : sécurisation des approvisionnements critiques/Nombre d’entreprises bénéficiaires - SAC</th>\n      <th>Renforcement des subventions de Business France (chèque export, chèque VIE)/Nombre d’entreprises bénéficiaires - SBF</th>\n      <th>Rénovation bâtiments Etat/Nombre de bâtiments Etat dont le marché de rénovation est notifié - RBE</th>\n      <th>Nombre de bonus écologiques et de primes à la conversion versés</th>\n      <th>Nombre de projets industriels soutenus</th>\n      <th>Nombre de jeunes entrés en CIE et PEC</th>\n    </tr>\n    <tr>\n      <th>dep</th>\n      <th>reg</th>\n      <th>departement</th>\n      <th>region</th>\n      <th></th>\n      <th></th>\n      <th></th>\n      <th></th>\n      <th></th>\n      <th></th>\n      <th></th>\n      <th></th>\n      <th></th>\n      <th></th>\n      <th></th>\n      <th></th>\n      <th></th>\n      <th></th>\n    </tr>\n  </thead>\n  <tbody>\n    <tr>\n      <th>01</th>\n      <th>84</th>\n      <th>Ain</th>\n      <th>Auvergne-Rhône-Alpes</th>\n      <td>3886.0</td>\n      <td>1928.0</td>\n      <td>111.0</td>\n      <td>10.0</td>\n      <td>91.0</td>\n      <td>3434.0</td>\n      <td>1813.0</td>\n      <td>7.0</td>\n      <td>7.0</td>\n      <td>30.0</td>\n      <td>7.0</td>\n      <td>3741.0</td>\n      <td>24.0</td>\n      <td>202.0</td>\n    </tr>\n    <tr>\n      <th>02</th>\n      <th>32</th>\n      <th>Aisne</th>\n      <th>Hauts-de-France</th>\n      <td>2433.0</td>\n      <td>1253.0</td>\n      <td>216.0</td>\n      <td>6.0</td>\n      <td>206.0</td>\n      <td>1668.0</td>\n      <td>1490.0</td>\n      <td>5.0</td>\n      <td>3.0</td>\n      <td>17.0</td>\n      <td>13.0</td>\n      <td>2743.0</td>\n      <td>14.0</td>\n      <td>422.0</td>\n    </tr>\n    <tr>\n      <th>03</th>\n      <th>84</th>\n      <th>Allier</th>\n      <th>Auvergne-Rhône-Alpes</th>\n      <td>1794.0</td>\n      <td>592.0</td>\n      <td>98.0</td>\n      <td>4.0</td>\n      <td>91.0</td>\n      <td>1561.0</td>\n      <td>1106.0</td>\n      <td>2.0</td>\n      <td>1.0</td>\n      <td>18.0</td>\n      <td>6.0</td>\n      <td>1698.0</td>\n      <td>7.0</td>\n      <td>189.0</td>\n    </tr>\n    <tr>\n      <th>04</th>\n      <th>93</th>\n      <th>Alpes-de-Haute-Provence</th>\n      <th>Provence-Alpes-Côte d'Azur</th>\n      <td>1028.0</td>\n      <td>456.0</td>\n      <td>31.0</td>\n      <td>0.0</td>\n      <td>46.0</td>\n      <td>583.0</td>\n      <td>678.0</td>\n      <td>7.0</td>\n      <td>0.0</td>\n      <td>13.0</td>\n      <td>4.0</td>\n      <td>1134.0</td>\n      <td>7.0</td>\n      <td>77.0</td>\n    </tr>\n    <tr>\n      <th>05</th>\n      <th>93</th>\n      <th>Hautes-Alpes</th>\n      <th>Provence-Alpes-Côte d'Azur</th>\n      <td>781.0</td>\n      <td>371.0</td>\n      <td>27.0</td>\n      <td>2.0</td>\n      <td>31.0</td>\n      <td>564.0</td>\n      <td>547.0</td>\n      <td>3.0</td>\n      <td>3.0</td>\n      <td>3.0</td>\n      <td>11.0</td>\n      <td>918.0</td>\n      <td>8.0</td>\n      <td>58.0</td>\n    </tr>\n    <tr>\n      <th>...</th>\n      <th>...</th>\n      <th>...</th>\n      <th>...</th>\n      <td>...</td>\n      <td>...</td>\n      <td>...</td>\n      <td>...</td>\n      <td>...</td>\n      <td>...</td>\n      <td>...</td>\n      <td>...</td>\n      <td>...</td>\n      <td>...</td>\n      <td>...</td>\n      <td>...</td>\n      <td>...</td>\n      <td>...</td>\n    </tr>\n    <tr>\n      <th>984</th>\n      <th>984</th>\n      <th>Terres australes et antarctiques françaises</th>\n      <th>Terres australes et antarctiques françaises</th>\n      <td>0.0</td>\n      <td>0.0</td>\n      <td>0.0</td>\n      <td>0.0</td>\n      <td>0.0</td>\n      <td>0.0</td>\n      <td>0.0</td>\n      <td>0.0</td>\n      <td>0.0</td>\n      <td>0.0</td>\n      <td>0.0</td>\n      <td>0.0</td>\n      <td>0.0</td>\n      <td>0.0</td>\n    </tr>\n    <tr>\n      <th>986</th>\n      <th>COM</th>\n      <th>Wallis-et-Futuna</th>\n      <th>Collectivités d’outre-mer</th>\n      <td>0.0</td>\n      <td>0.0</td>\n      <td>0.0</td>\n      <td>0.0</td>\n      <td>0.0</td>\n      <td>0.0</td>\n      <td>0.0</td>\n      <td>0.0</td>\n      <td>0.0</td>\n      <td>0.0</td>\n      <td>0.0</td>\n      <td>0.0</td>\n      <td>0.0</td>\n      <td>0.0</td>\n    </tr>\n    <tr>\n      <th>987</th>\n      <th>COM</th>\n      <th>Polynésie française</th>\n      <th>Collectivités d’outre-mer</th>\n      <td>0.0</td>\n      <td>0.0</td>\n      <td>0.0</td>\n      <td>0.0</td>\n      <td>0.0</td>\n      <td>0.0</td>\n      <td>0.0</td>\n      <td>1.0</td>\n      <td>0.0</td>\n      <td>0.0</td>\n      <td>6.0</td>\n      <td>0.0</td>\n      <td>1.0</td>\n      <td>0.0</td>\n    </tr>\n    <tr>\n      <th>988</th>\n      <th>988</th>\n      <th>Nouvelle-Calédonie</th>\n      <th>Nouvelle-Calédonie</th>\n      <td>0.0</td>\n      <td>0.0</td>\n      <td>0.0</td>\n      <td>0.0</td>\n      <td>0.0</td>\n      <td>0.0</td>\n      <td>0.0</td>\n      <td>0.0</td>\n      <td>0.0</td>\n      <td>1.0</td>\n      <td>20.0</td>\n      <td>0.0</td>\n      <td>0.0</td>\n      <td>0.0</td>\n    </tr>\n    <tr>\n      <th>989</th>\n      <th>989</th>\n      <th>Île de Clipperton</th>\n      <th>Île de Clipperton</th>\n      <td>0.0</td>\n      <td>0.0</td>\n      <td>0.0</td>\n      <td>0.0</td>\n      <td>0.0</td>\n      <td>0.0</td>\n      <td>0.0</td>\n      <td>0.0</td>\n      <td>0.0</td>\n      <td>0.0</td>\n      <td>0.0</td>\n      <td>0.0</td>\n      <td>0.0</td>\n      <td>0.0</td>\n    </tr>\n  </tbody>\n</table>\n<p>109 rows × 14 columns</p>\n</div>",
      "text/plain": "index                                                                                            Apprentissage/Nombre de contrats d’apprentissage bénéficiaires de l’aide exceptionnelle - APP  \\\ndep reg departement                                 region                                                                                                                                       \n01  84  Ain                                         Auvergne-Rhône-Alpes                                                                    3886.0                                               \n02  32  Aisne                                       Hauts-de-France                                                                         2433.0                                               \n03  84  Allier                                      Auvergne-Rhône-Alpes                                                                    1794.0                                               \n04  93  Alpes-de-Haute-Provence                     Provence-Alpes-Côte d'Azur                                                              1028.0                                               \n05  93  Hautes-Alpes                                Provence-Alpes-Côte d'Azur                                                               781.0                                               \n...                                                                                                                                            ...                                               \n984 984 Terres australes et antarctiques françaises Terres australes et antarctiques françaises                                                0.0                                               \n986 COM Wallis-et-Futuna                            Collectivités d’outre-mer                                                                  0.0                                               \n987 COM Polynésie française                         Collectivités d’outre-mer                                                                  0.0                                               \n988 988 Nouvelle-Calédonie                          Nouvelle-Calédonie                                                                         0.0                                               \n989 989 Île de Clipperton                           Île de Clipperton                                                                          0.0                                               \n\nindex                                                                                            Bonus écologique/Nombre de bonus octroyés à des véhicules électriques et hybrides rechargeables - BOE  \\\ndep reg departement                                 region                                                                                                                                               \n01  84  Ain                                         Auvergne-Rhône-Alpes                                                                    1928.0                                                       \n02  32  Aisne                                       Hauts-de-France                                                                         1253.0                                                       \n03  84  Allier                                      Auvergne-Rhône-Alpes                                                                     592.0                                                       \n04  93  Alpes-de-Haute-Provence                     Provence-Alpes-Côte d'Azur                                                               456.0                                                       \n05  93  Hautes-Alpes                                Provence-Alpes-Côte d'Azur                                                               371.0                                                       \n...                                                                                                                                            ...                                                       \n984 984 Terres australes et antarctiques françaises Terres australes et antarctiques françaises                                                0.0                                                       \n986 COM Wallis-et-Futuna                            Collectivités d’outre-mer                                                                  0.0                                                       \n987 COM Polynésie française                         Collectivités d’outre-mer                                                                  0.0                                                       \n988 988 Nouvelle-Calédonie                          Nouvelle-Calédonie                                                                         0.0                                                       \n989 989 Île de Clipperton                           Île de Clipperton                                                                          0.0                                                       \n\nindex                                                                                            CIE jeunes/Entrées de jeunes en CIE - CIE  \\\ndep reg departement                                 region                                                                                   \n01  84  Ain                                         Auvergne-Rhône-Alpes                                                             111.0   \n02  32  Aisne                                       Hauts-de-France                                                                  216.0   \n03  84  Allier                                      Auvergne-Rhône-Alpes                                                              98.0   \n04  93  Alpes-de-Haute-Provence                     Provence-Alpes-Côte d'Azur                                                        31.0   \n05  93  Hautes-Alpes                                Provence-Alpes-Côte d'Azur                                                        27.0   \n...                                                                                                                                    ...   \n984 984 Terres australes et antarctiques françaises Terres australes et antarctiques françaises                                        0.0   \n986 COM Wallis-et-Futuna                            Collectivités d’outre-mer                                                          0.0   \n987 COM Polynésie française                         Collectivités d’outre-mer                                                          0.0   \n988 988 Nouvelle-Calédonie                          Nouvelle-Calédonie                                                                 0.0   \n989 989 Île de Clipperton                           Île de Clipperton                                                                  0.0   \n\nindex                                                                                            Modernisation des filières automobiles et aéronautiques/Nombre d’entreprises - BPI  \\\ndep reg departement                                 region                                                                                                                            \n01  84  Ain                                         Auvergne-Rhône-Alpes                                                                      10.0                                    \n02  32  Aisne                                       Hauts-de-France                                                                            6.0                                    \n03  84  Allier                                      Auvergne-Rhône-Alpes                                                                       4.0                                    \n04  93  Alpes-de-Haute-Provence                     Provence-Alpes-Côte d'Azur                                                                 0.0                                    \n05  93  Hautes-Alpes                                Provence-Alpes-Côte d'Azur                                                                 2.0                                    \n...                                                                                                                                            ...                                    \n984 984 Terres australes et antarctiques françaises Terres australes et antarctiques françaises                                                0.0                                    \n986 COM Wallis-et-Futuna                            Collectivités d’outre-mer                                                                  0.0                                    \n987 COM Polynésie française                         Collectivités d’outre-mer                                                                  0.0                                    \n988 988 Nouvelle-Calédonie                          Nouvelle-Calédonie                                                                         0.0                                    \n989 989 Île de Clipperton                           Île de Clipperton                                                                          0.0                                    \n\nindex                                                                                            PEC jeunes/Entrées de jeunes en PEC - PEC  \\\ndep reg departement                                 region                                                                                   \n01  84  Ain                                         Auvergne-Rhône-Alpes                                                              91.0   \n02  32  Aisne                                       Hauts-de-France                                                                  206.0   \n03  84  Allier                                      Auvergne-Rhône-Alpes                                                              91.0   \n04  93  Alpes-de-Haute-Provence                     Provence-Alpes-Côte d'Azur                                                        46.0   \n05  93  Hautes-Alpes                                Provence-Alpes-Côte d'Azur                                                        31.0   \n...                                                                                                                                    ...   \n984 984 Terres australes et antarctiques françaises Terres australes et antarctiques françaises                                        0.0   \n986 COM Wallis-et-Futuna                            Collectivités d’outre-mer                                                          0.0   \n987 COM Polynésie française                         Collectivités d’outre-mer                                                          0.0   \n988 988 Nouvelle-Calédonie                          Nouvelle-Calédonie                                                                 0.0   \n989 989 Île de Clipperton                           Île de Clipperton                                                                  0.0   \n\nindex                                                                                            Prime à l'embauche des jeunes/Nombre d'aides à l'embauche des jeunes - PEJ  \\\ndep reg departement                                 region                                                                                                                    \n01  84  Ain                                         Auvergne-Rhône-Alpes                                                                    3434.0                            \n02  32  Aisne                                       Hauts-de-France                                                                         1668.0                            \n03  84  Allier                                      Auvergne-Rhône-Alpes                                                                    1561.0                            \n04  93  Alpes-de-Haute-Provence                     Provence-Alpes-Côte d'Azur                                                               583.0                            \n05  93  Hautes-Alpes                                Provence-Alpes-Côte d'Azur                                                               564.0                            \n...                                                                                                                                            ...                            \n984 984 Terres australes et antarctiques françaises Terres australes et antarctiques françaises                                                0.0                            \n986 COM Wallis-et-Futuna                            Collectivités d’outre-mer                                                                  0.0                            \n987 COM Polynésie française                         Collectivités d’outre-mer                                                                  0.0                            \n988 988 Nouvelle-Calédonie                          Nouvelle-Calédonie                                                                         0.0                            \n989 989 Île de Clipperton                           Île de Clipperton                                                                          0.0                            \n\nindex                                                                                            Prime à la conversion des véhicules légers/Nombre de primes à la conversion - DVP  \\\ndep reg departement                                 region                                                                                                                           \n01  84  Ain                                         Auvergne-Rhône-Alpes                                                                    1813.0                                   \n02  32  Aisne                                       Hauts-de-France                                                                         1490.0                                   \n03  84  Allier                                      Auvergne-Rhône-Alpes                                                                    1106.0                                   \n04  93  Alpes-de-Haute-Provence                     Provence-Alpes-Côte d'Azur                                                               678.0                                   \n05  93  Hautes-Alpes                                Provence-Alpes-Côte d'Azur                                                               547.0                                   \n...                                                                                                                                            ...                                   \n984 984 Terres australes et antarctiques françaises Terres australes et antarctiques françaises                                                0.0                                   \n986 COM Wallis-et-Futuna                            Collectivités d’outre-mer                                                                  0.0                                   \n987 COM Polynésie française                         Collectivités d’outre-mer                                                                  0.0                                   \n988 988 Nouvelle-Calédonie                          Nouvelle-Calédonie                                                                         0.0                                   \n989 989 Île de Clipperton                           Île de Clipperton                                                                          0.0                                   \n\nindex                                                                                            Relocalisation : soutien aux projets industriels dans les territoires/Nombre d’entreprises bénéficiaires - PIT  \\\ndep reg departement                                 region                                                                                                                                                        \n01  84  Ain                                         Auvergne-Rhône-Alpes                                                                       7.0                                                                \n02  32  Aisne                                       Hauts-de-France                                                                            5.0                                                                \n03  84  Allier                                      Auvergne-Rhône-Alpes                                                                       2.0                                                                \n04  93  Alpes-de-Haute-Provence                     Provence-Alpes-Côte d'Azur                                                                 7.0                                                                \n05  93  Hautes-Alpes                                Provence-Alpes-Côte d'Azur                                                                 3.0                                                                \n...                                                                                                                                            ...                                                                \n984 984 Terres australes et antarctiques françaises Terres australes et antarctiques françaises                                                0.0                                                                \n986 COM Wallis-et-Futuna                            Collectivités d’outre-mer                                                                  0.0                                                                \n987 COM Polynésie française                         Collectivités d’outre-mer                                                                  1.0                                                                \n988 988 Nouvelle-Calédonie                          Nouvelle-Calédonie                                                                         0.0                                                                \n989 989 Île de Clipperton                           Île de Clipperton                                                                          0.0                                                                \n\nindex                                                                                            Relocalisation : sécurisation des approvisionnements critiques/Nombre d’entreprises bénéficiaires - SAC  \\\ndep reg departement                                 region                                                                                                                                                 \n01  84  Ain                                         Auvergne-Rhône-Alpes                                                                       7.0                                                         \n02  32  Aisne                                       Hauts-de-France                                                                            3.0                                                         \n03  84  Allier                                      Auvergne-Rhône-Alpes                                                                       1.0                                                         \n04  93  Alpes-de-Haute-Provence                     Provence-Alpes-Côte d'Azur                                                                 0.0                                                         \n05  93  Hautes-Alpes                                Provence-Alpes-Côte d'Azur                                                                 3.0                                                         \n...                                                                                                                                            ...                                                         \n984 984 Terres australes et antarctiques françaises Terres australes et antarctiques françaises                                                0.0                                                         \n986 COM Wallis-et-Futuna                            Collectivités d’outre-mer                                                                  0.0                                                         \n987 COM Polynésie française                         Collectivités d’outre-mer                                                                  0.0                                                         \n988 988 Nouvelle-Calédonie                          Nouvelle-Calédonie                                                                         0.0                                                         \n989 989 Île de Clipperton                           Île de Clipperton                                                                          0.0                                                         \n\nindex                                                                                            Renforcement des subventions de Business France (chèque export, chèque VIE)/Nombre d’entreprises bénéficiaires - SBF  \\\ndep reg departement                                 region                                                                                                                                                              \n01  84  Ain                                         Auvergne-Rhône-Alpes                                                                      30.0                                                                      \n02  32  Aisne                                       Hauts-de-France                                                                           17.0                                                                      \n03  84  Allier                                      Auvergne-Rhône-Alpes                                                                      18.0                                                                      \n04  93  Alpes-de-Haute-Provence                     Provence-Alpes-Côte d'Azur                                                                13.0                                                                      \n05  93  Hautes-Alpes                                Provence-Alpes-Côte d'Azur                                                                 3.0                                                                      \n...                                                                                                                                            ...                                                                      \n984 984 Terres australes et antarctiques françaises Terres australes et antarctiques françaises                                                0.0                                                                      \n986 COM Wallis-et-Futuna                            Collectivités d’outre-mer                                                                  0.0                                                                      \n987 COM Polynésie française                         Collectivités d’outre-mer                                                                  0.0                                                                      \n988 988 Nouvelle-Calédonie                          Nouvelle-Calédonie                                                                         1.0                                                                      \n989 989 Île de Clipperton                           Île de Clipperton                                                                          0.0                                                                      \n\nindex                                                                                            Rénovation bâtiments Etat/Nombre de bâtiments Etat dont le marché de rénovation est notifié - RBE  \\\ndep reg departement                                 region                                                                                                                                           \n01  84  Ain                                         Auvergne-Rhône-Alpes                                                                       7.0                                                   \n02  32  Aisne                                       Hauts-de-France                                                                           13.0                                                   \n03  84  Allier                                      Auvergne-Rhône-Alpes                                                                       6.0                                                   \n04  93  Alpes-de-Haute-Provence                     Provence-Alpes-Côte d'Azur                                                                 4.0                                                   \n05  93  Hautes-Alpes                                Provence-Alpes-Côte d'Azur                                                                11.0                                                   \n...                                                                                                                                            ...                                                   \n984 984 Terres australes et antarctiques françaises Terres australes et antarctiques françaises                                                0.0                                                   \n986 COM Wallis-et-Futuna                            Collectivités d’outre-mer                                                                  0.0                                                   \n987 COM Polynésie française                         Collectivités d’outre-mer                                                                  6.0                                                   \n988 988 Nouvelle-Calédonie                          Nouvelle-Calédonie                                                                        20.0                                                   \n989 989 Île de Clipperton                           Île de Clipperton                                                                          0.0                                                   \n\nindex                                                                                            Nombre de bonus écologiques et de primes à la conversion versés  \\\ndep reg departement                                 region                                                                                                         \n01  84  Ain                                         Auvergne-Rhône-Alpes                                                                    3741.0                 \n02  32  Aisne                                       Hauts-de-France                                                                         2743.0                 \n03  84  Allier                                      Auvergne-Rhône-Alpes                                                                    1698.0                 \n04  93  Alpes-de-Haute-Provence                     Provence-Alpes-Côte d'Azur                                                              1134.0                 \n05  93  Hautes-Alpes                                Provence-Alpes-Côte d'Azur                                                               918.0                 \n...                                                                                                                                            ...                 \n984 984 Terres australes et antarctiques françaises Terres australes et antarctiques françaises                                                0.0                 \n986 COM Wallis-et-Futuna                            Collectivités d’outre-mer                                                                  0.0                 \n987 COM Polynésie française                         Collectivités d’outre-mer                                                                  0.0                 \n988 988 Nouvelle-Calédonie                          Nouvelle-Calédonie                                                                         0.0                 \n989 989 Île de Clipperton                           Île de Clipperton                                                                          0.0                 \n\nindex                                                                                            Nombre de projets industriels soutenus  \\\ndep reg departement                                 region                                                                                \n01  84  Ain                                         Auvergne-Rhône-Alpes                                                           24.0   \n02  32  Aisne                                       Hauts-de-France                                                                14.0   \n03  84  Allier                                      Auvergne-Rhône-Alpes                                                            7.0   \n04  93  Alpes-de-Haute-Provence                     Provence-Alpes-Côte d'Azur                                                      7.0   \n05  93  Hautes-Alpes                                Provence-Alpes-Côte d'Azur                                                      8.0   \n...                                                                                                                                 ...   \n984 984 Terres australes et antarctiques françaises Terres australes et antarctiques françaises                                     0.0   \n986 COM Wallis-et-Futuna                            Collectivités d’outre-mer                                                       0.0   \n987 COM Polynésie française                         Collectivités d’outre-mer                                                       1.0   \n988 988 Nouvelle-Calédonie                          Nouvelle-Calédonie                                                              0.0   \n989 989 Île de Clipperton                           Île de Clipperton                                                               0.0   \n\nindex                                                                                            Nombre de jeunes entrés en CIE et PEC  \ndep reg departement                                 region                                                                              \n01  84  Ain                                         Auvergne-Rhône-Alpes                                                         202.0  \n02  32  Aisne                                       Hauts-de-France                                                              422.0  \n03  84  Allier                                      Auvergne-Rhône-Alpes                                                         189.0  \n04  93  Alpes-de-Haute-Provence                     Provence-Alpes-Côte d'Azur                                                    77.0  \n05  93  Hautes-Alpes                                Provence-Alpes-Côte d'Azur                                                    58.0  \n...                                                                                                                                ...  \n984 984 Terres australes et antarctiques françaises Terres australes et antarctiques françaises                                    0.0  \n986 COM Wallis-et-Futuna                            Collectivités d’outre-mer                                                      0.0  \n987 COM Polynésie française                         Collectivités d’outre-mer                                                      0.0  \n988 988 Nouvelle-Calédonie                          Nouvelle-Calédonie                                                             0.0  \n989 989 Île de Clipperton                           Île de Clipperton                                                              0.0  \n\n[109 rows x 14 columns]"
     },
     "execution_count": 18,
     "metadata": {},
     "output_type": "execute_result"
    }
   ],
   "source": [
    "export[\"Nombre de bonus écologiques et de primes à la conversion versés\"] = \\\n",
    "    export[\"Prime à la conversion des véhicules légers/Nombre de primes à la conversion - DVP\"] + \\\n",
    "    export[\"Bonus écologique/Nombre de bonus octroyés à des véhicules électriques et hybrides rechargeables - BOE\"]\n",
    "\n",
    "export[\"Nombre de projets industriels soutenus\"] = (\n",
    "    export[\"Modernisation des filières automobiles et aéronautiques/Nombre d’entreprises - BPI\"] +\n",
    "    export[\"Relocalisation : soutien aux projets industriels dans les territoires/Nombre d’entreprises bénéficiaires - PIT\"] +\n",
    "    export[\"Relocalisation : sécurisation des approvisionnements critiques/Nombre d’entreprises bénéficiaires - SAC\"])\n",
    "\n",
    "export[\"Nombre de jeunes entrés en CIE et PEC\"] = (\n",
    "    export[\"PEC jeunes/Entrées de jeunes en PEC - PEC\"] +\n",
    "    export[\"CIE jeunes/Entrées de jeunes en CIE - CIE\"]\n",
    "\n",
    ")\n",
    "export"
   ]
  },
  {
   "cell_type": "code",
   "execution_count": 19,
   "metadata": {},
   "outputs": [],
   "source": [
    "mkdir_ifnotexist('exports')"
   ]
  },
  {
   "cell_type": "markdown",
   "metadata": {},
   "source": [
    "### Rénovation bâtiments états"
   ]
  },
  {
   "cell_type": "code",
   "execution_count": 27,
   "metadata": {},
   "outputs": [],
   "source": [
    "tcsv = export[\"Rénovation bâtiments Etat/Nombre de bâtiments Etat dont le marché de rénovation est notifié - RBE\"]\n",
    "tcsv.to_csv(\"exports/2_renovation_batiment_etat.csv\", sep=\";\")"
   ]
  },
  {
   "cell_type": "markdown",
   "metadata": {},
   "source": [
    "### Bonus écologique"
   ]
  },
  {
   "cell_type": "code",
   "execution_count": 21,
   "metadata": {},
   "outputs": [],
   "source": [
    "tcsv = export[\"Nombre de bonus écologiques et de primes à la conversion versés\"]\n",
    "tcsv.to_csv(\"exports/3_bonus_ecologique.csv\", sep=\";\")"
   ]
  },
  {
   "cell_type": "markdown",
   "metadata": {},
   "source": [
    "### Soutien industriel "
   ]
  },
  {
   "cell_type": "code",
   "execution_count": 22,
   "metadata": {},
   "outputs": [],
   "source": [
    "tcsv = export[\"Nombre de projets industriels soutenus\"]\n",
    "tcsv.to_csv(\"exports/4_soutien_industriel.csv\", sep=\";\")"
   ]
  },
  {
   "cell_type": "markdown",
   "metadata": {},
   "source": [
    "### Soutien Business France"
   ]
  },
  {
   "cell_type": "code",
   "execution_count": 23,
   "metadata": {},
   "outputs": [],
   "source": [
    "tcsv = export[\"Renforcement des subventions de Business France (chèque export, chèque VIE)/Nombre d’entreprises bénéficiaires - SBF\"]\n",
    "tcsv.to_csv(\"exports/5_cheque_export_vie_sbf.csv\", sep=\";\")"
   ]
  },
  {
   "cell_type": "markdown",
   "metadata": {},
   "source": [
    "### Apprentissage"
   ]
  },
  {
   "cell_type": "code",
   "execution_count": 24,
   "metadata": {},
   "outputs": [],
   "source": [
    "tcsv = export[\"Apprentissage/Nombre de contrats d’apprentissage bénéficiaires de l’aide exceptionnelle - APP\"]\n",
    "tcsv.to_csv(\"exports/6_apprentissage.csv\", sep=\";\")"
   ]
  },
  {
   "cell_type": "markdown",
   "metadata": {},
   "source": [
    "### Emploi Jeune"
   ]
  },
  {
   "cell_type": "code",
   "execution_count": 25,
   "metadata": {},
   "outputs": [],
   "source": [
    "tcsv = export[\"Prime à l'embauche des jeunes/Nombre d'aides à l'embauche des jeunes - PEJ\"]\n",
    "tcsv.to_csv(\"exports/7_embauche_jeunes.csv\", sep=\";\")"
   ]
  },
  {
   "cell_type": "markdown",
   "metadata": {},
   "source": [
    "### CIE/PEC"
   ]
  },
  {
   "cell_type": "code",
   "execution_count": 26,
   "metadata": {},
   "outputs": [],
   "source": [
    "tcsv = export[\"Nombre de jeunes entrés en CIE et PEC\"]\n",
    "tcsv.to_csv(\"exports/8_cie_pec.csv\", sep=\";\")"
   ]
  },
  {
   "cell_type": "code",
   "execution_count": null,
   "metadata": {},
   "outputs": [],
   "source": []
  }
 ],
 "metadata": {
  "kernelspec": {
   "display_name": "Python 3",
   "language": "python",
   "name": "python3"
  },
  "language_info": {
   "codemirror_mode": {
    "name": "ipython",
    "version": 3
   },
   "file_extension": ".py",
   "mimetype": "text/x-python",
   "name": "python",
   "nbconvert_exporter": "python",
   "pygments_lexer": "ipython3",
   "version": "3.8.3"
  }
 },
 "nbformat": 4,
 "nbformat_minor": 5
}