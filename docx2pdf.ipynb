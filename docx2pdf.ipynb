{
 "cells": [
  {
   "cell_type": "code",
   "execution_count": 1,
   "metadata": {},
   "outputs": [],
   "source": [
    "import os\n",
    "import re\n",
    "import pandas as pd\n",
    "from docx2python import docx2python\n",
    "from unidecode import unidecode\n",
    "from pprint import pprint\n",
    "import time\n",
    "import datetime"
   ]
  },
  {
   "cell_type": "code",
   "execution_count": 2,
   "metadata": {},
   "outputs": [],
   "source": [
    "# Import référentiel départements\n",
    "taxo_dep_df = pd.read_csv(os.path.join('refs', 'taxo_deps.csv'), dtype={'dep':str, 'reg':str})\n",
    "\n",
    "depname2num = {}\n",
    "for i, row in taxo_dep_df.iterrows():\n",
    "    if row['dep'] != '0':\n",
    "        depname2num[row['libelle']] = row['dep']\n",
    "depnum2name = {v: k for k, v in depname2num.items()}"
   ]
  },
  {
   "cell_type": "code",
   "execution_count": 3,
   "metadata": {},
   "outputs": [],
   "source": [
    "# Définition et création des dossiers\n",
    "DIR_TO_CONVERT = os.path.join(os.getcwd(), \"modified_reports\")\n",
    "OUTPUT_DIR = os.path.join(os.getcwd(), 'reports_pdf')\n",
    "\n",
    "def mkdir_ifnotexist(path) :\n",
    "    if not os.path.isdir(path) :\n",
    "        os.mkdir(path)\n",
    "        \n",
    "mkdir_ifnotexist(OUTPUT_DIR)"
   ]
  },
  {
   "cell_type": "code",
   "execution_count": 4,
   "metadata": {},
   "outputs": [
    {
     "name": "stderr",
     "output_type": "stream",
     "text": [
      "/home/mquentin-adc/.local/lib/python3.6/site-packages/docx2python/docx_text.py:136: UserWarning: none numbering format not implemented, substituting '--'\n",
      "  numFmt, nums.bullet()\n"
     ]
    }
   ],
   "source": [
    "def normalisation_name(name):\n",
    "    # Normalise le nom de la mesure ou volet, notamment pour l'utiliser comme nom de code dans les commentaires\n",
    "    name = name.lower()\n",
    "    name = unidecode(name)\n",
    "    name = re.sub('[^a-z]', ' ',  name)\n",
    "    name = re.sub(' +', '', name)\n",
    "    return name\n",
    "\n",
    "\n",
    "def get_dep_name_from_docx(docx_filename):\n",
    "    # Extraire le nom du département depuis la page de garde du docx\n",
    "    content = docx2python(docx_filename)\n",
    "    # Chercher la ligne \"Données pour le département :...\"\n",
    "    for line in content.body[0][0][0]:\n",
    "        if line.startswith(\"Données pour le département\"):\n",
    "            expr_with_dep_name = line\n",
    "            dep_name = expr_with_dep_name.split(':')[-1].strip()\n",
    "            return dep_name\n",
    "    raise Exception(f\"Pas de nom de département trouvé pour {docx_filename}\")\n",
    "\n",
    "\n",
    "def docxnames_to_pdfnames(base_dir):\n",
    "    # Lister les fichiers à convertir - ignorer les fichiers lock (.docx#)\n",
    "    docx_filenames = [os.path.join(base_dir, basename) for basename in os.listdir(base_dir) if not basename.endswith('#')]\n",
    "    docx2pdf_filename = {}\n",
    "    doc_odt = []\n",
    "    # Faire correspondre chaque nom de docx vers un nom de pdf - ex : \"75 - Suivi Territorial plan France relance Paris.pdf\"\n",
    "    for docx_filename in docx_filenames:\n",
    "        # Extraire le nom du département\n",
    "        if docx_filename.endswith(\"docx\"): #Condition pour ne traiter que les docx\n",
    "            dep_name = get_dep_name_from_docx(docx_filename)\n",
    "            clean_dep_name = normalisation_name(dep_name)\n",
    "            pdf_filename = f\"{depname2num[dep_name]} - Suivi Territorial plan France relance {dep_name}.pdf\"\n",
    "            # Ajout du nom de fichier original dans le dictionnaire pour vérifier les doublons\n",
    "            docx2pdf_filename[docx_filename] = pdf_filename\n",
    "        elif docx_filename.endswith(\"odt\"):\n",
    "            doc_odt += [docx_filename]\n",
    "        else: \n",
    "            raise ValueError(\"L'extension du document {} n'est pas pris en charge\".format(docx_filename))\n",
    "    return docx2pdf_filename, doc_odt\n",
    "\n",
    "\n",
    "def check_duclicated_docx(docx2pdf_filename):\n",
    "    # Les doublons auront le même nom de fichier pdf.\n",
    "    # Mapping pdf->[docx]\n",
    "    pdf2docx_filenames = {}\n",
    "    for docx_filename, pdf_filename in docx2pdf_filename.items():\n",
    "        if pdf_filename not in pdf2docx_filenames:\n",
    "            pdf2docx_filenames[pdf_filename] = []\n",
    "        pdf2docx_filenames[pdf_filename].append(docx_filename)\n",
    "    # Afficher les doublons\n",
    "    flag_duplication = False\n",
    "    for pdf_filename, docx_filenames in pdf2docx_filenames.items():\n",
    "        dep_name = pdf_filename.split(os.sep)[-1].split('.')[0].split('relance ')[-1]\n",
    "        if len(docx_filenames) > 1:\n",
    "            # Lister les fichiers dupliqués\n",
    "            print(f\"Dupliqués {dep_name} :\")\n",
    "            _ = [print(\"\\t\", docx_filename) for docx_filename in docx_filenames]\n",
    "            flag_duplication = True\n",
    "    assert not flag_duplication, \"Fichiers dupliqués : supprimez les fichiers en trop.\"\n",
    "    \n",
    "\n",
    "# Mapping docx -> nom pdf\n",
    "docx2pdf_filename, doc_odt = docxnames_to_pdfnames(DIR_TO_CONVERT)\n",
    "check_duclicated_docx(docx2pdf_filename)"
   ]
  },
  {
   "cell_type": "code",
   "execution_count": null,
   "metadata": {},
   "outputs": [],
   "source": [
    "date_today = datetime.date.today()\n",
    "if date_today.day >= 23:\n",
    "\n",
    "# Conversion docx -> pdf - Peut prendre quelques minutes\n",
    "# CAVEAT : Fermer les applications Libreoffice ouverte avant de lancer cette cellule\n",
    "    files_to_convert = docx2pdf_filename.keys()\n",
    "    for filename in files_to_convert:\n",
    "        # Conversion en pdf\n",
    "        !libreoffice --headless -convert-to pdf --outdir \"{OUTPUT_DIR}\" \"{filename}\"\n",
    "        \n",
    "    for filename in files_to_convert:    \n",
    "        clean_pdf_filename = docx2pdf_filename[filename]\n",
    "        pdf_basename = re.sub('.'+filename.split('.')[-1], '.pdf', os.path.basename(filename))\n",
    "        pdf_filename = os.path.join(OUTPUT_DIR, pdf_basename)\n",
    "        os.rename(pdf_filename, os.path.join(OUTPUT_DIR, clean_pdf_filename))\n",
    "\n",
    "    # Traitement des odt\n",
    "    #Creation du dictionnaire de renommage\n",
    "    renommage_odt = {}\n",
    "    for filename in doc_odt:\n",
    "        if \"plan relance\" in filename.lower():\n",
    "            dep_name = filename.split(\".odt\")[0]\n",
    "            dep_name = dep_name.split(\" \")[-1]\n",
    "            dep = depname2num[dep_name]\n",
    "            renommage_odt[filename] = str(dep) + \" - Suivi Territorial plan France relance \" + str(dep_name) + \".pdf\"\n",
    "        \n",
    "\n",
    "    for filename in doc_odt:\n",
    "        # Conversion en pdf\n",
    "        !libreoffice --headless -convert-to pdf --outdir \"{OUTPUT_DIR}\" \"{filename}\"\n",
    "        \n",
    "    for filename in doc_odt:\n",
    "        clean_pdf_filename = renommage_odt[filename]\n",
    "        pdf_basename = re.sub('.'+filename.split('.')[-1], '.pdf', os.path.basename(filename))\n",
    "        pdf_filename = os.path.join(OUTPUT_DIR, pdf_basename)\n",
    "        os.rename(pdf_filename, os.path.join(OUTPUT_DIR, clean_pdf_filename))"
   ]
  },
  {
   "cell_type": "code",
   "execution_count": 6,
   "metadata": {},
   "outputs": [],
   "source": [
    "# Vérifier qu'on a bien les 109 départements\n",
    "output_files = os.listdir(OUTPUT_DIR)\n",
    "hit_dep_nums = set()\n",
    "for output_file in output_files:\n",
    "    dep_num = output_file.split('-')[0].strip()  # Avoir le numéro département\n",
    "    hit_dep_nums.add(dep_num)\n",
    "\n",
    "# On regarde si tous les départements sont bien dans le dossier\n",
    "ref_dep_nums = set(depname2num.values())\n",
    "assert ref_dep_nums.issubset(hit_dep_nums), f'Missing {sorted([depnum2name[num] for num in ref_dep_nums - hit_dep_nums])}'\n",
    "assert len(hit_dep_nums) == 109, f\"{len(hit_dep_nums)} fichiers enregistrés / 109\""
   ]
  },
  {
   "cell_type": "code",
   "execution_count": 9,
   "metadata": {},
   "outputs": [],
   "source": [
    "if date_today.day < 23:\n",
    "    # Pour les fiches avant le passage osmose\n",
    "    docx2pdf_filename, doc_odt = docxnames_to_pdfnames(os.path.join(os.getcwd(), \"Fiche_Avant_Osmose\"))\n",
    "    output = os.path.join(os.getcwd(), \"Fiche_Avant_Osmose_pdf\")\n",
    "    # Conversion docx -> pdf - Peut prendre quelques minutes\n",
    "    # CAVEAT : Fermer les applications Libreoffice ouverte avant de lancer cette cellule\n",
    "    files_to_convert = docx2pdf_filename.keys()\n",
    "    for filename in files_to_convert:\n",
    "        # Conversion en pdf\n",
    "        !libreoffice --headless -convert-to pdf --outdir \"{output}\" \"{filename}\"\n",
    "        \n",
    "    for filename in files_to_convert:    \n",
    "        clean_pdf_filename = docx2pdf_filename[filename]\n",
    "        pdf_basename = re.sub('.'+filename.split('.')[-1], '.pdf', os.path.basename(filename))\n",
    "        pdf_filename = os.path.join(output, pdf_basename)\n",
    "        os.rename(pdf_filename, os.path.join(output, clean_pdf_filename))\n"
   ]
  },
  {
   "cell_type": "code",
   "execution_count": null,
   "metadata": {},
   "outputs": [],
   "source": []
  }
 ],
 "metadata": {
  "kernelspec": {
   "display_name": "Python 3.6.9 64-bit",
   "metadata": {
    "interpreter": {
     "hash": "31f2aee4e71d21fbe5cf8b01ff0e069b9275f58929596ceb00d14d90e3e16cd6"
    }
   },
   "name": "python3"
  },
  "language_info": {
   "codemirror_mode": {
    "name": "ipython",
    "version": 3
   },
   "file_extension": ".py",
   "mimetype": "text/x-python",
   "name": "python",
   "nbconvert_exporter": "python",
   "pygments_lexer": "ipython3",
   "version": "3.6.9"
  }
 },
 "nbformat": 4,
 "nbformat_minor": 4
}